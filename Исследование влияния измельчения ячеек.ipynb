{
 "cells": [
  {
   "cell_type": "code",
   "execution_count": 1,
   "metadata": {},
   "outputs": [],
   "source": [
    "from model_create import ModelGenerator, clear_folders\n",
    "clear_folders()\n",
    "# Параметры, которые необходимо расчитать:\n",
    "parameters = ['FOPT', 'WOPR:*']#, 'FPR', 'FWPT', 'FWCT', 'WBHP:P1', 'WGPR:P1', 'WGOR:P1'] #, 'FWPT', 'FLPT', 'FGPT', 'FWIT']\n",
    "\n",
    "# Зададим дату начала расчета и продолжительность:\n",
    "start_date = \"1 'JAN' 2020\"\n",
    "mounths = 12*5 # количество итераций;\n",
    "days = 36 # продолжительность итерации;\n",
    "\n",
    "# Зададим размеры модели:\n",
    "lgr = True # локальное измельчение сетки по центру;\n",
    "cells_cx = 4 # количество измельченных ячеек по x;\n",
    "nx = 24 # количество ячеек по х;\n",
    "nz = 12 # количество ячеек по z;\n",
    "lx = 750 # длина модели по x, м;\n",
    "ly = 1500 # длина модели по y, м;\n",
    "dz = 1 # размер ячейки по z, м;\n",
    "tops_depth = 2500 # глубина залегания пласта, м;\n",
    "\n",
    "# Зададим пористость и проницаемость:\n",
    "por = 0.3 # пористость, д.ед;\n",
    "permx = 20 # проницаемость по x, мД;\n",
    "permy = permx # проницаемость по y, мД;\n",
    "permz = permx*0.1 # проницаемость по z, мД;\n",
    "\n",
    "# Зададим название, расположение добываюещей скважины и ее режим работы:\n",
    "horizontal = [True] # Идентификатор горизонтальной скважины для скрипта\n",
    "prod_names = ['P1'] # название скважин;\n",
    "prod_xs=[12] # координата скважин по x;\n",
    "prod_z1s=[1] # начало интервала вскрытия по z;\n",
    "prod_z2s=[9] # конец интервала вскрытия по z (если horizontal=true, то показывает уровень вскрытия);\n",
    "rezim = ['ORAT'] # Режим работы скважины\n",
    "prod_q_oil = [150] # дебит, м3/сут;\n",
    "prod_bhp = ['200'] # забойное давление, атм;\n",
    "\n",
    "# Другие настройки модели:\n",
    "only_prod = True # Модель только с добывающими скважинами\n",
    "upr_rezim_water = True # Моделируем упруго-водонапорный режим\n",
    "upr_rezim_gas = True # Моделируем газонапорный режим\n",
    "neogr_plast = False # Моделируем неограниченный пласт\n",
    "\n",
    "# Задаем скин, радиус скважины (последовательно для добывающих и нагнетательных скважин):\n",
    "skin = [0]\n",
    "rw = [0.073]\n",
    "\n",
    "# Свойства продукции:\n",
    "oil_den = 896 # плотность нефти, кг/м3;\n",
    "wat_den = 1190 # плотность воды, кг/м3;\n",
    "gas_den = 0.9 # плотность газа, кг/м3;\n",
    "\n",
    "# Свойства поороды:\n",
    "rock_compr = 1.5E-005 # сжимаемость породы, Па^-1\n",
    "\n",
    "# EQUILIBRIUM DATA:\n",
    "p_depth = 2500 # Глубина замера пластового давления, м;\n",
    "p_init = 286  # Начальное пластовое давление, атм;\n",
    "o_w_contact = 2511 # Глубина ВНК, м;\n",
    "pc_woc = 0 # Капиллярное давление на ВНК \n",
    "g_o_contact = 2501 # Глубина ГНК, м;\n",
    "pc_goc = 0 # Капиллярное давление на ГНК"
   ]
  },
  {
   "cell_type": "code",
   "execution_count": 4,
   "metadata": {
    "scrolled": true
   },
   "outputs": [
    {
     "name": "stdout",
     "output_type": "stream",
     "text": [
      "Модель №0\n"
     ]
    },
    {
     "ename": "OSError",
     "evalue": "Failed to create summary instance from argument:model_folder/TEST_MODEL.0.DATA",
     "output_type": "error",
     "traceback": [
      "\u001b[0;31m---------------------------------------------------------------------------\u001b[0m",
      "\u001b[0;31mOSError\u001b[0m                                   Traceback (most recent call last)",
      "\u001b[0;32m<ipython-input-4-67d3736ca0c8>\u001b[0m in \u001b[0;36m<module>\u001b[0;34m\u001b[0m\n\u001b[1;32m     23\u001b[0m                      \u001b[0mlgr\u001b[0m\u001b[0;34m=\u001b[0m\u001b[0mlgr\u001b[0m\u001b[0;34m,\u001b[0m \u001b[0mlx\u001b[0m\u001b[0;34m=\u001b[0m\u001b[0mlx\u001b[0m\u001b[0;34m,\u001b[0m \u001b[0mly\u001b[0m\u001b[0;34m=\u001b[0m\u001b[0mly\u001b[0m\u001b[0;34m,\u001b[0m \u001b[0mcells_cy\u001b[0m\u001b[0;34m=\u001b[0m\u001b[0mcells_cy\u001b[0m\u001b[0;34m[\u001b[0m\u001b[0mi\u001b[0m\u001b[0;34m]\u001b[0m\u001b[0;34m,\u001b[0m \u001b[0mcells_v\u001b[0m\u001b[0;34m=\u001b[0m\u001b[0mcells_v\u001b[0m\u001b[0;34m[\u001b[0m\u001b[0mi\u001b[0m\u001b[0;34m]\u001b[0m\u001b[0;34m,\u001b[0m \u001b[0mcells_cx\u001b[0m\u001b[0;34m=\u001b[0m\u001b[0mcells_cx\u001b[0m\u001b[0;34m,\u001b[0m\u001b[0;34m\u001b[0m\u001b[0;34m\u001b[0m\u001b[0m\n\u001b[1;32m     24\u001b[0m                      upr_rezim_water=upr_rezim_water, upr_rezim_gas=upr_rezim_gas, rw=rw, template=template, neogr=neogr_plast)\n\u001b[0;32m---> 25\u001b[0;31m     \u001b[0mmodel\u001b[0m\u001b[0;34m.\u001b[0m\u001b[0mcreate_model\u001b[0m\u001b[0;34m(\u001b[0m\u001b[0mmodel_name\u001b[0m\u001b[0;34m,\u001b[0m \u001b[0mresult_name\u001b[0m\u001b[0;34m,\u001b[0m \u001b[0mparameters\u001b[0m\u001b[0;34m)\u001b[0m\u001b[0;34m\u001b[0m\u001b[0;34m\u001b[0m\u001b[0m\n\u001b[0m",
      "\u001b[0;32m~/Desktop/analysis_of_horizontal_wells/model_create.py\u001b[0m in \u001b[0;36mcreate_model\u001b[0;34m(self, name, result_name, keys)\u001b[0m\n\u001b[1;32m    266\u001b[0m         \u001b[0;32mif\u001b[0m \u001b[0mself\u001b[0m\u001b[0;34m.\u001b[0m\u001b[0mtemplate\u001b[0m \u001b[0;34m==\u001b[0m \u001b[0;36m1\u001b[0m \u001b[0;32mor\u001b[0m \u001b[0mself\u001b[0m\u001b[0;34m.\u001b[0m\u001b[0mtemplate\u001b[0m \u001b[0;34m==\u001b[0m \u001b[0;36m3\u001b[0m\u001b[0;34m:\u001b[0m\u001b[0;34m\u001b[0m\u001b[0;34m\u001b[0m\u001b[0m\n\u001b[1;32m    267\u001b[0m             \u001b[0mself\u001b[0m\u001b[0;34m.\u001b[0m\u001b[0mcalculate_file\u001b[0m\u001b[0;34m(\u001b[0m\u001b[0mname\u001b[0m\u001b[0;34m)\u001b[0m\u001b[0;34m\u001b[0m\u001b[0;34m\u001b[0m\u001b[0m\n\u001b[0;32m--> 268\u001b[0;31m             \u001b[0mself\u001b[0m\u001b[0;34m.\u001b[0m\u001b[0mcreate_result\u001b[0m\u001b[0;34m(\u001b[0m\u001b[0mname\u001b[0m\u001b[0;34m=\u001b[0m\u001b[0mname\u001b[0m\u001b[0;34m,\u001b[0m \u001b[0mkeys\u001b[0m\u001b[0;34m=\u001b[0m\u001b[0mkeys\u001b[0m\u001b[0;34m)\u001b[0m\u001b[0;34m\u001b[0m\u001b[0;34m\u001b[0m\u001b[0m\n\u001b[0m\u001b[1;32m    269\u001b[0m             \u001b[0mself\u001b[0m\u001b[0;34m.\u001b[0m\u001b[0mread_result\u001b[0m\u001b[0;34m(\u001b[0m\u001b[0mname\u001b[0m\u001b[0;34m=\u001b[0m\u001b[0mresult_name\u001b[0m\u001b[0;34m)\u001b[0m\u001b[0;34m\u001b[0m\u001b[0;34m\u001b[0m\u001b[0m\n\u001b[1;32m    270\u001b[0m \u001b[0;34m\u001b[0m\u001b[0m\n",
      "\u001b[0;32m~/Desktop/analysis_of_horizontal_wells/model_create.py\u001b[0m in \u001b[0;36mcreate_result\u001b[0;34m(name, keys)\u001b[0m\n\u001b[1;32m    280\u001b[0m     \u001b[0;34m@\u001b[0m\u001b[0mstaticmethod\u001b[0m\u001b[0;34m\u001b[0m\u001b[0;34m\u001b[0m\u001b[0m\n\u001b[1;32m    281\u001b[0m     \u001b[0;32mdef\u001b[0m \u001b[0mcreate_result\u001b[0m\u001b[0;34m(\u001b[0m\u001b[0mname\u001b[0m\u001b[0;34m,\u001b[0m \u001b[0mkeys\u001b[0m\u001b[0;34m)\u001b[0m\u001b[0;34m:\u001b[0m\u001b[0;34m\u001b[0m\u001b[0;34m\u001b[0m\u001b[0m\n\u001b[0;32m--> 282\u001b[0;31m         \u001b[0msummary\u001b[0m \u001b[0;34m=\u001b[0m \u001b[0mEclSum\u001b[0m\u001b[0;34m(\u001b[0m\u001b[0;34m'model_folder/%s.DATA'\u001b[0m \u001b[0;34m%\u001b[0m \u001b[0mname\u001b[0m\u001b[0;34m)\u001b[0m\u001b[0;34m\u001b[0m\u001b[0;34m\u001b[0m\u001b[0m\n\u001b[0m\u001b[1;32m    283\u001b[0m         \u001b[0mdates\u001b[0m \u001b[0;34m=\u001b[0m \u001b[0msummary\u001b[0m\u001b[0;34m.\u001b[0m\u001b[0mdates\u001b[0m\u001b[0;34m\u001b[0m\u001b[0;34m\u001b[0m\u001b[0m\n\u001b[1;32m    284\u001b[0m         \u001b[0mresults\u001b[0m \u001b[0;34m=\u001b[0m \u001b[0;34m[\u001b[0m\u001b[0;34m]\u001b[0m\u001b[0;34m\u001b[0m\u001b[0;34m\u001b[0m\u001b[0m\n",
      "\u001b[0;32m~/.local/lib/python3.9/site-packages/ecl/summary/ecl_sum.py\u001b[0m in \u001b[0;36m__init__\u001b[0;34m(self, load_case, join_string, include_restart, lazy_load, file_options)\u001b[0m\n\u001b[1;32m    183\u001b[0m         \u001b[0mc_pointer\u001b[0m \u001b[0;34m=\u001b[0m \u001b[0mself\u001b[0m\u001b[0;34m.\u001b[0m\u001b[0m_fread_alloc_case2\u001b[0m\u001b[0;34m(\u001b[0m\u001b[0mload_case\u001b[0m\u001b[0;34m,\u001b[0m \u001b[0mjoin_string\u001b[0m\u001b[0;34m,\u001b[0m \u001b[0minclude_restart\u001b[0m\u001b[0;34m,\u001b[0m \u001b[0mlazy_load\u001b[0m\u001b[0;34m,\u001b[0m \u001b[0mfile_options\u001b[0m\u001b[0;34m)\u001b[0m\u001b[0;34m\u001b[0m\u001b[0;34m\u001b[0m\u001b[0m\n\u001b[1;32m    184\u001b[0m         \u001b[0;32mif\u001b[0m \u001b[0mc_pointer\u001b[0m \u001b[0;32mis\u001b[0m \u001b[0;32mNone\u001b[0m\u001b[0;34m:\u001b[0m\u001b[0;34m\u001b[0m\u001b[0;34m\u001b[0m\u001b[0m\n\u001b[0;32m--> 185\u001b[0;31m             \u001b[0;32mraise\u001b[0m \u001b[0mIOError\u001b[0m\u001b[0;34m(\u001b[0m\u001b[0;34m\"Failed to create summary instance from argument:%s\"\u001b[0m \u001b[0;34m%\u001b[0m \u001b[0mload_case\u001b[0m\u001b[0;34m)\u001b[0m\u001b[0;34m\u001b[0m\u001b[0;34m\u001b[0m\u001b[0m\n\u001b[0m\u001b[1;32m    186\u001b[0m \u001b[0;34m\u001b[0m\u001b[0m\n\u001b[1;32m    187\u001b[0m         \u001b[0msuper\u001b[0m\u001b[0;34m(\u001b[0m\u001b[0mEclSum\u001b[0m\u001b[0;34m,\u001b[0m \u001b[0mself\u001b[0m\u001b[0;34m)\u001b[0m\u001b[0;34m.\u001b[0m\u001b[0m__init__\u001b[0m\u001b[0;34m(\u001b[0m\u001b[0mc_pointer\u001b[0m\u001b[0;34m)\u001b[0m\u001b[0;34m\u001b[0m\u001b[0;34m\u001b[0m\u001b[0m\n",
      "\u001b[0;31mOSError\u001b[0m: Failed to create summary instance from argument:model_folder/TEST_MODEL.0.DATA"
     ]
    }
   ],
   "source": [
    "#выбираем шаблон data файла для различных симуляторов\n",
    "template = 3 \n",
    "\n",
    "model_list = []\n",
    "prod_ys=[[41], [11],[11],[10], [10]] # координата скважин по y (если horizontal=true - начальная координата);\n",
    "y_stop = [[240], [30],[20],[17], [13]] # координата конца горизонтальной скважины, если horizontal=true;\n",
    "ny = [280, 40, 30, 26, 22] # количество ячеек по y;\n",
    "cells_cy = [200, 20, 10, 8, 4] # количество измельченных ячеек по y;\n",
    "cells_v = [1, 10, 20, 25, 50] # размер измельченных ячеек, м;\n",
    "for i in range(0, 5):\n",
    "    print(f'Модель №{i}')\n",
    "    model_list.append(' размер центральных ячеек - ' + str(cells_v[i])) \n",
    "    model_name = f'TEST_MODEL.{i}' # осторожно с названием модели, могут быть ошибки;\n",
    "    result_name = model_name\n",
    "    model = ModelGenerator(start_date=start_date, mounths=mounths,\n",
    "                     days=days, nx=nx, ny=ny[i], nz=nz, dz=dz, por=por, permx=permx,\n",
    "                     permy=permy, permz=permz, prod_names=prod_names, prod_xs=prod_xs,\n",
    "                     prod_ys=prod_ys[i], prod_z1s=prod_z1s, prod_z2s=prod_z2s, prod_q_oil=prod_q_oil,\n",
    "                     skin=skin, oil_den=oil_den, wat_den=wat_den, gas_den=gas_den, p_depth=p_depth, \n",
    "                     p_init=p_init, o_w_contact=o_w_contact, pc_woc=pc_woc, g_o_contact=g_o_contact,\n",
    "                     pc_goc=pc_goc, tops_depth = tops_depth, rock_compr=rock_compr,\n",
    "                     rezim=rezim, prod_bhp=prod_bhp, horizontal=horizontal, y_stop=y_stop[i], only_prod=only_prod,\n",
    "                     lgr=lgr, lx=lx, ly=ly, cells_cy=cells_cy[i], cells_v=cells_v[i], cells_cx=cells_cx,\n",
    "                     upr_rezim_water=upr_rezim_water, upr_rezim_gas=upr_rezim_gas, rw=rw, template=template, neogr=neogr_plast)\n",
    "    model.create_model(model_name, result_name, parameters)"
   ]
  },
  {
   "cell_type": "code",
   "execution_count": null,
   "metadata": {},
   "outputs": [],
   "source": [
    "title = 'Динамика дебита нефти по годам'\n",
    "x_axis = 'Дата'\n",
    "y_axis = 'qн, м3/сут'\n",
    "model.summ_plot(['WOPR:P1'], x_axis=x_axis, y_axis=y_axis, title=title, name=model_list)"
   ]
  },
  {
   "cell_type": "code",
   "execution_count": null,
   "metadata": {},
   "outputs": [],
   "source": [
    "title = 'Динамика накопленной добычи нефти по годам'\n",
    "x_axis = 'Дата'\n",
    "y_axis = 'Qнак, м3'\n",
    "model.summ_plot(['FOPT'], x_axis=x_axis, y_axis=y_axis, title=title, name=model_list)"
   ]
  },
  {
   "cell_type": "code",
   "execution_count": null,
   "metadata": {},
   "outputs": [],
   "source": [
    "import pandas as pd\n",
    "import os \n",
    "\n",
    "print(f'Эталонное измельчение - {cells_v[0]} м')\n",
    "directory = \"csv_folder/\"\n",
    "files = [f for f in os.listdir(directory)]\n",
    "files.sort(key=lambda x:int(x.split('.')[1]))\n",
    "i = 0\n",
    "for file in files:\n",
    "    if i == 0:\n",
    "        df_etal = pd.read_csv('csv_folder/%s' % file, parse_dates=[0], index_col=[0])\n",
    "    df = pd.read_csv('csv_folder/%s' % file, parse_dates=[0], index_col=[0])\n",
    "    dev = (df['FOPT'][-1]-df_etal['FOPT'][-1])/df_etal['FOPT'][-1]*100\n",
    "    print(f'Ошибка от измельчения {cells_v[i]} м: ' + str(dev) + ' %')\n",
    "    i += 1"
   ]
  }
 ],
 "metadata": {
  "kernelspec": {
   "display_name": "Python 3",
   "language": "python",
   "name": "python3"
  },
  "language_info": {
   "codemirror_mode": {
    "name": "ipython",
    "version": 3
   },
   "file_extension": ".py",
   "mimetype": "text/x-python",
   "name": "python",
   "nbconvert_exporter": "python",
   "pygments_lexer": "ipython3",
   "version": "3.9.1"
  }
 },
 "nbformat": 4,
 "nbformat_minor": 4
}
