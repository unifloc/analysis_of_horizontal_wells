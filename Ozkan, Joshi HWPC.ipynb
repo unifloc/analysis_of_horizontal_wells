{
 "cells": [
  {
   "cell_type": "markdown",
   "id": "fantastic-delight",
   "metadata": {},
   "source": [
    "Свойкин Е.В. 2021 г.\n",
    "\n",
    "### Вычисление продуктивности горизонтальной скважины по корреляциям Joshi и Ozkan\n",
    "\n",
    "Безразмерный коэффициент продуктивности горизонатльной скважины на установившемся режиме рассчитывается следующим образом:\n",
    "\n",
    "$$ J_d = \\frac{1}{(Log(\\frac{r_e}{r_w}) + S_h)} $$\n",
    "\n",
    "Где Ozkan предложил следующие коэффициенты:\n",
    "\n",
    "$$ S_h = -log(\\frac{L}{4r_w}) - \\frac{hα^{-0.5}}{L} Log(4sin(\\frac{π(z_w + \\frac{r_w}{2α^{-0.5}})}{h})) sin(\\frac{πr_w}{2α^{-0.5}h}) $$\n",
    "\n",
    "Joshi в свою очередь:\n",
    "\n",
    "$$ S_h = -Log(\\frac{r_e}{r_w}) + Log(\\frac{2a + (4a^{2} - L^{2})^{0.5}}{L}) + \\frac{α^{-0.5}h}{L} \\frac{log(α^{-0.5}(h^{2}+4(|\\frac{h}{2} - z_w|)^{2})}{\\frac{(α^{-0.5} + 1)}{h r_w}} $$\n",
    "\n",
    "$$ a = \\frac{L(1 + (1 + 64(\\frac{r_e}{L})^{4})^{0.5})^{0.5}}{2\\sqrt{2}} $$\n",
    "\n",
    "где: $ α = \\frac{k_v}{k_h} $\n",
    "\n",
    "Псевдорадиальный скин-фактор:\n",
    "\n",
    "$$ S_{Jdss} = \\frac{1}{J_d} - Log(\\frac{r_e}{r_w}) $$\n",
    "\n",
    "Дебит на установившемся режиме:\n",
    "\n",
    "$$ Q_{Jd} = \\frac{kh}{18.41mu}\\frac{dP}{B} J_d $$\n",
    "\n",
    "ref \"Ozkan (SPE 16378)\"\n",
    "\n",
    "ref \"Joshi (Horizontal Well Technology book) and it's Economides modification to anisotropic reservoir (SPE 20717)\""
   ]
  },
  {
   "cell_type": "code",
   "execution_count": 2,
   "id": "weighted-plastic",
   "metadata": {},
   "outputs": [],
   "source": [
    "from model_create import ModelGenerator, clear_folders\n",
    "clear_folders()\n",
    "# Параметры, которые необходимо расчитать:\n",
    "parameters = ['FOPT', 'WOPR:*', 'FPR', 'WBHP:P1',]# 'FWPT', 'FLPT', 'FGPT', 'FWIT']\n",
    "\n",
    "# Зададим дату начала расчета и продолжительность:\n",
    "start_date = u\"1 'JAN' 2020\"\n",
    "mounths = 5 # количество итераций;\n",
    "days = 60 # продолжительность итерации;\n",
    "\n",
    "# Зададим размеры модели:\n",
    "lgr = True # локальное измельчение сетки по центру;\n",
    "cells_cy = 20 # количество измельченных ячеек по y;\n",
    "cells_cx = 4 # количество измельченных ячеек по x;\n",
    "cells_v = 10 # размер измельченных ячеек, м;\n",
    "nx = 42 # количество ячеек по х;\n",
    "ny = 42 # количество ячеек по y;\n",
    "nz = 10 # количество ячеек по z;\n",
    "dx = 35.7\n",
    "dy = 35.7\n",
    "lx = 1500 # длина модели по x, м;\n",
    "ly = lx # длина модели по y, м;\n",
    "dz = 1 # размер ячейки по z, м;\n",
    "tops_depth = 2500 # глубина залегания пласта, м;\n",
    "\n",
    "# Зададим пористость и проницаемость:\n",
    "por = 0.3 # пористость, д.ед;\n",
    "\n",
    "# Зададим название, расположение добываюещей скважины и ее режим работы:\n",
    "horizontal = [True] # Идентификатор горизонтальной скважины для скрипта\n",
    "prod_names = ['P1'] # название скважин;\n",
    "prod_xs=[20] # координата скважин по x;\n",
    "prod_ys=[12] # координата скважин по y (если horizontal=true - начальная координата);\n",
    "y_stop = [32] # координата конца горизонтальной скважины, если horizontal=true;\n",
    "prod_z1s=[1] # начало интервала вскрытия по z;\n",
    "prod_z2s=[6] # конец интервала вскрытия по z (если horizontal=true, то показывает уровень вскрытия);\n",
    "rezim = ['BHP'] # Режим работы скважины\n",
    "prod_q_oil = ['1*'] # дебит, м3/сут;\n",
    "prod_bhp = ['200'] # забойное давление, атм;\n",
    "\n",
    "# Другие настройки модели:\n",
    "only_prod = True # Модель только с добывающими скважинами\n",
    "upr_rezim_water = False # Моделируем упруго-водонапорный режим\n",
    "upr_rezim_gas = False # Моделируем газонапорный режим\n",
    "neogr_plast = True # Моделируем неограниченный пласт\n",
    "\n",
    "# Задаем скин, радиус скважины (последовательно для добывающих и нагнетательных скважин):\n",
    "skin = [0]\n",
    "rw = [0.078]\n",
    "\n",
    "# Свойства продукции:\n",
    "oil_den = 896 # плотность нефти, кг/м3;\n",
    "wat_den = 1190 # плотность воды, кг/м3;\n",
    "gas_den = 0.9 # плотность газа, кг/м3;\n",
    "\n",
    "# Свойства поороды:\n",
    "rock_compr = 1.5E-005 # сжимаемость породы, Па^-1\n",
    "\n",
    "# EQUILIBRIUM DATA:\n",
    "p_depth = 2500 # Глубина замера пластового давления, м;\n",
    "p_init = 286  # Начальное пластовое давление, атм;\n",
    "o_w_contact = 2550 # Глубина ВНК, м;\n",
    "pc_woc = 0 # Капиллярное давление на ВНК \n",
    "g_o_contact = 2400 # Глубина ГНК, м;\n",
    "pc_goc = 0 # Капиллярное давление на ГНК"
   ]
  },
  {
   "cell_type": "code",
   "execution_count": 3,
   "id": "veterinary-canada",
   "metadata": {},
   "outputs": [],
   "source": [
    "#выбираем шаблон data файла для различных симуляторов\n",
    "template = 2 # : 1-opm; 2-ecl (в разработке)\n",
    "permx_list = [5, 50, 200] # проницаемость по x, мД;\n",
    "kk = [0.25, 0.5, 1, 3]\n",
    "model_list = []\n",
    "for j in range(1, 2):\n",
    "    for i in range(0, 1):\n",
    "        permx = permx_list[i]\n",
    "        permy = permx_list[i] # проницаемость по y, мД;\n",
    "        permz = permx_list[i]*kk[j] # проницаемость по z, мД;\n",
    "        model_name = f'TEST_MODEL_HORIZONTAL.{j}{i}'\n",
    "        result_name = model_name\n",
    "        model_list.append(' горизонтальная проницаемость - ' + str(permx) + ' мД; анизотропия - ' + str(kk[j]))\n",
    "        model = ModelGenerator(start_date=start_date, mounths=mounths,\n",
    "                        days=days, nx=nx, ny=ny, nz=nz, dz=dz, dx=dx, dy=dy, por=por, permx=permx,\n",
    "                        permy=permy, permz=permz, prod_names=prod_names, prod_xs=prod_xs,\n",
    "                        prod_ys=prod_ys, prod_z1s=prod_z1s, prod_z2s=prod_z2s, prod_q_oil=prod_q_oil,\n",
    "                        skin=skin, oil_den=oil_den, wat_den=wat_den, gas_den=gas_den, p_depth=p_depth, \n",
    "                        p_init=p_init, o_w_contact=o_w_contact, pc_woc=pc_woc, g_o_contact=g_o_contact,\n",
    "                        pc_goc=pc_goc, tops_depth = tops_depth, rock_compr=rock_compr,\n",
    "                        rezim=rezim, prod_bhp=prod_bhp, horizontal=horizontal, y_stop=y_stop, only_prod=only_prod,\n",
    "                        upr_rezim_water=upr_rezim_water, upr_rezim_gas=upr_rezim_gas, rw=rw, template=template, neogr=neogr_plast)\n",
    "        model.create_model(model_name, result_name, parameters)"
   ]
  },
  {
   "cell_type": "markdown",
   "id": "coordinated-computer",
   "metadata": {},
   "source": [
    "Локальное измельчение в Eclipse можно задать двумя ключевыми словами:\n",
    " * `` AUTOREF\n",
    " 3 3 1 / в RUNSEPEC`` в RUNSPEC\n",
    " \n",
    " \n",
    " * ``AUTOCOAR\n",
    "-- I1 I2 J1 J2 K1 K2 NX NY NY\n",
    " 1 15 1 42 1 10 15 42 10 /\n",
    " 25 42 1 42 1 10 18 42 10 /\n",
    "/ `` в GRID\n",
    " "
   ]
  },
  {
   "cell_type": "code",
   "execution_count": 3,
   "id": "settled-islam",
   "metadata": {},
   "outputs": [],
   "source": [
    "import math as m\n",
    "\n",
    "def Jd_horizontal(rw, h, alpha, L, zw, re, Flag):\n",
    "    'Вычисление продуктивности горизонтальной скважины и псевдоскин-фактора'\n",
    "\n",
    "    if Flag == 1:   \n",
    "        'выбор корреляции для расчета Ozkan (SPE 16378) '\n",
    "        Sh = -m.log(L / 4 / rw) - h * alpha ** (-0.5) / L * m.log(4 * m.sin(3.14 / h * (zw + rw / 2 / alpha ** (-0.5))) * m.sin(3.14 * rw / 2 / alpha ** (-0.5) / h))\n",
    "    elif Flag == 2:         \n",
    "        'Joshi (Horizontal Well Technology book) '\n",
    "        'and it\"s Economides modification to anisotropic reservoir (SPE 20717)'\n",
    "        a = L / 2 / 2 ** 0.5 * (1 + (1 + 64 * (re / L) ** 4) ** 0.5) ** 0.5\n",
    "        Sh = -m.log(re / rw) + m.log((2 * a + (4 * a ** 2 - L ** 2) ** 0.5) / L) + alpha ** (-0.5) * h / L * m.log(alpha ** (-0.5) * (h ** 2 + 4 * (abs(h / 2 - zw)) ** 2) / (alpha ** (-0.5) + 1) / h / rw)\n",
    "#     elif Flag == 3:\n",
    "#        ' Borisov (1964)'\n",
    "#         '    Sh = -m.log(L / 4 / rw)\n",
    "#         '     + h * alpha ** (-0.5) / L / m.log(h * alpha ** (-0.5) / 3.14 / rw / (alpha ** (-0.5) + 1))\n",
    "\n",
    "    Jd = 1 / (m.log(re / rw) + Sh)\n",
    "    return Jd\n",
    "\n",
    "\n",
    "def Q_from_Jd(Jd, k, h, mu, B, dp):\n",
    "\n",
    "    Q = k * h * dp / 18.41 / mu / B * Jd\n",
    "    return Q\n",
    "\n",
    "\n",
    "def S_from_Jdss(Jd, rw, re):\n",
    "\n",
    "    S = 1 / Jd - m.log(re / rw)\n",
    "    return S\n"
   ]
  },
  {
   "cell_type": "code",
   "execution_count": 4,
   "id": "level-cowboy",
   "metadata": {},
   "outputs": [],
   "source": [
    "# Расчет продуктивности горизонатльной скважины на установившемся режиме\n",
    "# Horizontal Well Productivity calculation (Ozkan model, 1989 and Joshi model, 1988)\n",
    "# надо найти литературу\n",
    "#model = 1 # 1-Ozkan; 2-Joshi;\n",
    "def HWP(kk, h, re, rw, L, zw, model, mu, B, dP):\n",
    "#     if model == 1:\n",
    "#         print('Lmin: ' + str(round(8.6*kk**(-0.5)*h,1)))\n",
    "#         print('Lmax: ' + str(round(2*re,1)))\n",
    "#     elif model == 2:\n",
    "#         print('Lmin: ' + str(round(kk**(-0.5)*h,1)))\n",
    "#         print('Lmax: ' + str(round(1.8*re,1)))\n",
    "\n",
    "    Jd = round(Jd_horizontal(rw, h, kk, L, zw, re, model),2)\n",
    "    Sh = round(S_from_Jdss(Jd, rw, re),2)\n",
    "    Qh = Q_from_Jd(Jd, kh, h, mu, B, dP)\n",
    "    return Qh"
   ]
  },
  {
   "cell_type": "code",
   "execution_count": 5,
   "id": "protected-masters",
   "metadata": {},
   "outputs": [],
   "source": [
    "# Вариант №2\n",
    "# Батлер - приток на псевдоустановившемся режиме к протяженной горизонтальной скважине 147 с.\n",
    "def bat_2(lx, dP, permx, mu, permz, rw, h, L, B):\n",
    "    pi = 3.14\n",
    "    Rк = lx/2 # м, радиус контура питания\n",
    "    dP = dP/10*10**6 # Па, перепад давления\n",
    "    kh = permx/10**15 # м2, проницаемость (в числовой модели изотропный пласт)\n",
    "    mu = mu/1000 # Па*с, вязкость\n",
    "    kv = permz/10**15\n",
    "    Rm = 0.5*rw*(1+m.sqrt(kh/kv))\n",
    "    hm = h*m.sqrt(kh/kv)\n",
    "    Q5 = (6*kh*L*h*dP)/(mu*(lx/2+3*hm/3.14*m.log1p(hm/2/3.14/Rm)))*86400/B*2\n",
    "    return Q5"
   ]
  },
  {
   "cell_type": "code",
   "execution_count": 6,
   "id": "searching-curtis",
   "metadata": {},
   "outputs": [],
   "source": [
    "def bat_1(lx, dP, permx, mu, permz, rw, h, L, B):\n",
    "    pi = 3.14\n",
    "    Rк = lx/2 # м, радиус контура питания\n",
    "    dP = dP/10*10**6 # Па, перепад давления\n",
    "    kh = permx/10**15 # м2, проницаемость (в числовой модели изотропный пласт)\n",
    "    mu = mu/1000 # Па*с, вязкость\n",
    "    a = lx # м, сторона модели\n",
    "    kv = permz/10**15\n",
    "    Rm = 0.5*rw*(1+m.sqrt(kh/kv))\n",
    "    hm = h*m.sqrt(kh/kv) # lx\n",
    "    Q5 = (6*kh*L*h*dP)/(mu*lx/2)*86400/B*2\n",
    "    return Q5"
   ]
  },
  {
   "cell_type": "code",
   "execution_count": 7,
   "id": "reflected-religion",
   "metadata": {},
   "outputs": [],
   "source": [
    "def bat_3(S, lx, ly, L, permx, permz, rw, h, dP, mu, B):\n",
    "    A = lx*ly\n",
    "    prow = A/(L**2) \n",
    "    if prow < 35:\n",
    "        P = m.log1p(1+prow)/12\n",
    "    else:\n",
    "        P = (m.log1p(prow)+0.1515)/(4*3.14)\n",
    "    kh = permx/10**15 # м2, проницаемость (в числовой модели изотропный пласт)\n",
    "    kv = permz/10**15\n",
    "    mu = mu/1000 # Па*с, вязкость\n",
    "    dP = dP/10*10**6 # Па, перепад давления\n",
    "    hm = h*m.sqrt(kh/kv)\n",
    "    Rm = 0.5*rw*(1+m.sqrt(kh/kv))\n",
    "    # учет вертикального схождения\n",
    "    #P_ = 0\n",
    "    P_ = hm/(2*3.14*L)*(m.log1p(hm/(2*3.14*Rm*m.sin(3.14/2)))+S)\n",
    "    Q1 = kh*h*dP/mu/(P_+P)*86400/B\n",
    "    return Q1"
   ]
  },
  {
   "cell_type": "code",
   "execution_count": 35,
   "id": "solid-quebec",
   "metadata": {},
   "outputs": [],
   "source": [
    "# метод для добавления данных на график\n",
    "import pandas as pd \n",
    "import plotly.graph_objects as go\n",
    "from plotly.offline import iplot\n",
    "from ecl2df import pvt, EclFiles\n",
    "import numpy as np\n",
    "import scipy.interpolate\n",
    "\n",
    "def figure_plot(rw, kh, h, kk, L, zw, re, lx, ly, S, start_date, title):\n",
    "    # Получаем забойное и пластовое давление на все иттерации\n",
    "    start_date = pd.to_datetime(start_date)\n",
    "    fig = go.Figure()\n",
    "    trace_name = ['Ozkan', 'Joshi', 'протяж. горизонт. скв.', 'конеч. вертик. трещина', 'вертикальная трещина']\n",
    "    for k in range(0, 1):\n",
    "        filename = f'TEST_MODEL_HORIZONTAL.{k}0'\n",
    "        df_time = pd.read_csv(f'csv_folder/{filename}.csv', parse_dates=[0], index_col=[0], usecols=['Time' ,'FPR', 'WBHP:P1', 'WOPR:P1'])\n",
    "        y_list1, y_list2, y_list3, y_list4, y_list5 = [], [], [], [], []\n",
    "        df_y = []\n",
    "        fig.add_trace(go.Scatter(\n",
    "                    x=df_time.index,\n",
    "                    y=df_time['WOPR:P1'],\n",
    "                    mode='lines',\n",
    "                    name='OPM; аниз. - '+str(kk[k])))\n",
    "        df_vol, df_vis, df_timest = [], [], []\n",
    "        for i in df_time.index:\n",
    "            df_timest.append(i)\n",
    "        for i in df_time.values:\n",
    "            dP = i[1] - i[2]\n",
    "            eclfiles = EclFiles(f'model_folder/{filename}')\n",
    "            dframe = pvt.df(eclfiles)\n",
    "            indic = dframe['KEYWORD'] == 'PVDO'\n",
    "            res_df = dframe.loc[indic][['PRESSURE', 'VOLUMEFACTOR', 'VISCOSITY']]\n",
    "            x = res_df['PRESSURE'].values\n",
    "            y1 = res_df['VOLUMEFACTOR'].values\n",
    "            z = np.poly1d(np.polyfit(x, y1, 2))\n",
    "            xp = np.linspace(0, 600, 100)\n",
    "            sol_list_x = [i[1], i[1]+0.1, i[1]+0.2, i[1]+0.3]\n",
    "            sol_list_y = [0, 1, 2, 3]\n",
    "            interp1 = scipy.interpolate.InterpolatedUnivariateSpline(xp, z(xp))\n",
    "            interp2 = scipy.interpolate.InterpolatedUnivariateSpline(sol_list_x, sol_list_y)\n",
    "            new_x = np.linspace(np.array(xp).min(), np.array(xp).max(), 100)\n",
    "            new_y11 = interp1(new_x)\n",
    "            new_y21 = interp2(new_x)\n",
    "            idx1 = np.argwhere(np.diff(np.sign(new_y11 - new_y21)) != 0)\n",
    "            y_sol = round(new_y11[idx1[0]][0].astype(float),2)\n",
    "            x_sol = round(new_x[idx1[0]][0].astype(float),2)\n",
    "            y2 = res_df['VISCOSITY'].values\n",
    "            z = np.poly1d(np.polyfit(x, y2, 2))\n",
    "            xp = np.linspace(0, 600, 100)\n",
    "            sol_list_x = [i[1], i[1]+0.1, i[1]+0.2, i[1]+0.3]\n",
    "            sol_list_y = [0, 1, 2, 3]\n",
    "            interp1 = scipy.interpolate.InterpolatedUnivariateSpline(xp, z(xp))\n",
    "            interp2 = scipy.interpolate.InterpolatedUnivariateSpline(sol_list_x, sol_list_y)\n",
    "            new_x = np.linspace(np.array(xp).min(), np.array(xp).max(), 100)\n",
    "            new_y12 = interp1(new_x)\n",
    "            new_y22 = interp2(new_x)\n",
    "            idx2 = np.argwhere(np.diff(np.sign(new_y12 - new_y22)) != 0)\n",
    "            y_sol = round(new_y12[idx2[0]][0].astype(float),2)\n",
    "            x_sol = round(new_x[idx2[0]][0].astype(float),2)\n",
    "            y_list1.append(HWP(kk[k], h, re, rw, L, zw, 1, new_y12[idx2[0]], new_y11[idx1[0]], dP)[0])\n",
    "            #print('dP : ' + str(dP))\n",
    "            df_vol.append(new_y11[idx1[0]][0])\n",
    "            df_vis.append(new_y12[idx2[0]][0])\n",
    "        df_y.append(df_timest)\n",
    "        df_y.append(list(df_time['WOPR:P1']))\n",
    "        df_y.append(df_vol)\n",
    "        df_y.append(df_vis)\n",
    "        df_y.append(y_list1)\n",
    "        for i in df_time.values:\n",
    "            dP = i[1] - i[2]\n",
    "            eclfiles = EclFiles(f'model_folder/{filename}')\n",
    "            dframe = pvt.df(eclfiles)\n",
    "            indic = dframe['KEYWORD'] == 'PVDO'\n",
    "            res_df = dframe.loc[indic][['PRESSURE', 'VOLUMEFACTOR', 'VISCOSITY']]\n",
    "            x = res_df['PRESSURE'].values\n",
    "            y1 = res_df['VOLUMEFACTOR'].values\n",
    "            z = np.poly1d(np.polyfit(x, y1, 2))\n",
    "            xp = np.linspace(0, 600, 100)\n",
    "            sol_list_x = [i[1], i[1]+0.1, i[1]+0.2, i[1]+0.3]\n",
    "            sol_list_y = [0, 1, 2, 3]\n",
    "            interp1 = scipy.interpolate.InterpolatedUnivariateSpline(xp, z(xp))\n",
    "            interp2 = scipy.interpolate.InterpolatedUnivariateSpline(sol_list_x, sol_list_y)\n",
    "            new_x = np.linspace(np.array(xp).min(), np.array(xp).max(), 100)\n",
    "            new_y11 = interp1(new_x)\n",
    "            new_y21 = interp2(new_x)\n",
    "            idx1 = np.argwhere(np.diff(np.sign(new_y11 - new_y21)) != 0)\n",
    "            y_sol = round(new_y11[idx1[0]][0].astype(float),2)\n",
    "            x_sol = round(new_x[idx1[0]][0].astype(float),2)\n",
    "            y2 = res_df['VISCOSITY'].values\n",
    "            z = np.poly1d(np.polyfit(x, y2, 2))\n",
    "            xp = np.linspace(0, 600, 100)\n",
    "            sol_list_x = [i[1], i[1]+0.1, i[1]+0.2, i[1]+0.3]\n",
    "            sol_list_y = [0, 1, 2, 3]\n",
    "            interp1 = scipy.interpolate.InterpolatedUnivariateSpline(xp, z(xp))\n",
    "            interp2 = scipy.interpolate.InterpolatedUnivariateSpline(sol_list_x, sol_list_y)\n",
    "            new_x = np.linspace(np.array(xp).min(), np.array(xp).max(), 100)\n",
    "            new_y12 = interp1(new_x)\n",
    "            new_y22 = interp2(new_x)\n",
    "            idx2 = np.argwhere(np.diff(np.sign(new_y12 - new_y22)) != 0)\n",
    "            y_sol = round(new_y12[idx2[0]][0].astype(float),2)\n",
    "            x_sol = round(new_x[idx2[0]][0].astype(float),2)\n",
    "            y_list2.append(HWP(kk[k], h, re, rw, L, zw, 2, new_y12[idx2[0]], new_y11[idx1[0]], dP)[0])\n",
    "        df_y.append(y_list2)\n",
    "        for i in df_time.values:\n",
    "            dP = i[1] - i[2]\n",
    "            eclfiles = EclFiles(f'model_folder/{filename}')\n",
    "            dframe = pvt.df(eclfiles)\n",
    "            indic = dframe['KEYWORD'] == 'PVDO'\n",
    "            res_df = dframe.loc[indic][['PRESSURE', 'VOLUMEFACTOR', 'VISCOSITY']]\n",
    "            x = res_df['PRESSURE'].values\n",
    "            y1 = res_df['VOLUMEFACTOR'].values\n",
    "            z = np.poly1d(np.polyfit(x, y1, 2))\n",
    "            xp = np.linspace(0, 600, 100)\n",
    "            sol_list_x = [i[1], i[1]+0.1, i[1]+0.2, i[1]+0.3]\n",
    "            sol_list_y = [0, 1, 2, 3]\n",
    "            interp1 = scipy.interpolate.InterpolatedUnivariateSpline(xp, z(xp))\n",
    "            interp2 = scipy.interpolate.InterpolatedUnivariateSpline(sol_list_x, sol_list_y)\n",
    "            new_x = np.linspace(np.array(xp).min(), np.array(xp).max(), 100)\n",
    "            new_y11 = interp1(new_x)\n",
    "            new_y21 = interp2(new_x)\n",
    "            idx1 = np.argwhere(np.diff(np.sign(new_y11 - new_y21)) != 0)\n",
    "            y_sol = round(new_y11[idx1[0]][0].astype(float),2)\n",
    "            x_sol = round(new_x[idx1[0]][0].astype(float),2)\n",
    "            y2 = res_df['VISCOSITY'].values\n",
    "            z = np.poly1d(np.polyfit(x, y2, 2))\n",
    "            xp = np.linspace(0, 600, 100)\n",
    "            sol_list_x = [i[1], i[1]+0.1, i[1]+0.2, i[1]+0.3]\n",
    "            sol_list_y = [0, 1, 2, 3]\n",
    "            interp1 = scipy.interpolate.InterpolatedUnivariateSpline(xp, z(xp))\n",
    "            interp2 = scipy.interpolate.InterpolatedUnivariateSpline(sol_list_x, sol_list_y)\n",
    "            new_x = np.linspace(np.array(xp).min(), np.array(xp).max(), 100)\n",
    "            new_y12 = interp1(new_x)\n",
    "            new_y22 = interp2(new_x)\n",
    "            idx2 = np.argwhere(np.diff(np.sign(new_y12 - new_y22)) != 0)\n",
    "            y_sol = round(new_y12[idx2[0]][0].astype(float),2)\n",
    "            x_sol = round(new_x[idx2[0]][0].astype(float),2)\n",
    "            y_list3.append(bat_2(lx, dP, kh, new_y12[idx2[0]], kh*kk[k], rw, h, L, new_y11[idx1[0]])[0])\n",
    "        df_y.append(y_list3)\n",
    "        for i in df_time.values:\n",
    "            dP = i[1] - i[2]\n",
    "            eclfiles = EclFiles(f'model_folder/{filename}')\n",
    "            dframe = pvt.df(eclfiles)\n",
    "            indic = dframe['KEYWORD'] == 'PVDO'\n",
    "            res_df = dframe.loc[indic][['PRESSURE', 'VOLUMEFACTOR', 'VISCOSITY']]\n",
    "            x = res_df['PRESSURE'].values\n",
    "            y1 = res_df['VOLUMEFACTOR'].values\n",
    "            z = np.poly1d(np.polyfit(x, y1, 2))\n",
    "            xp = np.linspace(0, 600, 100)\n",
    "            sol_list_x = [i[1], i[1]+0.1, i[1]+0.2, i[1]+0.3]\n",
    "            sol_list_y = [0, 1, 2, 3]\n",
    "            interp1 = scipy.interpolate.InterpolatedUnivariateSpline(xp, z(xp))\n",
    "            interp2 = scipy.interpolate.InterpolatedUnivariateSpline(sol_list_x, sol_list_y)\n",
    "            new_x = np.linspace(np.array(xp).min(), np.array(xp).max(), 100)\n",
    "            new_y11 = interp1(new_x)\n",
    "            new_y21 = interp2(new_x)\n",
    "            idx1 = np.argwhere(np.diff(np.sign(new_y11 - new_y21)) != 0)\n",
    "            y_sol = round(new_y11[idx1[0]][0].astype(float),2)\n",
    "            x_sol = round(new_x[idx1[0]][0].astype(float),2)\n",
    "            y2 = res_df['VISCOSITY'].values\n",
    "            z = np.poly1d(np.polyfit(x, y2, 2))\n",
    "            xp = np.linspace(0, 600, 100)\n",
    "            sol_list_x = [i[1], i[1]+0.1, i[1]+0.2, i[1]+0.3]\n",
    "            sol_list_y = [0, 1, 2, 3]\n",
    "            interp1 = scipy.interpolate.InterpolatedUnivariateSpline(xp, z(xp))\n",
    "            interp2 = scipy.interpolate.InterpolatedUnivariateSpline(sol_list_x, sol_list_y)\n",
    "            new_x = np.linspace(np.array(xp).min(), np.array(xp).max(), 100)\n",
    "            new_y12 = interp1(new_x)\n",
    "            new_y22 = interp2(new_x)\n",
    "            idx2 = np.argwhere(np.diff(np.sign(new_y12 - new_y22)) != 0)\n",
    "            y_sol = round(new_y12[idx2[0]][0].astype(float),2)\n",
    "            x_sol = round(new_x[idx2[0]][0].astype(float),2)\n",
    "            y_list4.append(bat_3(S, lx, ly, L, kh, kh*kk[k], rw, h, dP, new_y12[idx2[0]], new_y11[idx1[0]])[0])\n",
    "        df_y.append(y_list4)\n",
    "        for i in df_time.values:\n",
    "            dP = i[1] - i[2]\n",
    "            eclfiles = EclFiles(f'model_folder/{filename}')\n",
    "            dframe = pvt.df(eclfiles)\n",
    "            indic = dframe['KEYWORD'] == 'PVDO'\n",
    "            res_df = dframe.loc[indic][['PRESSURE', 'VOLUMEFACTOR', 'VISCOSITY']]\n",
    "            x = res_df['PRESSURE'].values\n",
    "            y1 = res_df['VOLUMEFACTOR'].values\n",
    "            z = np.poly1d(np.polyfit(x, y1, 2))\n",
    "            xp = np.linspace(0, 600, 100)\n",
    "            sol_list_x = [i[1], i[1]+0.1, i[1]+0.2, i[1]+0.3]\n",
    "            sol_list_y = [0, 1, 2, 3]\n",
    "            interp1 = scipy.interpolate.InterpolatedUnivariateSpline(xp, z(xp))\n",
    "            interp2 = scipy.interpolate.InterpolatedUnivariateSpline(sol_list_x, sol_list_y)\n",
    "            new_x = np.linspace(np.array(xp).min(), np.array(xp).max(), 100)\n",
    "            new_y11 = interp1(new_x)\n",
    "            new_y21 = interp2(new_x)\n",
    "            idx1 = np.argwhere(np.diff(np.sign(new_y11 - new_y21)) != 0)\n",
    "            y_sol = round(new_y11[idx1[0]][0].astype(float),2)\n",
    "            x_sol = round(new_x[idx1[0]][0].astype(float),2)\n",
    "            y2 = res_df['VISCOSITY'].values\n",
    "            z = np.poly1d(np.polyfit(x, y2, 2))\n",
    "            xp = np.linspace(0, 600, 100)\n",
    "            sol_list_x = [i[1], i[1]+0.1, i[1]+0.2, i[1]+0.3]\n",
    "            sol_list_y = [0, 1, 2, 3]\n",
    "            interp1 = scipy.interpolate.InterpolatedUnivariateSpline(xp, z(xp))\n",
    "            interp2 = scipy.interpolate.InterpolatedUnivariateSpline(sol_list_x, sol_list_y)\n",
    "            new_x = np.linspace(np.array(xp).min(), np.array(xp).max(), 100)\n",
    "            new_y12 = interp1(new_x)\n",
    "            new_y22 = interp2(new_x)\n",
    "            idx2 = np.argwhere(np.diff(np.sign(new_y12 - new_y22)) != 0)\n",
    "            y_sol = round(new_y12[idx2[0]][0].astype(float),2)\n",
    "            x_sol = round(new_x[idx2[0]][0].astype(float),2)\n",
    "            y_list5.append(bat_1(lx, dP, kh, new_y12[idx2[0]][0], kh*kk[k], rw, h, L, new_y11[idx1[0]][0]))\n",
    "        df_y.append(y_list5)\n",
    "        for i in range(0, 5):\n",
    "            fig.add_trace(go.Scatter(\n",
    "                        x=df_time.index,\n",
    "                        y=df_y[i+4],\n",
    "                        mode='lines',\n",
    "                        name=f'{trace_name[i]}; аниз. - '+str(kk[k])))\n",
    "        fig.update_xaxes(tickformat='%d.%m.%y')\n",
    "        fig.update_layout(title=go.layout.Title(text=title),\n",
    "                               xaxis_title='Дата',\n",
    "                               yaxis_title='Qж, м3/сут')\n",
    "    return [fig, df_y]"
   ]
  },
  {
   "cell_type": "code",
   "execution_count": 36,
   "id": "corporate-soccer",
   "metadata": {},
   "outputs": [
    {
     "data": {
      "application/vnd.plotly.v1+json": {
       "config": {
        "linkText": "Export to plot.ly",
        "plotlyServerURL": "https://plot.ly",
        "showLink": false
       },
       "data": [
        {
         "mode": "lines",
         "name": "OPM; аниз. - 0.25",
         "type": "scatter",
         "x": [
          "2020-01-02T00:00:00",
          "2020-01-05T00:00:00",
          "2020-01-13T13:03:55",
          "2020-02-01T17:48:38",
          "2020-03-01T00:00:00",
          "2020-04-30T00:00:00",
          "2020-06-29T00:00:00",
          "2020-08-28T00:00:00",
          "2020-10-27T00:00:00"
         ],
         "y": [
          131.44386291503906,
          92.9864273071289,
          68.52416229248047,
          54.20751953125,
          47.13592529296875,
          41.8604850769043,
          39.51884460449219,
          38.36334609985352,
          37.76805877685547
         ]
        },
        {
         "mode": "lines",
         "name": "Ozkan; аниз. - 0.25",
         "type": "scatter",
         "x": [
          "2020-01-02T00:00:00",
          "2020-01-05T00:00:00",
          "2020-01-13T13:03:55",
          "2020-02-01T17:48:38",
          "2020-03-01T00:00:00",
          "2020-04-30T00:00:00",
          "2020-06-29T00:00:00",
          "2020-08-28T00:00:00",
          "2020-10-27T00:00:00"
         ],
         "y": [
          48.14194025850309,
          48.14170206034614,
          48.14105552249159,
          48.1399666166313,
          48.13855444184372,
          48.13573009226858,
          48.13295678515564,
          48.1302345205049,
          48.12751225585416
         ]
        },
        {
         "mode": "lines",
         "name": "Joshi; аниз. - 0.25",
         "type": "scatter",
         "x": [
          "2020-01-02T00:00:00",
          "2020-01-05T00:00:00",
          "2020-01-13T13:03:55",
          "2020-02-01T17:48:38",
          "2020-03-01T00:00:00",
          "2020-04-30T00:00:00",
          "2020-06-29T00:00:00",
          "2020-08-28T00:00:00",
          "2020-10-27T00:00:00"
         ],
         "y": [
          48.14194025850309,
          48.14170206034614,
          48.14105552249159,
          48.1399666166313,
          48.13855444184372,
          48.13573009226858,
          48.13295678515564,
          48.1302345205049,
          48.12751225585416
         ]
        },
        {
         "mode": "lines",
         "name": "протяж. горизонт. скв.; аниз. - 0.25",
         "type": "scatter",
         "x": [
          "2020-01-02T00:00:00",
          "2020-01-05T00:00:00",
          "2020-01-13T13:03:55",
          "2020-02-01T17:48:38",
          "2020-03-01T00:00:00",
          "2020-04-30T00:00:00",
          "2020-06-29T00:00:00",
          "2020-08-28T00:00:00",
          "2020-10-27T00:00:00"
         ],
         "y": [
          70.57045349238292,
          70.57010432174572,
          70.5691565728733,
          70.56756036424608,
          70.56549028118266,
          70.56135011505583,
          70.55728477120837,
          70.55329424964032,
          70.54930372807227
         ]
        },
        {
         "mode": "lines",
         "name": "конеч. вертик. трещина; аниз. - 0.25",
         "type": "scatter",
         "x": [
          "2020-01-02T00:00:00",
          "2020-01-05T00:00:00",
          "2020-01-13T13:03:55",
          "2020-02-01T17:48:38",
          "2020-03-01T00:00:00",
          "2020-04-30T00:00:00",
          "2020-06-29T00:00:00",
          "2020-08-28T00:00:00",
          "2020-10-27T00:00:00"
         ],
         "y": [
          61.755476675667644,
          61.75517112004098,
          61.754341754768554,
          61.75294492904661,
          61.75113342068847,
          61.74751040397216,
          61.74395286346158,
          61.7404607991567,
          61.736968734851835
         ]
        },
        {
         "mode": "lines",
         "name": "вертикальная трещина; аниз. - 0.25",
         "type": "scatter",
         "x": [
          "2020-01-02T00:00:00",
          "2020-01-05T00:00:00",
          "2020-01-13T13:03:55",
          "2020-02-01T17:48:38",
          "2020-03-01T00:00:00",
          "2020-04-30T00:00:00",
          "2020-06-29T00:00:00",
          "2020-08-28T00:00:00",
          "2020-10-27T00:00:00"
         ],
         "y": [
          76.57572558174121,
          76.57534669803601,
          76.57431829940765,
          76.57258625961254,
          76.57034002050322,
          76.56584754228462,
          76.56143625343141,
          76.55710615394356,
          76.55277605445576
         ]
        }
       ],
       "layout": {
        "template": {
         "data": {
          "bar": [
           {
            "error_x": {
             "color": "#2a3f5f"
            },
            "error_y": {
             "color": "#2a3f5f"
            },
            "marker": {
             "line": {
              "color": "#E5ECF6",
              "width": 0.5
             }
            },
            "type": "bar"
           }
          ],
          "barpolar": [
           {
            "marker": {
             "line": {
              "color": "#E5ECF6",
              "width": 0.5
             }
            },
            "type": "barpolar"
           }
          ],
          "carpet": [
           {
            "aaxis": {
             "endlinecolor": "#2a3f5f",
             "gridcolor": "white",
             "linecolor": "white",
             "minorgridcolor": "white",
             "startlinecolor": "#2a3f5f"
            },
            "baxis": {
             "endlinecolor": "#2a3f5f",
             "gridcolor": "white",
             "linecolor": "white",
             "minorgridcolor": "white",
             "startlinecolor": "#2a3f5f"
            },
            "type": "carpet"
           }
          ],
          "choropleth": [
           {
            "colorbar": {
             "outlinewidth": 0,
             "ticks": ""
            },
            "type": "choropleth"
           }
          ],
          "contour": [
           {
            "colorbar": {
             "outlinewidth": 0,
             "ticks": ""
            },
            "colorscale": [
             [
              0,
              "#0d0887"
             ],
             [
              0.1111111111111111,
              "#46039f"
             ],
             [
              0.2222222222222222,
              "#7201a8"
             ],
             [
              0.3333333333333333,
              "#9c179e"
             ],
             [
              0.4444444444444444,
              "#bd3786"
             ],
             [
              0.5555555555555556,
              "#d8576b"
             ],
             [
              0.6666666666666666,
              "#ed7953"
             ],
             [
              0.7777777777777778,
              "#fb9f3a"
             ],
             [
              0.8888888888888888,
              "#fdca26"
             ],
             [
              1,
              "#f0f921"
             ]
            ],
            "type": "contour"
           }
          ],
          "contourcarpet": [
           {
            "colorbar": {
             "outlinewidth": 0,
             "ticks": ""
            },
            "type": "contourcarpet"
           }
          ],
          "heatmap": [
           {
            "colorbar": {
             "outlinewidth": 0,
             "ticks": ""
            },
            "colorscale": [
             [
              0,
              "#0d0887"
             ],
             [
              0.1111111111111111,
              "#46039f"
             ],
             [
              0.2222222222222222,
              "#7201a8"
             ],
             [
              0.3333333333333333,
              "#9c179e"
             ],
             [
              0.4444444444444444,
              "#bd3786"
             ],
             [
              0.5555555555555556,
              "#d8576b"
             ],
             [
              0.6666666666666666,
              "#ed7953"
             ],
             [
              0.7777777777777778,
              "#fb9f3a"
             ],
             [
              0.8888888888888888,
              "#fdca26"
             ],
             [
              1,
              "#f0f921"
             ]
            ],
            "type": "heatmap"
           }
          ],
          "heatmapgl": [
           {
            "colorbar": {
             "outlinewidth": 0,
             "ticks": ""
            },
            "colorscale": [
             [
              0,
              "#0d0887"
             ],
             [
              0.1111111111111111,
              "#46039f"
             ],
             [
              0.2222222222222222,
              "#7201a8"
             ],
             [
              0.3333333333333333,
              "#9c179e"
             ],
             [
              0.4444444444444444,
              "#bd3786"
             ],
             [
              0.5555555555555556,
              "#d8576b"
             ],
             [
              0.6666666666666666,
              "#ed7953"
             ],
             [
              0.7777777777777778,
              "#fb9f3a"
             ],
             [
              0.8888888888888888,
              "#fdca26"
             ],
             [
              1,
              "#f0f921"
             ]
            ],
            "type": "heatmapgl"
           }
          ],
          "histogram": [
           {
            "marker": {
             "colorbar": {
              "outlinewidth": 0,
              "ticks": ""
             }
            },
            "type": "histogram"
           }
          ],
          "histogram2d": [
           {
            "colorbar": {
             "outlinewidth": 0,
             "ticks": ""
            },
            "colorscale": [
             [
              0,
              "#0d0887"
             ],
             [
              0.1111111111111111,
              "#46039f"
             ],
             [
              0.2222222222222222,
              "#7201a8"
             ],
             [
              0.3333333333333333,
              "#9c179e"
             ],
             [
              0.4444444444444444,
              "#bd3786"
             ],
             [
              0.5555555555555556,
              "#d8576b"
             ],
             [
              0.6666666666666666,
              "#ed7953"
             ],
             [
              0.7777777777777778,
              "#fb9f3a"
             ],
             [
              0.8888888888888888,
              "#fdca26"
             ],
             [
              1,
              "#f0f921"
             ]
            ],
            "type": "histogram2d"
           }
          ],
          "histogram2dcontour": [
           {
            "colorbar": {
             "outlinewidth": 0,
             "ticks": ""
            },
            "colorscale": [
             [
              0,
              "#0d0887"
             ],
             [
              0.1111111111111111,
              "#46039f"
             ],
             [
              0.2222222222222222,
              "#7201a8"
             ],
             [
              0.3333333333333333,
              "#9c179e"
             ],
             [
              0.4444444444444444,
              "#bd3786"
             ],
             [
              0.5555555555555556,
              "#d8576b"
             ],
             [
              0.6666666666666666,
              "#ed7953"
             ],
             [
              0.7777777777777778,
              "#fb9f3a"
             ],
             [
              0.8888888888888888,
              "#fdca26"
             ],
             [
              1,
              "#f0f921"
             ]
            ],
            "type": "histogram2dcontour"
           }
          ],
          "mesh3d": [
           {
            "colorbar": {
             "outlinewidth": 0,
             "ticks": ""
            },
            "type": "mesh3d"
           }
          ],
          "parcoords": [
           {
            "line": {
             "colorbar": {
              "outlinewidth": 0,
              "ticks": ""
             }
            },
            "type": "parcoords"
           }
          ],
          "pie": [
           {
            "automargin": true,
            "type": "pie"
           }
          ],
          "scatter": [
           {
            "marker": {
             "colorbar": {
              "outlinewidth": 0,
              "ticks": ""
             }
            },
            "type": "scatter"
           }
          ],
          "scatter3d": [
           {
            "line": {
             "colorbar": {
              "outlinewidth": 0,
              "ticks": ""
             }
            },
            "marker": {
             "colorbar": {
              "outlinewidth": 0,
              "ticks": ""
             }
            },
            "type": "scatter3d"
           }
          ],
          "scattercarpet": [
           {
            "marker": {
             "colorbar": {
              "outlinewidth": 0,
              "ticks": ""
             }
            },
            "type": "scattercarpet"
           }
          ],
          "scattergeo": [
           {
            "marker": {
             "colorbar": {
              "outlinewidth": 0,
              "ticks": ""
             }
            },
            "type": "scattergeo"
           }
          ],
          "scattergl": [
           {
            "marker": {
             "colorbar": {
              "outlinewidth": 0,
              "ticks": ""
             }
            },
            "type": "scattergl"
           }
          ],
          "scattermapbox": [
           {
            "marker": {
             "colorbar": {
              "outlinewidth": 0,
              "ticks": ""
             }
            },
            "type": "scattermapbox"
           }
          ],
          "scatterpolar": [
           {
            "marker": {
             "colorbar": {
              "outlinewidth": 0,
              "ticks": ""
             }
            },
            "type": "scatterpolar"
           }
          ],
          "scatterpolargl": [
           {
            "marker": {
             "colorbar": {
              "outlinewidth": 0,
              "ticks": ""
             }
            },
            "type": "scatterpolargl"
           }
          ],
          "scatterternary": [
           {
            "marker": {
             "colorbar": {
              "outlinewidth": 0,
              "ticks": ""
             }
            },
            "type": "scatterternary"
           }
          ],
          "surface": [
           {
            "colorbar": {
             "outlinewidth": 0,
             "ticks": ""
            },
            "colorscale": [
             [
              0,
              "#0d0887"
             ],
             [
              0.1111111111111111,
              "#46039f"
             ],
             [
              0.2222222222222222,
              "#7201a8"
             ],
             [
              0.3333333333333333,
              "#9c179e"
             ],
             [
              0.4444444444444444,
              "#bd3786"
             ],
             [
              0.5555555555555556,
              "#d8576b"
             ],
             [
              0.6666666666666666,
              "#ed7953"
             ],
             [
              0.7777777777777778,
              "#fb9f3a"
             ],
             [
              0.8888888888888888,
              "#fdca26"
             ],
             [
              1,
              "#f0f921"
             ]
            ],
            "type": "surface"
           }
          ],
          "table": [
           {
            "cells": {
             "fill": {
              "color": "#EBF0F8"
             },
             "line": {
              "color": "white"
             }
            },
            "header": {
             "fill": {
              "color": "#C8D4E3"
             },
             "line": {
              "color": "white"
             }
            },
            "type": "table"
           }
          ]
         },
         "layout": {
          "annotationdefaults": {
           "arrowcolor": "#2a3f5f",
           "arrowhead": 0,
           "arrowwidth": 1
          },
          "autotypenumbers": "strict",
          "coloraxis": {
           "colorbar": {
            "outlinewidth": 0,
            "ticks": ""
           }
          },
          "colorscale": {
           "diverging": [
            [
             0,
             "#8e0152"
            ],
            [
             0.1,
             "#c51b7d"
            ],
            [
             0.2,
             "#de77ae"
            ],
            [
             0.3,
             "#f1b6da"
            ],
            [
             0.4,
             "#fde0ef"
            ],
            [
             0.5,
             "#f7f7f7"
            ],
            [
             0.6,
             "#e6f5d0"
            ],
            [
             0.7,
             "#b8e186"
            ],
            [
             0.8,
             "#7fbc41"
            ],
            [
             0.9,
             "#4d9221"
            ],
            [
             1,
             "#276419"
            ]
           ],
           "sequential": [
            [
             0,
             "#0d0887"
            ],
            [
             0.1111111111111111,
             "#46039f"
            ],
            [
             0.2222222222222222,
             "#7201a8"
            ],
            [
             0.3333333333333333,
             "#9c179e"
            ],
            [
             0.4444444444444444,
             "#bd3786"
            ],
            [
             0.5555555555555556,
             "#d8576b"
            ],
            [
             0.6666666666666666,
             "#ed7953"
            ],
            [
             0.7777777777777778,
             "#fb9f3a"
            ],
            [
             0.8888888888888888,
             "#fdca26"
            ],
            [
             1,
             "#f0f921"
            ]
           ],
           "sequentialminus": [
            [
             0,
             "#0d0887"
            ],
            [
             0.1111111111111111,
             "#46039f"
            ],
            [
             0.2222222222222222,
             "#7201a8"
            ],
            [
             0.3333333333333333,
             "#9c179e"
            ],
            [
             0.4444444444444444,
             "#bd3786"
            ],
            [
             0.5555555555555556,
             "#d8576b"
            ],
            [
             0.6666666666666666,
             "#ed7953"
            ],
            [
             0.7777777777777778,
             "#fb9f3a"
            ],
            [
             0.8888888888888888,
             "#fdca26"
            ],
            [
             1,
             "#f0f921"
            ]
           ]
          },
          "colorway": [
           "#636efa",
           "#EF553B",
           "#00cc96",
           "#ab63fa",
           "#FFA15A",
           "#19d3f3",
           "#FF6692",
           "#B6E880",
           "#FF97FF",
           "#FECB52"
          ],
          "font": {
           "color": "#2a3f5f"
          },
          "geo": {
           "bgcolor": "white",
           "lakecolor": "white",
           "landcolor": "#E5ECF6",
           "showlakes": true,
           "showland": true,
           "subunitcolor": "white"
          },
          "hoverlabel": {
           "align": "left"
          },
          "hovermode": "closest",
          "mapbox": {
           "style": "light"
          },
          "paper_bgcolor": "white",
          "plot_bgcolor": "#E5ECF6",
          "polar": {
           "angularaxis": {
            "gridcolor": "white",
            "linecolor": "white",
            "ticks": ""
           },
           "bgcolor": "#E5ECF6",
           "radialaxis": {
            "gridcolor": "white",
            "linecolor": "white",
            "ticks": ""
           }
          },
          "scene": {
           "xaxis": {
            "backgroundcolor": "#E5ECF6",
            "gridcolor": "white",
            "gridwidth": 2,
            "linecolor": "white",
            "showbackground": true,
            "ticks": "",
            "zerolinecolor": "white"
           },
           "yaxis": {
            "backgroundcolor": "#E5ECF6",
            "gridcolor": "white",
            "gridwidth": 2,
            "linecolor": "white",
            "showbackground": true,
            "ticks": "",
            "zerolinecolor": "white"
           },
           "zaxis": {
            "backgroundcolor": "#E5ECF6",
            "gridcolor": "white",
            "gridwidth": 2,
            "linecolor": "white",
            "showbackground": true,
            "ticks": "",
            "zerolinecolor": "white"
           }
          },
          "shapedefaults": {
           "line": {
            "color": "#2a3f5f"
           }
          },
          "ternary": {
           "aaxis": {
            "gridcolor": "white",
            "linecolor": "white",
            "ticks": ""
           },
           "baxis": {
            "gridcolor": "white",
            "linecolor": "white",
            "ticks": ""
           },
           "bgcolor": "#E5ECF6",
           "caxis": {
            "gridcolor": "white",
            "linecolor": "white",
            "ticks": ""
           }
          },
          "title": {
           "x": 0.05
          },
          "xaxis": {
           "automargin": true,
           "gridcolor": "white",
           "linecolor": "white",
           "ticks": "",
           "title": {
            "standoff": 15
           },
           "zerolinecolor": "white",
           "zerolinewidth": 2
          },
          "yaxis": {
           "automargin": true,
           "gridcolor": "white",
           "linecolor": "white",
           "ticks": "",
           "title": {
            "standoff": 15
           },
           "zerolinecolor": "white",
           "zerolinewidth": 2
          }
         }
        },
        "title": {
         "text": " горизонтальная проницаемость - 5 мД; анизотропия - 0.25"
        },
        "xaxis": {
         "tickformat": "%d.%m.%y",
         "title": {
          "text": "Дата"
         }
        },
        "yaxis": {
         "title": {
          "text": "Qж, м3/сут"
         }
        }
       }
      },
      "text/html": [
       "<div>                            <div id=\"a731ca88-9d12-49e8-8fcf-edc1d260f824\" class=\"plotly-graph-div\" style=\"height:525px; width:100%;\"></div>            <script type=\"text/javascript\">                require([\"plotly\"], function(Plotly) {                    window.PLOTLYENV=window.PLOTLYENV || {};                                    if (document.getElementById(\"a731ca88-9d12-49e8-8fcf-edc1d260f824\")) {                    Plotly.newPlot(                        \"a731ca88-9d12-49e8-8fcf-edc1d260f824\",                        [{\"mode\": \"lines\", \"name\": \"OPM; \\u0430\\u043d\\u0438\\u0437. - 0.25\", \"type\": \"scatter\", \"x\": [\"2020-01-02T00:00:00\", \"2020-01-05T00:00:00\", \"2020-01-13T13:03:55\", \"2020-02-01T17:48:38\", \"2020-03-01T00:00:00\", \"2020-04-30T00:00:00\", \"2020-06-29T00:00:00\", \"2020-08-28T00:00:00\", \"2020-10-27T00:00:00\"], \"y\": [131.44386291503906, 92.9864273071289, 68.52416229248047, 54.20751953125, 47.13592529296875, 41.8604850769043, 39.51884460449219, 38.36334609985352, 37.76805877685547]}, {\"mode\": \"lines\", \"name\": \"Ozkan; \\u0430\\u043d\\u0438\\u0437. - 0.25\", \"type\": \"scatter\", \"x\": [\"2020-01-02T00:00:00\", \"2020-01-05T00:00:00\", \"2020-01-13T13:03:55\", \"2020-02-01T17:48:38\", \"2020-03-01T00:00:00\", \"2020-04-30T00:00:00\", \"2020-06-29T00:00:00\", \"2020-08-28T00:00:00\", \"2020-10-27T00:00:00\"], \"y\": [48.14194025850309, 48.14170206034614, 48.14105552249159, 48.1399666166313, 48.13855444184372, 48.13573009226858, 48.13295678515564, 48.1302345205049, 48.12751225585416]}, {\"mode\": \"lines\", \"name\": \"Joshi; \\u0430\\u043d\\u0438\\u0437. - 0.25\", \"type\": \"scatter\", \"x\": [\"2020-01-02T00:00:00\", \"2020-01-05T00:00:00\", \"2020-01-13T13:03:55\", \"2020-02-01T17:48:38\", \"2020-03-01T00:00:00\", \"2020-04-30T00:00:00\", \"2020-06-29T00:00:00\", \"2020-08-28T00:00:00\", \"2020-10-27T00:00:00\"], \"y\": [48.14194025850309, 48.14170206034614, 48.14105552249159, 48.1399666166313, 48.13855444184372, 48.13573009226858, 48.13295678515564, 48.1302345205049, 48.12751225585416]}, {\"mode\": \"lines\", \"name\": \"\\u043f\\u0440\\u043e\\u0442\\u044f\\u0436. \\u0433\\u043e\\u0440\\u0438\\u0437\\u043e\\u043d\\u0442. \\u0441\\u043a\\u0432.; \\u0430\\u043d\\u0438\\u0437. - 0.25\", \"type\": \"scatter\", \"x\": [\"2020-01-02T00:00:00\", \"2020-01-05T00:00:00\", \"2020-01-13T13:03:55\", \"2020-02-01T17:48:38\", \"2020-03-01T00:00:00\", \"2020-04-30T00:00:00\", \"2020-06-29T00:00:00\", \"2020-08-28T00:00:00\", \"2020-10-27T00:00:00\"], \"y\": [70.57045349238292, 70.57010432174572, 70.5691565728733, 70.56756036424608, 70.56549028118266, 70.56135011505583, 70.55728477120837, 70.55329424964032, 70.54930372807227]}, {\"mode\": \"lines\", \"name\": \"\\u043a\\u043e\\u043d\\u0435\\u0447. \\u0432\\u0435\\u0440\\u0442\\u0438\\u043a. \\u0442\\u0440\\u0435\\u0449\\u0438\\u043d\\u0430; \\u0430\\u043d\\u0438\\u0437. - 0.25\", \"type\": \"scatter\", \"x\": [\"2020-01-02T00:00:00\", \"2020-01-05T00:00:00\", \"2020-01-13T13:03:55\", \"2020-02-01T17:48:38\", \"2020-03-01T00:00:00\", \"2020-04-30T00:00:00\", \"2020-06-29T00:00:00\", \"2020-08-28T00:00:00\", \"2020-10-27T00:00:00\"], \"y\": [61.755476675667644, 61.75517112004098, 61.754341754768554, 61.75294492904661, 61.75113342068847, 61.74751040397216, 61.74395286346158, 61.7404607991567, 61.736968734851835]}, {\"mode\": \"lines\", \"name\": \"\\u0432\\u0435\\u0440\\u0442\\u0438\\u043a\\u0430\\u043b\\u044c\\u043d\\u0430\\u044f \\u0442\\u0440\\u0435\\u0449\\u0438\\u043d\\u0430; \\u0430\\u043d\\u0438\\u0437. - 0.25\", \"type\": \"scatter\", \"x\": [\"2020-01-02T00:00:00\", \"2020-01-05T00:00:00\", \"2020-01-13T13:03:55\", \"2020-02-01T17:48:38\", \"2020-03-01T00:00:00\", \"2020-04-30T00:00:00\", \"2020-06-29T00:00:00\", \"2020-08-28T00:00:00\", \"2020-10-27T00:00:00\"], \"y\": [76.57572558174121, 76.57534669803601, 76.57431829940765, 76.57258625961254, 76.57034002050322, 76.56584754228462, 76.56143625343141, 76.55710615394356, 76.55277605445576]}],                        {\"template\": {\"data\": {\"bar\": [{\"error_x\": {\"color\": \"#2a3f5f\"}, \"error_y\": {\"color\": \"#2a3f5f\"}, \"marker\": {\"line\": {\"color\": \"#E5ECF6\", \"width\": 0.5}}, \"type\": \"bar\"}], \"barpolar\": [{\"marker\": {\"line\": {\"color\": \"#E5ECF6\", \"width\": 0.5}}, \"type\": \"barpolar\"}], \"carpet\": [{\"aaxis\": {\"endlinecolor\": \"#2a3f5f\", \"gridcolor\": \"white\", \"linecolor\": \"white\", \"minorgridcolor\": \"white\", \"startlinecolor\": \"#2a3f5f\"}, \"baxis\": {\"endlinecolor\": \"#2a3f5f\", \"gridcolor\": \"white\", \"linecolor\": \"white\", \"minorgridcolor\": \"white\", \"startlinecolor\": \"#2a3f5f\"}, \"type\": \"carpet\"}], \"choropleth\": [{\"colorbar\": {\"outlinewidth\": 0, \"ticks\": \"\"}, \"type\": \"choropleth\"}], \"contour\": [{\"colorbar\": {\"outlinewidth\": 0, \"ticks\": \"\"}, \"colorscale\": [[0.0, \"#0d0887\"], [0.1111111111111111, \"#46039f\"], [0.2222222222222222, \"#7201a8\"], [0.3333333333333333, \"#9c179e\"], [0.4444444444444444, \"#bd3786\"], [0.5555555555555556, \"#d8576b\"], [0.6666666666666666, \"#ed7953\"], [0.7777777777777778, \"#fb9f3a\"], [0.8888888888888888, \"#fdca26\"], [1.0, \"#f0f921\"]], \"type\": \"contour\"}], \"contourcarpet\": [{\"colorbar\": {\"outlinewidth\": 0, \"ticks\": \"\"}, \"type\": \"contourcarpet\"}], \"heatmap\": [{\"colorbar\": {\"outlinewidth\": 0, \"ticks\": \"\"}, \"colorscale\": [[0.0, \"#0d0887\"], [0.1111111111111111, \"#46039f\"], [0.2222222222222222, \"#7201a8\"], [0.3333333333333333, \"#9c179e\"], [0.4444444444444444, \"#bd3786\"], [0.5555555555555556, \"#d8576b\"], [0.6666666666666666, \"#ed7953\"], [0.7777777777777778, \"#fb9f3a\"], [0.8888888888888888, \"#fdca26\"], [1.0, \"#f0f921\"]], \"type\": \"heatmap\"}], \"heatmapgl\": [{\"colorbar\": {\"outlinewidth\": 0, \"ticks\": \"\"}, \"colorscale\": [[0.0, \"#0d0887\"], [0.1111111111111111, \"#46039f\"], [0.2222222222222222, \"#7201a8\"], [0.3333333333333333, \"#9c179e\"], [0.4444444444444444, \"#bd3786\"], [0.5555555555555556, \"#d8576b\"], [0.6666666666666666, \"#ed7953\"], [0.7777777777777778, \"#fb9f3a\"], [0.8888888888888888, \"#fdca26\"], [1.0, \"#f0f921\"]], \"type\": \"heatmapgl\"}], \"histogram\": [{\"marker\": {\"colorbar\": {\"outlinewidth\": 0, \"ticks\": \"\"}}, \"type\": \"histogram\"}], \"histogram2d\": [{\"colorbar\": {\"outlinewidth\": 0, \"ticks\": \"\"}, \"colorscale\": [[0.0, \"#0d0887\"], [0.1111111111111111, \"#46039f\"], [0.2222222222222222, \"#7201a8\"], [0.3333333333333333, \"#9c179e\"], [0.4444444444444444, \"#bd3786\"], [0.5555555555555556, \"#d8576b\"], [0.6666666666666666, \"#ed7953\"], [0.7777777777777778, \"#fb9f3a\"], [0.8888888888888888, \"#fdca26\"], [1.0, \"#f0f921\"]], \"type\": \"histogram2d\"}], \"histogram2dcontour\": [{\"colorbar\": {\"outlinewidth\": 0, \"ticks\": \"\"}, \"colorscale\": [[0.0, \"#0d0887\"], [0.1111111111111111, \"#46039f\"], [0.2222222222222222, \"#7201a8\"], [0.3333333333333333, \"#9c179e\"], [0.4444444444444444, \"#bd3786\"], [0.5555555555555556, \"#d8576b\"], [0.6666666666666666, \"#ed7953\"], [0.7777777777777778, \"#fb9f3a\"], [0.8888888888888888, \"#fdca26\"], [1.0, \"#f0f921\"]], \"type\": \"histogram2dcontour\"}], \"mesh3d\": [{\"colorbar\": {\"outlinewidth\": 0, \"ticks\": \"\"}, \"type\": \"mesh3d\"}], \"parcoords\": [{\"line\": {\"colorbar\": {\"outlinewidth\": 0, \"ticks\": \"\"}}, \"type\": \"parcoords\"}], \"pie\": [{\"automargin\": true, \"type\": \"pie\"}], \"scatter\": [{\"marker\": {\"colorbar\": {\"outlinewidth\": 0, \"ticks\": \"\"}}, \"type\": \"scatter\"}], \"scatter3d\": [{\"line\": {\"colorbar\": {\"outlinewidth\": 0, \"ticks\": \"\"}}, \"marker\": {\"colorbar\": {\"outlinewidth\": 0, \"ticks\": \"\"}}, \"type\": \"scatter3d\"}], \"scattercarpet\": [{\"marker\": {\"colorbar\": {\"outlinewidth\": 0, \"ticks\": \"\"}}, \"type\": \"scattercarpet\"}], \"scattergeo\": [{\"marker\": {\"colorbar\": {\"outlinewidth\": 0, \"ticks\": \"\"}}, \"type\": \"scattergeo\"}], \"scattergl\": [{\"marker\": {\"colorbar\": {\"outlinewidth\": 0, \"ticks\": \"\"}}, \"type\": \"scattergl\"}], \"scattermapbox\": [{\"marker\": {\"colorbar\": {\"outlinewidth\": 0, \"ticks\": \"\"}}, \"type\": \"scattermapbox\"}], \"scatterpolar\": [{\"marker\": {\"colorbar\": {\"outlinewidth\": 0, \"ticks\": \"\"}}, \"type\": \"scatterpolar\"}], \"scatterpolargl\": [{\"marker\": {\"colorbar\": {\"outlinewidth\": 0, \"ticks\": \"\"}}, \"type\": \"scatterpolargl\"}], \"scatterternary\": [{\"marker\": {\"colorbar\": {\"outlinewidth\": 0, \"ticks\": \"\"}}, \"type\": \"scatterternary\"}], \"surface\": [{\"colorbar\": {\"outlinewidth\": 0, \"ticks\": \"\"}, \"colorscale\": [[0.0, \"#0d0887\"], [0.1111111111111111, \"#46039f\"], [0.2222222222222222, \"#7201a8\"], [0.3333333333333333, \"#9c179e\"], [0.4444444444444444, \"#bd3786\"], [0.5555555555555556, \"#d8576b\"], [0.6666666666666666, \"#ed7953\"], [0.7777777777777778, \"#fb9f3a\"], [0.8888888888888888, \"#fdca26\"], [1.0, \"#f0f921\"]], \"type\": \"surface\"}], \"table\": [{\"cells\": {\"fill\": {\"color\": \"#EBF0F8\"}, \"line\": {\"color\": \"white\"}}, \"header\": {\"fill\": {\"color\": \"#C8D4E3\"}, \"line\": {\"color\": \"white\"}}, \"type\": \"table\"}]}, \"layout\": {\"annotationdefaults\": {\"arrowcolor\": \"#2a3f5f\", \"arrowhead\": 0, \"arrowwidth\": 1}, \"autotypenumbers\": \"strict\", \"coloraxis\": {\"colorbar\": {\"outlinewidth\": 0, \"ticks\": \"\"}}, \"colorscale\": {\"diverging\": [[0, \"#8e0152\"], [0.1, \"#c51b7d\"], [0.2, \"#de77ae\"], [0.3, \"#f1b6da\"], [0.4, \"#fde0ef\"], [0.5, \"#f7f7f7\"], [0.6, \"#e6f5d0\"], [0.7, \"#b8e186\"], [0.8, \"#7fbc41\"], [0.9, \"#4d9221\"], [1, \"#276419\"]], \"sequential\": [[0.0, \"#0d0887\"], [0.1111111111111111, \"#46039f\"], [0.2222222222222222, \"#7201a8\"], [0.3333333333333333, \"#9c179e\"], [0.4444444444444444, \"#bd3786\"], [0.5555555555555556, \"#d8576b\"], [0.6666666666666666, \"#ed7953\"], [0.7777777777777778, \"#fb9f3a\"], [0.8888888888888888, \"#fdca26\"], [1.0, \"#f0f921\"]], \"sequentialminus\": [[0.0, \"#0d0887\"], [0.1111111111111111, \"#46039f\"], [0.2222222222222222, \"#7201a8\"], [0.3333333333333333, \"#9c179e\"], [0.4444444444444444, \"#bd3786\"], [0.5555555555555556, \"#d8576b\"], [0.6666666666666666, \"#ed7953\"], [0.7777777777777778, \"#fb9f3a\"], [0.8888888888888888, \"#fdca26\"], [1.0, \"#f0f921\"]]}, \"colorway\": [\"#636efa\", \"#EF553B\", \"#00cc96\", \"#ab63fa\", \"#FFA15A\", \"#19d3f3\", \"#FF6692\", \"#B6E880\", \"#FF97FF\", \"#FECB52\"], \"font\": {\"color\": \"#2a3f5f\"}, \"geo\": {\"bgcolor\": \"white\", \"lakecolor\": \"white\", \"landcolor\": \"#E5ECF6\", \"showlakes\": true, \"showland\": true, \"subunitcolor\": \"white\"}, \"hoverlabel\": {\"align\": \"left\"}, \"hovermode\": \"closest\", \"mapbox\": {\"style\": \"light\"}, \"paper_bgcolor\": \"white\", \"plot_bgcolor\": \"#E5ECF6\", \"polar\": {\"angularaxis\": {\"gridcolor\": \"white\", \"linecolor\": \"white\", \"ticks\": \"\"}, \"bgcolor\": \"#E5ECF6\", \"radialaxis\": {\"gridcolor\": \"white\", \"linecolor\": \"white\", \"ticks\": \"\"}}, \"scene\": {\"xaxis\": {\"backgroundcolor\": \"#E5ECF6\", \"gridcolor\": \"white\", \"gridwidth\": 2, \"linecolor\": \"white\", \"showbackground\": true, \"ticks\": \"\", \"zerolinecolor\": \"white\"}, \"yaxis\": {\"backgroundcolor\": \"#E5ECF6\", \"gridcolor\": \"white\", \"gridwidth\": 2, \"linecolor\": \"white\", \"showbackground\": true, \"ticks\": \"\", \"zerolinecolor\": \"white\"}, \"zaxis\": {\"backgroundcolor\": \"#E5ECF6\", \"gridcolor\": \"white\", \"gridwidth\": 2, \"linecolor\": \"white\", \"showbackground\": true, \"ticks\": \"\", \"zerolinecolor\": \"white\"}}, \"shapedefaults\": {\"line\": {\"color\": \"#2a3f5f\"}}, \"ternary\": {\"aaxis\": {\"gridcolor\": \"white\", \"linecolor\": \"white\", \"ticks\": \"\"}, \"baxis\": {\"gridcolor\": \"white\", \"linecolor\": \"white\", \"ticks\": \"\"}, \"bgcolor\": \"#E5ECF6\", \"caxis\": {\"gridcolor\": \"white\", \"linecolor\": \"white\", \"ticks\": \"\"}}, \"title\": {\"x\": 0.05}, \"xaxis\": {\"automargin\": true, \"gridcolor\": \"white\", \"linecolor\": \"white\", \"ticks\": \"\", \"title\": {\"standoff\": 15}, \"zerolinecolor\": \"white\", \"zerolinewidth\": 2}, \"yaxis\": {\"automargin\": true, \"gridcolor\": \"white\", \"linecolor\": \"white\", \"ticks\": \"\", \"title\": {\"standoff\": 15}, \"zerolinecolor\": \"white\", \"zerolinewidth\": 2}}}, \"title\": {\"text\": \" \\u0433\\u043e\\u0440\\u0438\\u0437\\u043e\\u043d\\u0442\\u0430\\u043b\\u044c\\u043d\\u0430\\u044f \\u043f\\u0440\\u043e\\u043d\\u0438\\u0446\\u0430\\u0435\\u043c\\u043e\\u0441\\u0442\\u044c - 5 \\u043c\\u0414; \\u0430\\u043d\\u0438\\u0437\\u043e\\u0442\\u0440\\u043e\\u043f\\u0438\\u044f - 0.25\"}, \"xaxis\": {\"tickformat\": \"%d.%m.%y\", \"title\": {\"text\": \"\\u0414\\u0430\\u0442\\u0430\"}}, \"yaxis\": {\"title\": {\"text\": \"Q\\u0436, \\u043c3/\\u0441\\u0443\\u0442\"}}},                        {\"responsive\": true}                    ).then(function(){\n",
       "                            \n",
       "var gd = document.getElementById('a731ca88-9d12-49e8-8fcf-edc1d260f824');\n",
       "var x = new MutationObserver(function (mutations, observer) {{\n",
       "        var display = window.getComputedStyle(gd).display;\n",
       "        if (!display || display === 'none') {{\n",
       "            console.log([gd, 'removed!']);\n",
       "            Plotly.purge(gd);\n",
       "            observer.disconnect();\n",
       "        }}\n",
       "}});\n",
       "\n",
       "// Listen for the removal of the full notebook cells\n",
       "var notebookContainer = gd.closest('#notebook-container');\n",
       "if (notebookContainer) {{\n",
       "    x.observe(notebookContainer, {childList: true});\n",
       "}}\n",
       "\n",
       "// Listen for the clearing of the current output cell\n",
       "var outputEl = gd.closest('.output');\n",
       "if (outputEl) {{\n",
       "    x.observe(outputEl, {childList: true});\n",
       "}}\n",
       "\n",
       "                        })                };                });            </script>        </div>"
      ]
     },
     "metadata": {},
     "output_type": "display_data"
    },
    {
     "name": "stdout",
     "output_type": "stream",
     "text": [
      "[[Timestamp('2020-01-02 00:00:00'), Timestamp('2020-01-05 00:00:00'), Timestamp('2020-01-13 13:03:55'), Timestamp('2020-02-01 17:48:38'), Timestamp('2020-03-01 00:00:00'), Timestamp('2020-04-30 00:00:00'), Timestamp('2020-06-29 00:00:00'), Timestamp('2020-08-28 00:00:00'), Timestamp('2020-10-27 00:00:00')], [131.44386291503906, 92.9864273071289, 68.52416229248047, 54.20751953125, 47.13592529296875, 41.8604850769043, 39.51884460449219, 38.36334609985352, 37.76805877685547], [1.2506474083813313, 1.2506474083813313, 1.2506474083813313, 1.2506474083813313, 1.2506474083813313, 1.2506474083813313, 1.2506474083813313, 1.2506474083813313, 1.2506474083813313], [1.2464389464404666, 1.2464389464404666, 1.2464389464404666, 1.2464389464404666, 1.2464389464404666, 1.2464389464404666, 1.2464389464404666, 1.2464389464404666, 1.2464389464404666], [48.14194025850309, 48.14170206034614, 48.14105552249159, 48.1399666166313, 48.13855444184372, 48.13573009226858, 48.13295678515564, 48.1302345205049, 48.12751225585416], [48.14194025850309, 48.14170206034614, 48.14105552249159, 48.1399666166313, 48.13855444184372, 48.13573009226858, 48.13295678515564, 48.1302345205049, 48.12751225585416], [70.57045349238292, 70.57010432174572, 70.5691565728733, 70.56756036424608, 70.56549028118266, 70.56135011505583, 70.55728477120837, 70.55329424964032, 70.54930372807227], [61.755476675667644, 61.75517112004098, 61.754341754768554, 61.75294492904661, 61.75113342068847, 61.74751040397216, 61.74395286346158, 61.7404607991567, 61.736968734851835], [76.57572558174121, 76.57534669803601, 76.57431829940765, 76.57258625961254, 76.57034002050322, 76.56584754228462, 76.56143625343141, 76.55710615394356, 76.55277605445576]]\n"
     ]
    }
   ],
   "source": [
    "rw_ = rw[0] # радиус скважины, м\n",
    "kh = permx_list[0] # горизонтальная проницаемость, мд\n",
    "h = nz*dz # мощность пласта, м\n",
    "L = (y_stop[0]-prod_ys[0])*cells_v # длина горизонтального учатска, м\n",
    "zw = h-prod_z2s[0] # расстояние от подошвы пласта до ствола, м\n",
    "re = lx/2 # радиус контура питания, м\n",
    "figure = figure_plot(rw_, kh, h, kk, L, zw, re, lx, ly, skin[0], start_date, model_list[0])[0]\n",
    "df_y = figure_plot(rw_, kh, h, kk, L, zw, re, lx, ly, skin[0], start_date, model_list[0])[1]\n",
    "iplot(figure)\n",
    "print(df_y)"
   ]
  },
  {
   "cell_type": "code",
   "execution_count": 53,
   "id": "chronic-purse",
   "metadata": {},
   "outputs": [],
   "source": [
    "import pandas as pd\n",
    "import os\n",
    "import xlsxwriter\n",
    "import datetime\n",
    "\n",
    "XL_PATH = 'ResPlot1.xlsx'\n",
    "workbook = xlsxwriter.Workbook(XL_PATH)\n",
    "worksheet = workbook.add_worksheet()    \n",
    "date_format = workbook.add_format({'num_format': 'd mmmm yyyy'})\n",
    "worksheet.write('L2', 'VOLUMEFACTOR')\n",
    "worksheet.write('M2', 'VISCOSITY')\n",
    "\n",
    "i = 3\n",
    "j = 0\n",
    "for data in df_y[0]:\n",
    "    worksheet.write_datetime(f'E{i}', data, date_format)\n",
    "    worksheet.write(f'F{i}', df_y[1][j])\n",
    "    worksheet.write(f'L{i}', df_y[2][j])\n",
    "    worksheet.write(f'M{i}', df_y[3][j])\n",
    "    worksheet.write(f'G{i}', df_y[4][j])\n",
    "    worksheet.write(f'H{i}', df_y[5][j])\n",
    "    worksheet.write(f'I{i}', df_y[6][j])\n",
    "    worksheet.write(f'J{i}', df_y[7][j])\n",
    "    worksheet.write(f'K{i}', df_y[8][j])\n",
    "    i += 1\n",
    "    j += 1\n",
    "    \n",
    "workbook.close()"
   ]
  },
  {
   "cell_type": "code",
   "execution_count": null,
   "id": "spectacular-removal",
   "metadata": {},
   "outputs": [],
   "source": [
    "rw_ = rw[0] # радиус скважины, м\n",
    "kh = permx_list[1] # горизонтальная проницаемость, мд\n",
    "h = nz*dz # мощность пласта, м\n",
    "L = (y_stop[0]-prod_ys[0])*cells_v # длина горизонтального учатска, м\n",
    "zw = h-prod_z2s[0] # расстояние от подошвы пласта до ствола, м\n",
    "re = lx/2 # радиус контура питания, м\n",
    "figure = figure_plot(filename, rw_, kh, h, kk, L, zw, re, lx, ly, skin[0], start_date, model_list[1])\n",
    "\n",
    "iplot(figure)"
   ]
  },
  {
   "cell_type": "code",
   "execution_count": null,
   "id": "heard-least",
   "metadata": {},
   "outputs": [],
   "source": [
    "for i in range(0, 4):\n",
    "    filename = f'TEST_MODEL_HORIZONTAL.{i}2'\n",
    "    rw_ = rw[0] # радиус скважины, м\n",
    "    kh = permx_list[2] # горизонтальная проницаемость, мд\n",
    "    h = nz*dz # мощность пласта, м\n",
    "    L = (y_stop[0]-prod_ys[0])*cells_v # длина горизонтального учатска, м\n",
    "    zw = h-prod_z2s[0] # расстояние от подошвы пласта до ствола, м\n",
    "    re = lx/2 # радиус контура питания, м\n",
    "    figure = figure_plot(filename, rw_, kh, h, kk[i], L, zw, re, lx, ly, skin[0], start_date, model_list[2])\n",
    "\n",
    "    iplot(figure)"
   ]
  },
  {
   "cell_type": "code",
   "execution_count": null,
   "id": "boxed-scott",
   "metadata": {},
   "outputs": [],
   "source": [
    "title = 'Динамика пластового давления по годам'\n",
    "x_axis = 'Дата'\n",
    "y_axis = 'Pпл, атм'\n",
    "model.summ_plot(['FPR'], x_axis=x_axis, y_axis=y_axis, title=title, name=model_list)"
   ]
  },
  {
   "cell_type": "code",
   "execution_count": null,
   "id": "military-missouri",
   "metadata": {},
   "outputs": [],
   "source": [
    "filename = 'TEST_MODEL_HORIZONTAL.00'\n",
    "parametr = 'PRESSURE' # 'DX', 'SOIL', 'PORO'\n",
    "model.grid_plot(filename, parametr) "
   ]
  }
 ],
 "metadata": {
  "kernelspec": {
   "display_name": "Python 3",
   "language": "python",
   "name": "python3"
  },
  "language_info": {
   "codemirror_mode": {
    "name": "ipython",
    "version": 3
   },
   "file_extension": ".py",
   "mimetype": "text/x-python",
   "name": "python",
   "nbconvert_exporter": "python",
   "pygments_lexer": "ipython3",
   "version": "3.9.1"
  }
 },
 "nbformat": 4,
 "nbformat_minor": 5
}
