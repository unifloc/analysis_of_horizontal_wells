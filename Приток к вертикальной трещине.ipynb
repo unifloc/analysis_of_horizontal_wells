{
 "cells": [
  {
   "cell_type": "markdown",
   "id": "effective-trick",
   "metadata": {},
   "source": [
    "Свойкин Е.В. 2021 г.\n",
    "\n",
    "## Приток к протяженной вертикальной трещине при псевдоустановившемся режиме\n",
    "\n",
    "При описании установившегося течения флюида предполагалось выполнение закона сохранения расхода через любой элемент пласта. В реальности же приток вдоль каждой линии тока постоянно увеличивается. Чтобы учесть этот факт в теории, проще всего сделать допущение, что режим течения псевдоустановившийся. При этом необходимо сделать ряд дополнительных предположений: \n",
    "* сжимаемость флюида постоянная;\n",
    "* после окончания начального переходного этапа добычи темп падения давления в каждой точке пласта постоянен, при этом объем нефти вследствие ее расширения увеличивается суммарный объем притока к добывающим скважинам. \n",
    "\n",
    "Положим, что границы пласта непроницаемы, следовательно, можно там считать приток нулевым. Учитывая все эти предположения запишем уравнение:\n",
    "\n",
    "$$ k_x \\frac{∂^{2}Φ}{∂x^{2}} +  k_y \\frac{∂^{2}Φ}{∂y^{2}} + k_z \\frac{∂^{2}Φ}{∂z^{2}} = - \\frac{qμ}{Ah} $$\n",
    "\n",
    "где $q$ - дебит, получаемый из пласта обхемом $Ah$.\n",
    "\n",
    "Рассмотрим случай линейного псевдоустановившегося притока к вертикальной трещине, расположенной в центре пласта шириной 2$W$. По мере продвижения к трещине приток к обоим ее концам увеличивается по линейной зависимости. Если предположить, что расход определяется из уравнения Дарси, получим следующее соотношение:\n",
    " \n",
    "$$ q_z = \\frac{kLh}{μ} \\frac{dP}{dx} = \\frac{q}{2}\\left( 1 - \\frac{|x|}{W}\\right) $$\n",
    "\n",
    "Проинтегрировав которое по $x$ (с учетом граничного условия га поверхности трещины $ P = P_w $), будем иметь:\n",
    "\n",
    "$$ P = P_w + \\frac{qμ}{2kLh}\\left( |x| - \\frac{x^{2}}{2W}\\right) $$\n",
    "\n",
    "Полученное уравнение отличается от аналогичного уравнение для установившегося притока наличием дополнительного слагаемого. В призабойной зоне скважины наличие этого члена мало влияет на значение давление, а вот по мере удаления от трещины его влияние возрастает: чем ближе к границе пласта, тем меньше градиент давления (на границе снижается до нуля).\n",
    "\n",
    "Среднее по объему пластовое давление $ P_a $ получается из следующего уравнения:\n",
    "\n",
    "$$ P_a = P_w + \\frac{qμW}{6kLh} $$ \n",
    "\n",
    "Разрешая это уравнение относительно $q$, получаем:\n",
    "\n",
    "$$ q = \\frac{6kLh\\left( P_a - P_w\\right)}{μW} $$\n",
    "*(для каждой из сторон)\n",
    "\n",
    "ref \"Horizontal Wells for the Recovery of Oil, Gas and Bitumen by Roger M. Butler, p. 146\""
   ]
  },
  {
   "cell_type": "markdown",
   "id": "eleven-circumstances",
   "metadata": {},
   "source": [
    "# Построим модель в opm"
   ]
  },
  {
   "cell_type": "code",
   "execution_count": 3,
   "id": "aboriginal-cleanup",
   "metadata": {},
   "outputs": [],
   "source": [
    "from model_create import ModelGenerator, clear_folders\n",
    "#clear_folders()\n",
    "# Параметры, которые необходимо расчитать:\n",
    "parameters = ['FOPT', 'WOPR:*', 'FPR', 'WBHP:P1',]# 'FWPT', 'FLPT', 'FGPT', 'FWIT']\n",
    "\n",
    "# Зададим дату начала расчета и продолжительность:\n",
    "start_date = u\"1 'JAN' 2020\"\n",
    "mounths = 5 # количество итераций;\n",
    "days = 60 # продолжительность итерации;\n",
    "\n",
    "# Зададим размеры модели:\n",
    "lgr = True # локальное измельчение сетки по центру;\n",
    "cells_cy = 20 # количество измельченных ячеек по y;\n",
    "cells_cx = 4 # количество измельченных ячеек по x;\n",
    "cells_v = 10 # размер измельченных ячеек, м;\n",
    "nx = 40 # количество ячеек по х;\n",
    "ny = 40 # количество ячеек по y;\n",
    "nz = 10 # количество ячеек по z;\n",
    "lx = 1500 # длина модели по x, м;\n",
    "ly = lx # длина модели по y, м;\n",
    "dz = 1 # размер ячейки по z, м;\n",
    "tops_depth = 2500 # глубина залегания пласта, м;\n",
    "\n",
    "# Зададим пористость и проницаемость:\n",
    "por = 0.3 # пористость, д.ед;\n",
    "\n",
    "# Зададим название, расположение добываюещей скважины и ее режим работы:\n",
    "horizontal = [True] # Идентификатор горизонтальной скважины для скрипта\n",
    "prod_names = ['P1'] # название скважин;\n",
    "prod_xs=[20] # координата скважин по x;\n",
    "prod_ys=[11] # координата скважин по y (если horizontal=true - начальная координата);\n",
    "y_stop = [31] # координата конца горизонтальной скважины, если horizontal=true;\n",
    "prod_z1s=[1] # начало интервала вскрытия по z;\n",
    "prod_z2s=[6] # конец интервала вскрытия по z (если horizontal=true, то показывает уровень вскрытия);\n",
    "rezim = ['BHP'] # Режим работы скважины\n",
    "prod_q_oil = ['1*'] # дебит, м3/сут;\n",
    "prod_bhp = ['200'] # забойное давление, атм;\n",
    "\n",
    "# Другие настройки модели:\n",
    "only_prod = True # Модель только с добывающими скважинами\n",
    "upr_rezim_water = False # Моделируем упруго-водонапорный режим\n",
    "upr_rezim_gas = False # Моделируем газонапорный режим\n",
    "neogr_plast = True # Моделируем неограниченный пласт\n",
    "\n",
    "# Задаем скин, радиус скважины (последовательно для добывающих и нагнетательных скважин):\n",
    "skin = [0]\n",
    "rw = [0.078]\n",
    "\n",
    "# Свойства продукции:\n",
    "oil_den = 896 # плотность нефти, кг/м3;\n",
    "wat_den = 1190 # плотность воды, кг/м3;\n",
    "gas_den = 0.9 # плотность газа, кг/м3;\n",
    "\n",
    "# Свойства поороды:\n",
    "rock_compr = 1.5E-005 # сжимаемость породы, Па^-1\n",
    "\n",
    "# EQUILIBRIUM DATA:\n",
    "p_depth = 2500 # Глубина замера пластового давления, м;\n",
    "p_init = 286  # Начальное пластовое давление, атм;\n",
    "o_w_contact = 2550 # Глубина ВНК, м;\n",
    "pc_woc = 0 # Капиллярное давление на ВНК \n",
    "g_o_contact = 2400 # Глубина ГНК, м;\n",
    "pc_goc = 0 # Капиллярное давление на ГНК"
   ]
  },
  {
   "cell_type": "code",
   "execution_count": 4,
   "id": "joined-reply",
   "metadata": {},
   "outputs": [],
   "source": [
    "#выбираем шаблон data файла для различных симуляторов\n",
    "template = 1 # : 1-opm; 2-ecl (в разработке)\n",
    "permx_list = [5, 50, 200] # проницаемость по x, мД;\n",
    "kk = [0.25, 0.5, 1, 3]\n",
    "model_list = []\n",
    "for j in range(0, 4):\n",
    "    for i in range(0, 1):\n",
    "        permx = permx_list[i]\n",
    "        permy = permx_list[i] # проницаемость по y, мД;\n",
    "        permz = permx_list[i]*kk[j] # проницаемость по z, мД;\n",
    "        model_name = f'TEST_MODEL_HORIZONTAL.{j}{i}'\n",
    "        result_name = model_name\n",
    "        model_list.append(' горизонтальная проницаемость - ' + str(permx) + ' мД; анизотропия - ' + str(kk[j]))\n",
    "        model = ModelGenerator(start_date=start_date, mounths=mounths,\n",
    "                        days=days, nx=nx, ny=ny, nz=nz, dz=dz, por=por, permx=permx,\n",
    "                        permy=permy, permz=permz, prod_names=prod_names, prod_xs=prod_xs,\n",
    "                        prod_ys=prod_ys, prod_z1s=prod_z1s, prod_z2s=prod_z2s, prod_q_oil=prod_q_oil,\n",
    "                        skin=skin, oil_den=oil_den, wat_den=wat_den, gas_den=gas_den, p_depth=p_depth, \n",
    "                        p_init=p_init, o_w_contact=o_w_contact, pc_woc=pc_woc, g_o_contact=g_o_contact,\n",
    "                        pc_goc=pc_goc, tops_depth = tops_depth, rock_compr=rock_compr,\n",
    "                        rezim=rezim, prod_bhp=prod_bhp, horizontal=horizontal, y_stop=y_stop, only_prod=only_prod,\n",
    "                        lgr=lgr, lx=lx, ly=ly, cells_cy=cells_cy, cells_v=cells_v, cells_cx=cells_cx,\n",
    "                        upr_rezim_water=upr_rezim_water, upr_rezim_gas=upr_rezim_gas, rw=rw, template=template, neogr=neogr_plast)\n",
    "        #model.create_model(model_name, result_name, parameters)"
   ]
  },
  {
   "cell_type": "markdown",
   "id": "patent-enhancement",
   "metadata": {},
   "source": [
    "# Сравним результаты"
   ]
  },
  {
   "cell_type": "code",
   "execution_count": 5,
   "id": "ruled-execution",
   "metadata": {},
   "outputs": [],
   "source": [
    "import math as m\n",
    "# Вариант №1\n",
    "# Батлер - приток к протяженной трещине при псевдоустановившемся режиме 146 с.\n",
    "def bat_1(lx, dP, permx, mu, permz, rw, h, L, B):\n",
    "    pi = 3.14\n",
    "    Rк = lx/2 # м, радиус контура питания\n",
    "    dP = dP/10*10**6 # Па, перепад давления\n",
    "    kh = permx/10**15 # м2, проницаемость (в числовой модели изотропный пласт)\n",
    "    mu = mu/1000 # Па*с, вязкость\n",
    "    a = lx # м, сторона модели\n",
    "    kv = permz/10**15\n",
    "    Rm = 0.5*rw*(1+m.sqrt(kh/kv))\n",
    "    hm = h*m.sqrt(kh/kv) # lx\n",
    "    Q5 = (6*kh*L*h*dP)/(mu*lx/2)*86400/B*2\n",
    "    return Q5"
   ]
  },
  {
   "cell_type": "code",
   "execution_count": 29,
   "id": "presidential-booth",
   "metadata": {},
   "outputs": [],
   "source": [
    "# метод для добавления данных на график\n",
    "import pandas as pd \n",
    "import plotly.graph_objects as go\n",
    "from plotly.offline import iplot\n",
    "from ecl2df import pvt, EclFiles\n",
    "import numpy as np\n",
    "import scipy.interpolate\n",
    "\n",
    "def figure_plot( rw, kh, h, kk, L, zw, re, lx, ly, S, start_date, title):\n",
    "    # Получаем забойное и пластовое давление на все иттерации\n",
    "    start_date = pd.to_datetime(start_date)\n",
    "    fig = go.Figure()\n",
    "    for k in range(0, 4):\n",
    "        filename = f'TEST_MODEL_HORIZONTAL.{k}0'\n",
    "        df_time = pd.read_csv(f'csv_folder/{filename}.csv', parse_dates=[0], index_col=[0], usecols=['Time' ,'FPR', 'WBHP:P1', 'WOPR:P1'])\n",
    "        y_list = []\n",
    "        fig.add_trace(go.Scatter(\n",
    "                    x=df_time.index,\n",
    "                    y=df_time['WOPR:P1'],\n",
    "                    mode='lines',\n",
    "                    name='OPM; аниз. -'+str(kk[k])))\n",
    "        for i in df_time.values:\n",
    "            dP = i[1] - i[2]\n",
    "            eclfiles = EclFiles(f'model_folder/{filename}')\n",
    "            dframe = pvt.df(eclfiles)\n",
    "            indic = dframe['KEYWORD'] == 'PVDO'\n",
    "            res_df = dframe.loc[indic][['PRESSURE', 'VOLUMEFACTOR', 'VISCOSITY']]\n",
    "            x = res_df['PRESSURE'].values\n",
    "            y1 = res_df['VOLUMEFACTOR'].values\n",
    "            z = np.poly1d(np.polyfit(x, y1, 2))\n",
    "            xp = np.linspace(0, 600, 100)\n",
    "            sol_list_x = [i[1], i[1]+0.1, i[1]+0.2, i[1]+0.3]\n",
    "            sol_list_y = [0, 1, 2, 3]\n",
    "            interp1 = scipy.interpolate.InterpolatedUnivariateSpline(xp, z(xp))\n",
    "            interp2 = scipy.interpolate.InterpolatedUnivariateSpline(sol_list_x, sol_list_y)\n",
    "            new_x = np.linspace(np.array(xp).min(), np.array(xp).max(), 100)\n",
    "            new_y11 = interp1(new_x)\n",
    "            new_y21 = interp2(new_x)\n",
    "            idx1 = np.argwhere(np.diff(np.sign(new_y11 - new_y21)) != 0)\n",
    "            y_sol = round(new_y11[idx1[0]][0].astype(float),2)\n",
    "            x_sol = round(new_x[idx1[0]][0].astype(float),2)\n",
    "            y2 = res_df['VISCOSITY'].values\n",
    "            z = np.poly1d(np.polyfit(x, y2, 2))\n",
    "            xp = np.linspace(0, 600, 100)\n",
    "            sol_list_x = [i[1], i[1]+0.1, i[1]+0.2, i[1]+0.3]\n",
    "            sol_list_y = [0, 1, 2, 3]\n",
    "            interp1 = scipy.interpolate.InterpolatedUnivariateSpline(xp, z(xp))\n",
    "            interp2 = scipy.interpolate.InterpolatedUnivariateSpline(sol_list_x, sol_list_y)\n",
    "            new_x = np.linspace(np.array(xp).min(), np.array(xp).max(), 100)\n",
    "            new_y12 = interp1(new_x)\n",
    "            new_y22 = interp2(new_x)\n",
    "            idx2 = np.argwhere(np.diff(np.sign(new_y12 - new_y22)) != 0)\n",
    "            y_sol = round(new_y12[idx2[0]][0].astype(float),2)\n",
    "            x_sol = round(new_x[idx2[0]][0].astype(float),2)\n",
    "            y_list.append(bat_1(lx, dP, kh, new_y12[idx2[0]][0], kh*kk[k], rw, h, L, new_y11[idx1[0]][0]))\n",
    "        fig.add_trace(go.Scatter(\n",
    "                    x=df_time.index,\n",
    "                    y=y_list,\n",
    "                    mode='lines',\n",
    "                    name='вертикальная трещина; аниз. -'+str(kk[k])))\n",
    "        fig.update_xaxes(tickformat='%d.%m.%y')\n",
    "        fig.update_layout(title=go.layout.Title(text=title),\n",
    "                               xaxis_title='Дата',\n",
    "                               yaxis_title='Qж, м3/сут')\n",
    "    return fig"
   ]
  },
  {
   "cell_type": "code",
   "execution_count": 30,
   "id": "precious-contamination",
   "metadata": {
    "scrolled": false
   },
   "outputs": [
    {
     "data": {
      "application/vnd.plotly.v1+json": {
       "config": {
        "linkText": "Export to plot.ly",
        "plotlyServerURL": "https://plot.ly",
        "showLink": false
       },
       "data": [
        {
         "mode": "lines",
         "name": "OPM; аниз. -0.25",
         "type": "scatter",
         "x": [
          "2020-01-02T00:00:00",
          "2020-01-05T00:00:00",
          "2020-01-13T13:03:55",
          "2020-02-01T17:48:38",
          "2020-03-01T00:00:00",
          "2020-04-30T00:00:00",
          "2020-06-29T00:00:00",
          "2020-08-28T00:00:00",
          "2020-10-27T00:00:00"
         ],
         "y": [
          131.44386291503906,
          92.9864273071289,
          68.52416229248047,
          54.20751953125,
          47.13592529296875,
          41.8604850769043,
          39.51884460449219,
          38.36334609985352,
          37.76805877685547
         ]
        },
        {
         "mode": "lines",
         "name": "вертикальная трещина; аниз. -0.25",
         "type": "scatter",
         "x": [
          "2020-01-02T00:00:00",
          "2020-01-05T00:00:00",
          "2020-01-13T13:03:55",
          "2020-02-01T17:48:38",
          "2020-03-01T00:00:00",
          "2020-04-30T00:00:00",
          "2020-06-29T00:00:00",
          "2020-08-28T00:00:00",
          "2020-10-27T00:00:00"
         ],
         "y": [
          76.57572558174121,
          76.57534669803601,
          76.57431829940765,
          76.57258625961254,
          76.57034002050322,
          76.56584754228462,
          76.56143625343141,
          76.55710615394356,
          76.55277605445576
         ]
        },
        {
         "mode": "lines",
         "name": "OPM; аниз. -0.5",
         "type": "scatter",
         "x": [
          "2020-01-02T00:00:00",
          "2020-01-04T17:56:17",
          "2020-01-12T23:45:10",
          "2020-01-28T13:17:41",
          "2020-03-01T00:00:00",
          "2020-04-30T00:00:00",
          "2020-06-29T00:00:00",
          "2020-08-28T00:00:00",
          "2020-10-27T00:00:00"
         ],
         "y": [
          140.32147216796875,
          115.89007568359376,
          75.92556762695312,
          59.56509399414063,
          49.7502555847168,
          43.81117248535156,
          41.23039627075195,
          39.975582122802734,
          39.33471298217773
         ]
        },
        {
         "mode": "lines",
         "name": "вертикальная трещина; аниз. -0.5",
         "type": "scatter",
         "x": [
          "2020-01-02T00:00:00",
          "2020-01-04T17:56:17",
          "2020-01-12T23:45:10",
          "2020-01-28T13:17:41",
          "2020-03-01T00:00:00",
          "2020-04-30T00:00:00",
          "2020-06-29T00:00:00",
          "2020-08-28T00:00:00",
          "2020-10-27T00:00:00"
         ],
         "y": [
          76.57564439237582,
          76.57545495052321,
          76.57431829940765,
          76.57280276458691,
          76.57006938928525,
          76.56536040609224,
          76.56078673850823,
          76.55624013404602,
          76.5517476558274
         ]
        },
        {
         "mode": "lines",
         "name": "OPM; аниз. -1",
         "type": "scatter",
         "x": [
          "2020-01-02T00:00:00",
          "2020-01-04T16:15:24",
          "2020-01-12T17:01:38",
          "2020-01-28T21:37:52",
          "2020-03-01T00:00:00",
          "2020-04-30T00:00:00",
          "2020-06-29T00:00:00",
          "2020-08-28T00:00:00",
          "2020-10-27T00:00:00"
         ],
         "y": [
          170.90809631347656,
          120.04627990722656,
          78.69319152832031,
          61.42144393920898,
          51.35020065307617,
          45.1581916809082,
          42.47291564941406,
          41.172096252441406,
          40.51408767700195
         ]
        },
        {
         "mode": "lines",
         "name": "вертикальная трещина; аниз. -1",
         "type": "scatter",
         "x": [
          "2020-01-02T00:00:00",
          "2020-01-04T16:15:24",
          "2020-01-12T17:01:38",
          "2020-01-28T21:37:52",
          "2020-03-01T00:00:00",
          "2020-04-30T00:00:00",
          "2020-06-29T00:00:00",
          "2020-08-28T00:00:00",
          "2020-10-27T00:00:00"
         ],
         "y": [
          76.57561732925402,
          76.57531963491422,
          76.57418298379866,
          76.5725591964907,
          76.56974463182365,
          76.56490033302164,
          76.56019134982864,
          76.55550942975745,
          76.55088163592984
         ]
        },
        {
         "mode": "lines",
         "name": "OPM; аниз. -3",
         "type": "scatter",
         "x": [
          "2020-01-02T00:00:00",
          "2020-01-04T12:39:30",
          "2020-01-12T02:38:02",
          "2020-01-29T08:30:11",
          "2020-03-01T00:00:00",
          "2020-04-30T00:00:00",
          "2020-06-29T00:00:00",
          "2020-08-28T00:00:00",
          "2020-10-27T00:00:00"
         ],
         "y": [
          203.6189422607422,
          124.0850830078125,
          82.00103759765625,
          63.3974838256836,
          53.0977897644043,
          46.639305114746094,
          43.84333038330078,
          42.50078582763672,
          41.82328414916992
         ]
        },
        {
         "mode": "lines",
         "name": "вертикальная трещина; аниз. -3",
         "type": "scatter",
         "x": [
          "2020-01-02T00:00:00",
          "2020-01-04T12:39:30",
          "2020-01-12T02:38:02",
          "2020-01-29T08:30:11",
          "2020-03-01T00:00:00",
          "2020-04-30T00:00:00",
          "2020-06-29T00:00:00",
          "2020-08-28T00:00:00",
          "2020-10-27T00:00:00"
         ],
         "y": [
          76.57553613988861,
          76.57513019306163,
          76.57404766818968,
          76.57226150215095,
          76.56939281124026,
          76.56438613370747,
          76.55951477178368,
          76.55469753610349,
          76.54988030042327
         ]
        }
       ],
       "layout": {
        "template": {
         "data": {
          "bar": [
           {
            "error_x": {
             "color": "#2a3f5f"
            },
            "error_y": {
             "color": "#2a3f5f"
            },
            "marker": {
             "line": {
              "color": "#E5ECF6",
              "width": 0.5
             }
            },
            "type": "bar"
           }
          ],
          "barpolar": [
           {
            "marker": {
             "line": {
              "color": "#E5ECF6",
              "width": 0.5
             }
            },
            "type": "barpolar"
           }
          ],
          "carpet": [
           {
            "aaxis": {
             "endlinecolor": "#2a3f5f",
             "gridcolor": "white",
             "linecolor": "white",
             "minorgridcolor": "white",
             "startlinecolor": "#2a3f5f"
            },
            "baxis": {
             "endlinecolor": "#2a3f5f",
             "gridcolor": "white",
             "linecolor": "white",
             "minorgridcolor": "white",
             "startlinecolor": "#2a3f5f"
            },
            "type": "carpet"
           }
          ],
          "choropleth": [
           {
            "colorbar": {
             "outlinewidth": 0,
             "ticks": ""
            },
            "type": "choropleth"
           }
          ],
          "contour": [
           {
            "colorbar": {
             "outlinewidth": 0,
             "ticks": ""
            },
            "colorscale": [
             [
              0,
              "#0d0887"
             ],
             [
              0.1111111111111111,
              "#46039f"
             ],
             [
              0.2222222222222222,
              "#7201a8"
             ],
             [
              0.3333333333333333,
              "#9c179e"
             ],
             [
              0.4444444444444444,
              "#bd3786"
             ],
             [
              0.5555555555555556,
              "#d8576b"
             ],
             [
              0.6666666666666666,
              "#ed7953"
             ],
             [
              0.7777777777777778,
              "#fb9f3a"
             ],
             [
              0.8888888888888888,
              "#fdca26"
             ],
             [
              1,
              "#f0f921"
             ]
            ],
            "type": "contour"
           }
          ],
          "contourcarpet": [
           {
            "colorbar": {
             "outlinewidth": 0,
             "ticks": ""
            },
            "type": "contourcarpet"
           }
          ],
          "heatmap": [
           {
            "colorbar": {
             "outlinewidth": 0,
             "ticks": ""
            },
            "colorscale": [
             [
              0,
              "#0d0887"
             ],
             [
              0.1111111111111111,
              "#46039f"
             ],
             [
              0.2222222222222222,
              "#7201a8"
             ],
             [
              0.3333333333333333,
              "#9c179e"
             ],
             [
              0.4444444444444444,
              "#bd3786"
             ],
             [
              0.5555555555555556,
              "#d8576b"
             ],
             [
              0.6666666666666666,
              "#ed7953"
             ],
             [
              0.7777777777777778,
              "#fb9f3a"
             ],
             [
              0.8888888888888888,
              "#fdca26"
             ],
             [
              1,
              "#f0f921"
             ]
            ],
            "type": "heatmap"
           }
          ],
          "heatmapgl": [
           {
            "colorbar": {
             "outlinewidth": 0,
             "ticks": ""
            },
            "colorscale": [
             [
              0,
              "#0d0887"
             ],
             [
              0.1111111111111111,
              "#46039f"
             ],
             [
              0.2222222222222222,
              "#7201a8"
             ],
             [
              0.3333333333333333,
              "#9c179e"
             ],
             [
              0.4444444444444444,
              "#bd3786"
             ],
             [
              0.5555555555555556,
              "#d8576b"
             ],
             [
              0.6666666666666666,
              "#ed7953"
             ],
             [
              0.7777777777777778,
              "#fb9f3a"
             ],
             [
              0.8888888888888888,
              "#fdca26"
             ],
             [
              1,
              "#f0f921"
             ]
            ],
            "type": "heatmapgl"
           }
          ],
          "histogram": [
           {
            "marker": {
             "colorbar": {
              "outlinewidth": 0,
              "ticks": ""
             }
            },
            "type": "histogram"
           }
          ],
          "histogram2d": [
           {
            "colorbar": {
             "outlinewidth": 0,
             "ticks": ""
            },
            "colorscale": [
             [
              0,
              "#0d0887"
             ],
             [
              0.1111111111111111,
              "#46039f"
             ],
             [
              0.2222222222222222,
              "#7201a8"
             ],
             [
              0.3333333333333333,
              "#9c179e"
             ],
             [
              0.4444444444444444,
              "#bd3786"
             ],
             [
              0.5555555555555556,
              "#d8576b"
             ],
             [
              0.6666666666666666,
              "#ed7953"
             ],
             [
              0.7777777777777778,
              "#fb9f3a"
             ],
             [
              0.8888888888888888,
              "#fdca26"
             ],
             [
              1,
              "#f0f921"
             ]
            ],
            "type": "histogram2d"
           }
          ],
          "histogram2dcontour": [
           {
            "colorbar": {
             "outlinewidth": 0,
             "ticks": ""
            },
            "colorscale": [
             [
              0,
              "#0d0887"
             ],
             [
              0.1111111111111111,
              "#46039f"
             ],
             [
              0.2222222222222222,
              "#7201a8"
             ],
             [
              0.3333333333333333,
              "#9c179e"
             ],
             [
              0.4444444444444444,
              "#bd3786"
             ],
             [
              0.5555555555555556,
              "#d8576b"
             ],
             [
              0.6666666666666666,
              "#ed7953"
             ],
             [
              0.7777777777777778,
              "#fb9f3a"
             ],
             [
              0.8888888888888888,
              "#fdca26"
             ],
             [
              1,
              "#f0f921"
             ]
            ],
            "type": "histogram2dcontour"
           }
          ],
          "mesh3d": [
           {
            "colorbar": {
             "outlinewidth": 0,
             "ticks": ""
            },
            "type": "mesh3d"
           }
          ],
          "parcoords": [
           {
            "line": {
             "colorbar": {
              "outlinewidth": 0,
              "ticks": ""
             }
            },
            "type": "parcoords"
           }
          ],
          "pie": [
           {
            "automargin": true,
            "type": "pie"
           }
          ],
          "scatter": [
           {
            "marker": {
             "colorbar": {
              "outlinewidth": 0,
              "ticks": ""
             }
            },
            "type": "scatter"
           }
          ],
          "scatter3d": [
           {
            "line": {
             "colorbar": {
              "outlinewidth": 0,
              "ticks": ""
             }
            },
            "marker": {
             "colorbar": {
              "outlinewidth": 0,
              "ticks": ""
             }
            },
            "type": "scatter3d"
           }
          ],
          "scattercarpet": [
           {
            "marker": {
             "colorbar": {
              "outlinewidth": 0,
              "ticks": ""
             }
            },
            "type": "scattercarpet"
           }
          ],
          "scattergeo": [
           {
            "marker": {
             "colorbar": {
              "outlinewidth": 0,
              "ticks": ""
             }
            },
            "type": "scattergeo"
           }
          ],
          "scattergl": [
           {
            "marker": {
             "colorbar": {
              "outlinewidth": 0,
              "ticks": ""
             }
            },
            "type": "scattergl"
           }
          ],
          "scattermapbox": [
           {
            "marker": {
             "colorbar": {
              "outlinewidth": 0,
              "ticks": ""
             }
            },
            "type": "scattermapbox"
           }
          ],
          "scatterpolar": [
           {
            "marker": {
             "colorbar": {
              "outlinewidth": 0,
              "ticks": ""
             }
            },
            "type": "scatterpolar"
           }
          ],
          "scatterpolargl": [
           {
            "marker": {
             "colorbar": {
              "outlinewidth": 0,
              "ticks": ""
             }
            },
            "type": "scatterpolargl"
           }
          ],
          "scatterternary": [
           {
            "marker": {
             "colorbar": {
              "outlinewidth": 0,
              "ticks": ""
             }
            },
            "type": "scatterternary"
           }
          ],
          "surface": [
           {
            "colorbar": {
             "outlinewidth": 0,
             "ticks": ""
            },
            "colorscale": [
             [
              0,
              "#0d0887"
             ],
             [
              0.1111111111111111,
              "#46039f"
             ],
             [
              0.2222222222222222,
              "#7201a8"
             ],
             [
              0.3333333333333333,
              "#9c179e"
             ],
             [
              0.4444444444444444,
              "#bd3786"
             ],
             [
              0.5555555555555556,
              "#d8576b"
             ],
             [
              0.6666666666666666,
              "#ed7953"
             ],
             [
              0.7777777777777778,
              "#fb9f3a"
             ],
             [
              0.8888888888888888,
              "#fdca26"
             ],
             [
              1,
              "#f0f921"
             ]
            ],
            "type": "surface"
           }
          ],
          "table": [
           {
            "cells": {
             "fill": {
              "color": "#EBF0F8"
             },
             "line": {
              "color": "white"
             }
            },
            "header": {
             "fill": {
              "color": "#C8D4E3"
             },
             "line": {
              "color": "white"
             }
            },
            "type": "table"
           }
          ]
         },
         "layout": {
          "annotationdefaults": {
           "arrowcolor": "#2a3f5f",
           "arrowhead": 0,
           "arrowwidth": 1
          },
          "autotypenumbers": "strict",
          "coloraxis": {
           "colorbar": {
            "outlinewidth": 0,
            "ticks": ""
           }
          },
          "colorscale": {
           "diverging": [
            [
             0,
             "#8e0152"
            ],
            [
             0.1,
             "#c51b7d"
            ],
            [
             0.2,
             "#de77ae"
            ],
            [
             0.3,
             "#f1b6da"
            ],
            [
             0.4,
             "#fde0ef"
            ],
            [
             0.5,
             "#f7f7f7"
            ],
            [
             0.6,
             "#e6f5d0"
            ],
            [
             0.7,
             "#b8e186"
            ],
            [
             0.8,
             "#7fbc41"
            ],
            [
             0.9,
             "#4d9221"
            ],
            [
             1,
             "#276419"
            ]
           ],
           "sequential": [
            [
             0,
             "#0d0887"
            ],
            [
             0.1111111111111111,
             "#46039f"
            ],
            [
             0.2222222222222222,
             "#7201a8"
            ],
            [
             0.3333333333333333,
             "#9c179e"
            ],
            [
             0.4444444444444444,
             "#bd3786"
            ],
            [
             0.5555555555555556,
             "#d8576b"
            ],
            [
             0.6666666666666666,
             "#ed7953"
            ],
            [
             0.7777777777777778,
             "#fb9f3a"
            ],
            [
             0.8888888888888888,
             "#fdca26"
            ],
            [
             1,
             "#f0f921"
            ]
           ],
           "sequentialminus": [
            [
             0,
             "#0d0887"
            ],
            [
             0.1111111111111111,
             "#46039f"
            ],
            [
             0.2222222222222222,
             "#7201a8"
            ],
            [
             0.3333333333333333,
             "#9c179e"
            ],
            [
             0.4444444444444444,
             "#bd3786"
            ],
            [
             0.5555555555555556,
             "#d8576b"
            ],
            [
             0.6666666666666666,
             "#ed7953"
            ],
            [
             0.7777777777777778,
             "#fb9f3a"
            ],
            [
             0.8888888888888888,
             "#fdca26"
            ],
            [
             1,
             "#f0f921"
            ]
           ]
          },
          "colorway": [
           "#636efa",
           "#EF553B",
           "#00cc96",
           "#ab63fa",
           "#FFA15A",
           "#19d3f3",
           "#FF6692",
           "#B6E880",
           "#FF97FF",
           "#FECB52"
          ],
          "font": {
           "color": "#2a3f5f"
          },
          "geo": {
           "bgcolor": "white",
           "lakecolor": "white",
           "landcolor": "#E5ECF6",
           "showlakes": true,
           "showland": true,
           "subunitcolor": "white"
          },
          "hoverlabel": {
           "align": "left"
          },
          "hovermode": "closest",
          "mapbox": {
           "style": "light"
          },
          "paper_bgcolor": "white",
          "plot_bgcolor": "#E5ECF6",
          "polar": {
           "angularaxis": {
            "gridcolor": "white",
            "linecolor": "white",
            "ticks": ""
           },
           "bgcolor": "#E5ECF6",
           "radialaxis": {
            "gridcolor": "white",
            "linecolor": "white",
            "ticks": ""
           }
          },
          "scene": {
           "xaxis": {
            "backgroundcolor": "#E5ECF6",
            "gridcolor": "white",
            "gridwidth": 2,
            "linecolor": "white",
            "showbackground": true,
            "ticks": "",
            "zerolinecolor": "white"
           },
           "yaxis": {
            "backgroundcolor": "#E5ECF6",
            "gridcolor": "white",
            "gridwidth": 2,
            "linecolor": "white",
            "showbackground": true,
            "ticks": "",
            "zerolinecolor": "white"
           },
           "zaxis": {
            "backgroundcolor": "#E5ECF6",
            "gridcolor": "white",
            "gridwidth": 2,
            "linecolor": "white",
            "showbackground": true,
            "ticks": "",
            "zerolinecolor": "white"
           }
          },
          "shapedefaults": {
           "line": {
            "color": "#2a3f5f"
           }
          },
          "ternary": {
           "aaxis": {
            "gridcolor": "white",
            "linecolor": "white",
            "ticks": ""
           },
           "baxis": {
            "gridcolor": "white",
            "linecolor": "white",
            "ticks": ""
           },
           "bgcolor": "#E5ECF6",
           "caxis": {
            "gridcolor": "white",
            "linecolor": "white",
            "ticks": ""
           }
          },
          "title": {
           "x": 0.05
          },
          "xaxis": {
           "automargin": true,
           "gridcolor": "white",
           "linecolor": "white",
           "ticks": "",
           "title": {
            "standoff": 15
           },
           "zerolinecolor": "white",
           "zerolinewidth": 2
          },
          "yaxis": {
           "automargin": true,
           "gridcolor": "white",
           "linecolor": "white",
           "ticks": "",
           "title": {
            "standoff": 15
           },
           "zerolinecolor": "white",
           "zerolinewidth": 2
          }
         }
        },
        "title": {
         "text": " горизонтальная проницаемость - 5 мД; анизотропия - 0.25"
        },
        "xaxis": {
         "tickformat": "%d.%m.%y",
         "title": {
          "text": "Дата"
         }
        },
        "yaxis": {
         "title": {
          "text": "Qж, м3/сут"
         }
        }
       }
      },
      "text/html": [
       "<div>                            <div id=\"1f2594a7-f78b-4737-83bb-2ad0c657287c\" class=\"plotly-graph-div\" style=\"height:525px; width:100%;\"></div>            <script type=\"text/javascript\">                require([\"plotly\"], function(Plotly) {                    window.PLOTLYENV=window.PLOTLYENV || {};                                    if (document.getElementById(\"1f2594a7-f78b-4737-83bb-2ad0c657287c\")) {                    Plotly.newPlot(                        \"1f2594a7-f78b-4737-83bb-2ad0c657287c\",                        [{\"mode\": \"lines\", \"name\": \"OPM; \\u0430\\u043d\\u0438\\u0437. -0.25\", \"type\": \"scatter\", \"x\": [\"2020-01-02T00:00:00\", \"2020-01-05T00:00:00\", \"2020-01-13T13:03:55\", \"2020-02-01T17:48:38\", \"2020-03-01T00:00:00\", \"2020-04-30T00:00:00\", \"2020-06-29T00:00:00\", \"2020-08-28T00:00:00\", \"2020-10-27T00:00:00\"], \"y\": [131.44386291503906, 92.9864273071289, 68.52416229248047, 54.20751953125, 47.13592529296875, 41.8604850769043, 39.51884460449219, 38.36334609985352, 37.76805877685547]}, {\"mode\": \"lines\", \"name\": \"\\u0432\\u0435\\u0440\\u0442\\u0438\\u043a\\u0430\\u043b\\u044c\\u043d\\u0430\\u044f \\u0442\\u0440\\u0435\\u0449\\u0438\\u043d\\u0430; \\u0430\\u043d\\u0438\\u0437. -0.25\", \"type\": \"scatter\", \"x\": [\"2020-01-02T00:00:00\", \"2020-01-05T00:00:00\", \"2020-01-13T13:03:55\", \"2020-02-01T17:48:38\", \"2020-03-01T00:00:00\", \"2020-04-30T00:00:00\", \"2020-06-29T00:00:00\", \"2020-08-28T00:00:00\", \"2020-10-27T00:00:00\"], \"y\": [76.57572558174121, 76.57534669803601, 76.57431829940765, 76.57258625961254, 76.57034002050322, 76.56584754228462, 76.56143625343141, 76.55710615394356, 76.55277605445576]}, {\"mode\": \"lines\", \"name\": \"OPM; \\u0430\\u043d\\u0438\\u0437. -0.5\", \"type\": \"scatter\", \"x\": [\"2020-01-02T00:00:00\", \"2020-01-04T17:56:17\", \"2020-01-12T23:45:10\", \"2020-01-28T13:17:41\", \"2020-03-01T00:00:00\", \"2020-04-30T00:00:00\", \"2020-06-29T00:00:00\", \"2020-08-28T00:00:00\", \"2020-10-27T00:00:00\"], \"y\": [140.32147216796875, 115.89007568359376, 75.92556762695312, 59.56509399414063, 49.7502555847168, 43.81117248535156, 41.23039627075195, 39.975582122802734, 39.33471298217773]}, {\"mode\": \"lines\", \"name\": \"\\u0432\\u0435\\u0440\\u0442\\u0438\\u043a\\u0430\\u043b\\u044c\\u043d\\u0430\\u044f \\u0442\\u0440\\u0435\\u0449\\u0438\\u043d\\u0430; \\u0430\\u043d\\u0438\\u0437. -0.5\", \"type\": \"scatter\", \"x\": [\"2020-01-02T00:00:00\", \"2020-01-04T17:56:17\", \"2020-01-12T23:45:10\", \"2020-01-28T13:17:41\", \"2020-03-01T00:00:00\", \"2020-04-30T00:00:00\", \"2020-06-29T00:00:00\", \"2020-08-28T00:00:00\", \"2020-10-27T00:00:00\"], \"y\": [76.57564439237582, 76.57545495052321, 76.57431829940765, 76.57280276458691, 76.57006938928525, 76.56536040609224, 76.56078673850823, 76.55624013404602, 76.5517476558274]}, {\"mode\": \"lines\", \"name\": \"OPM; \\u0430\\u043d\\u0438\\u0437. -1\", \"type\": \"scatter\", \"x\": [\"2020-01-02T00:00:00\", \"2020-01-04T16:15:24\", \"2020-01-12T17:01:38\", \"2020-01-28T21:37:52\", \"2020-03-01T00:00:00\", \"2020-04-30T00:00:00\", \"2020-06-29T00:00:00\", \"2020-08-28T00:00:00\", \"2020-10-27T00:00:00\"], \"y\": [170.90809631347656, 120.04627990722656, 78.69319152832031, 61.42144393920898, 51.35020065307617, 45.1581916809082, 42.47291564941406, 41.172096252441406, 40.51408767700195]}, {\"mode\": \"lines\", \"name\": \"\\u0432\\u0435\\u0440\\u0442\\u0438\\u043a\\u0430\\u043b\\u044c\\u043d\\u0430\\u044f \\u0442\\u0440\\u0435\\u0449\\u0438\\u043d\\u0430; \\u0430\\u043d\\u0438\\u0437. -1\", \"type\": \"scatter\", \"x\": [\"2020-01-02T00:00:00\", \"2020-01-04T16:15:24\", \"2020-01-12T17:01:38\", \"2020-01-28T21:37:52\", \"2020-03-01T00:00:00\", \"2020-04-30T00:00:00\", \"2020-06-29T00:00:00\", \"2020-08-28T00:00:00\", \"2020-10-27T00:00:00\"], \"y\": [76.57561732925402, 76.57531963491422, 76.57418298379866, 76.5725591964907, 76.56974463182365, 76.56490033302164, 76.56019134982864, 76.55550942975745, 76.55088163592984]}, {\"mode\": \"lines\", \"name\": \"OPM; \\u0430\\u043d\\u0438\\u0437. -3\", \"type\": \"scatter\", \"x\": [\"2020-01-02T00:00:00\", \"2020-01-04T12:39:30\", \"2020-01-12T02:38:02\", \"2020-01-29T08:30:11\", \"2020-03-01T00:00:00\", \"2020-04-30T00:00:00\", \"2020-06-29T00:00:00\", \"2020-08-28T00:00:00\", \"2020-10-27T00:00:00\"], \"y\": [203.6189422607422, 124.0850830078125, 82.00103759765625, 63.3974838256836, 53.0977897644043, 46.639305114746094, 43.84333038330078, 42.50078582763672, 41.82328414916992]}, {\"mode\": \"lines\", \"name\": \"\\u0432\\u0435\\u0440\\u0442\\u0438\\u043a\\u0430\\u043b\\u044c\\u043d\\u0430\\u044f \\u0442\\u0440\\u0435\\u0449\\u0438\\u043d\\u0430; \\u0430\\u043d\\u0438\\u0437. -3\", \"type\": \"scatter\", \"x\": [\"2020-01-02T00:00:00\", \"2020-01-04T12:39:30\", \"2020-01-12T02:38:02\", \"2020-01-29T08:30:11\", \"2020-03-01T00:00:00\", \"2020-04-30T00:00:00\", \"2020-06-29T00:00:00\", \"2020-08-28T00:00:00\", \"2020-10-27T00:00:00\"], \"y\": [76.57553613988861, 76.57513019306163, 76.57404766818968, 76.57226150215095, 76.56939281124026, 76.56438613370747, 76.55951477178368, 76.55469753610349, 76.54988030042327]}],                        {\"template\": {\"data\": {\"bar\": [{\"error_x\": {\"color\": \"#2a3f5f\"}, \"error_y\": {\"color\": \"#2a3f5f\"}, \"marker\": {\"line\": {\"color\": \"#E5ECF6\", \"width\": 0.5}}, \"type\": \"bar\"}], \"barpolar\": [{\"marker\": {\"line\": {\"color\": \"#E5ECF6\", \"width\": 0.5}}, \"type\": \"barpolar\"}], \"carpet\": [{\"aaxis\": {\"endlinecolor\": \"#2a3f5f\", \"gridcolor\": \"white\", \"linecolor\": \"white\", \"minorgridcolor\": \"white\", \"startlinecolor\": \"#2a3f5f\"}, \"baxis\": {\"endlinecolor\": \"#2a3f5f\", \"gridcolor\": \"white\", \"linecolor\": \"white\", \"minorgridcolor\": \"white\", \"startlinecolor\": \"#2a3f5f\"}, \"type\": \"carpet\"}], \"choropleth\": [{\"colorbar\": {\"outlinewidth\": 0, \"ticks\": \"\"}, \"type\": \"choropleth\"}], \"contour\": [{\"colorbar\": {\"outlinewidth\": 0, \"ticks\": \"\"}, \"colorscale\": [[0.0, \"#0d0887\"], [0.1111111111111111, \"#46039f\"], [0.2222222222222222, \"#7201a8\"], [0.3333333333333333, \"#9c179e\"], [0.4444444444444444, \"#bd3786\"], [0.5555555555555556, \"#d8576b\"], [0.6666666666666666, \"#ed7953\"], [0.7777777777777778, \"#fb9f3a\"], [0.8888888888888888, \"#fdca26\"], [1.0, \"#f0f921\"]], \"type\": \"contour\"}], \"contourcarpet\": [{\"colorbar\": {\"outlinewidth\": 0, \"ticks\": \"\"}, \"type\": \"contourcarpet\"}], \"heatmap\": [{\"colorbar\": {\"outlinewidth\": 0, \"ticks\": \"\"}, \"colorscale\": [[0.0, \"#0d0887\"], [0.1111111111111111, \"#46039f\"], [0.2222222222222222, \"#7201a8\"], [0.3333333333333333, \"#9c179e\"], [0.4444444444444444, \"#bd3786\"], [0.5555555555555556, \"#d8576b\"], [0.6666666666666666, \"#ed7953\"], [0.7777777777777778, \"#fb9f3a\"], [0.8888888888888888, \"#fdca26\"], [1.0, \"#f0f921\"]], \"type\": \"heatmap\"}], \"heatmapgl\": [{\"colorbar\": {\"outlinewidth\": 0, \"ticks\": \"\"}, \"colorscale\": [[0.0, \"#0d0887\"], [0.1111111111111111, \"#46039f\"], [0.2222222222222222, \"#7201a8\"], [0.3333333333333333, \"#9c179e\"], [0.4444444444444444, \"#bd3786\"], [0.5555555555555556, \"#d8576b\"], [0.6666666666666666, \"#ed7953\"], [0.7777777777777778, \"#fb9f3a\"], [0.8888888888888888, \"#fdca26\"], [1.0, \"#f0f921\"]], \"type\": \"heatmapgl\"}], \"histogram\": [{\"marker\": {\"colorbar\": {\"outlinewidth\": 0, \"ticks\": \"\"}}, \"type\": \"histogram\"}], \"histogram2d\": [{\"colorbar\": {\"outlinewidth\": 0, \"ticks\": \"\"}, \"colorscale\": [[0.0, \"#0d0887\"], [0.1111111111111111, \"#46039f\"], [0.2222222222222222, \"#7201a8\"], [0.3333333333333333, \"#9c179e\"], [0.4444444444444444, \"#bd3786\"], [0.5555555555555556, \"#d8576b\"], [0.6666666666666666, \"#ed7953\"], [0.7777777777777778, \"#fb9f3a\"], [0.8888888888888888, \"#fdca26\"], [1.0, \"#f0f921\"]], \"type\": \"histogram2d\"}], \"histogram2dcontour\": [{\"colorbar\": {\"outlinewidth\": 0, \"ticks\": \"\"}, \"colorscale\": [[0.0, \"#0d0887\"], [0.1111111111111111, \"#46039f\"], [0.2222222222222222, \"#7201a8\"], [0.3333333333333333, \"#9c179e\"], [0.4444444444444444, \"#bd3786\"], [0.5555555555555556, \"#d8576b\"], [0.6666666666666666, \"#ed7953\"], [0.7777777777777778, \"#fb9f3a\"], [0.8888888888888888, \"#fdca26\"], [1.0, \"#f0f921\"]], \"type\": \"histogram2dcontour\"}], \"mesh3d\": [{\"colorbar\": {\"outlinewidth\": 0, \"ticks\": \"\"}, \"type\": \"mesh3d\"}], \"parcoords\": [{\"line\": {\"colorbar\": {\"outlinewidth\": 0, \"ticks\": \"\"}}, \"type\": \"parcoords\"}], \"pie\": [{\"automargin\": true, \"type\": \"pie\"}], \"scatter\": [{\"marker\": {\"colorbar\": {\"outlinewidth\": 0, \"ticks\": \"\"}}, \"type\": \"scatter\"}], \"scatter3d\": [{\"line\": {\"colorbar\": {\"outlinewidth\": 0, \"ticks\": \"\"}}, \"marker\": {\"colorbar\": {\"outlinewidth\": 0, \"ticks\": \"\"}}, \"type\": \"scatter3d\"}], \"scattercarpet\": [{\"marker\": {\"colorbar\": {\"outlinewidth\": 0, \"ticks\": \"\"}}, \"type\": \"scattercarpet\"}], \"scattergeo\": [{\"marker\": {\"colorbar\": {\"outlinewidth\": 0, \"ticks\": \"\"}}, \"type\": \"scattergeo\"}], \"scattergl\": [{\"marker\": {\"colorbar\": {\"outlinewidth\": 0, \"ticks\": \"\"}}, \"type\": \"scattergl\"}], \"scattermapbox\": [{\"marker\": {\"colorbar\": {\"outlinewidth\": 0, \"ticks\": \"\"}}, \"type\": \"scattermapbox\"}], \"scatterpolar\": [{\"marker\": {\"colorbar\": {\"outlinewidth\": 0, \"ticks\": \"\"}}, \"type\": \"scatterpolar\"}], \"scatterpolargl\": [{\"marker\": {\"colorbar\": {\"outlinewidth\": 0, \"ticks\": \"\"}}, \"type\": \"scatterpolargl\"}], \"scatterternary\": [{\"marker\": {\"colorbar\": {\"outlinewidth\": 0, \"ticks\": \"\"}}, \"type\": \"scatterternary\"}], \"surface\": [{\"colorbar\": {\"outlinewidth\": 0, \"ticks\": \"\"}, \"colorscale\": [[0.0, \"#0d0887\"], [0.1111111111111111, \"#46039f\"], [0.2222222222222222, \"#7201a8\"], [0.3333333333333333, \"#9c179e\"], [0.4444444444444444, \"#bd3786\"], [0.5555555555555556, \"#d8576b\"], [0.6666666666666666, \"#ed7953\"], [0.7777777777777778, \"#fb9f3a\"], [0.8888888888888888, \"#fdca26\"], [1.0, \"#f0f921\"]], \"type\": \"surface\"}], \"table\": [{\"cells\": {\"fill\": {\"color\": \"#EBF0F8\"}, \"line\": {\"color\": \"white\"}}, \"header\": {\"fill\": {\"color\": \"#C8D4E3\"}, \"line\": {\"color\": \"white\"}}, \"type\": \"table\"}]}, \"layout\": {\"annotationdefaults\": {\"arrowcolor\": \"#2a3f5f\", \"arrowhead\": 0, \"arrowwidth\": 1}, \"autotypenumbers\": \"strict\", \"coloraxis\": {\"colorbar\": {\"outlinewidth\": 0, \"ticks\": \"\"}}, \"colorscale\": {\"diverging\": [[0, \"#8e0152\"], [0.1, \"#c51b7d\"], [0.2, \"#de77ae\"], [0.3, \"#f1b6da\"], [0.4, \"#fde0ef\"], [0.5, \"#f7f7f7\"], [0.6, \"#e6f5d0\"], [0.7, \"#b8e186\"], [0.8, \"#7fbc41\"], [0.9, \"#4d9221\"], [1, \"#276419\"]], \"sequential\": [[0.0, \"#0d0887\"], [0.1111111111111111, \"#46039f\"], [0.2222222222222222, \"#7201a8\"], [0.3333333333333333, \"#9c179e\"], [0.4444444444444444, \"#bd3786\"], [0.5555555555555556, \"#d8576b\"], [0.6666666666666666, \"#ed7953\"], [0.7777777777777778, \"#fb9f3a\"], [0.8888888888888888, \"#fdca26\"], [1.0, \"#f0f921\"]], \"sequentialminus\": [[0.0, \"#0d0887\"], [0.1111111111111111, \"#46039f\"], [0.2222222222222222, \"#7201a8\"], [0.3333333333333333, \"#9c179e\"], [0.4444444444444444, \"#bd3786\"], [0.5555555555555556, \"#d8576b\"], [0.6666666666666666, \"#ed7953\"], [0.7777777777777778, \"#fb9f3a\"], [0.8888888888888888, \"#fdca26\"], [1.0, \"#f0f921\"]]}, \"colorway\": [\"#636efa\", \"#EF553B\", \"#00cc96\", \"#ab63fa\", \"#FFA15A\", \"#19d3f3\", \"#FF6692\", \"#B6E880\", \"#FF97FF\", \"#FECB52\"], \"font\": {\"color\": \"#2a3f5f\"}, \"geo\": {\"bgcolor\": \"white\", \"lakecolor\": \"white\", \"landcolor\": \"#E5ECF6\", \"showlakes\": true, \"showland\": true, \"subunitcolor\": \"white\"}, \"hoverlabel\": {\"align\": \"left\"}, \"hovermode\": \"closest\", \"mapbox\": {\"style\": \"light\"}, \"paper_bgcolor\": \"white\", \"plot_bgcolor\": \"#E5ECF6\", \"polar\": {\"angularaxis\": {\"gridcolor\": \"white\", \"linecolor\": \"white\", \"ticks\": \"\"}, \"bgcolor\": \"#E5ECF6\", \"radialaxis\": {\"gridcolor\": \"white\", \"linecolor\": \"white\", \"ticks\": \"\"}}, \"scene\": {\"xaxis\": {\"backgroundcolor\": \"#E5ECF6\", \"gridcolor\": \"white\", \"gridwidth\": 2, \"linecolor\": \"white\", \"showbackground\": true, \"ticks\": \"\", \"zerolinecolor\": \"white\"}, \"yaxis\": {\"backgroundcolor\": \"#E5ECF6\", \"gridcolor\": \"white\", \"gridwidth\": 2, \"linecolor\": \"white\", \"showbackground\": true, \"ticks\": \"\", \"zerolinecolor\": \"white\"}, \"zaxis\": {\"backgroundcolor\": \"#E5ECF6\", \"gridcolor\": \"white\", \"gridwidth\": 2, \"linecolor\": \"white\", \"showbackground\": true, \"ticks\": \"\", \"zerolinecolor\": \"white\"}}, \"shapedefaults\": {\"line\": {\"color\": \"#2a3f5f\"}}, \"ternary\": {\"aaxis\": {\"gridcolor\": \"white\", \"linecolor\": \"white\", \"ticks\": \"\"}, \"baxis\": {\"gridcolor\": \"white\", \"linecolor\": \"white\", \"ticks\": \"\"}, \"bgcolor\": \"#E5ECF6\", \"caxis\": {\"gridcolor\": \"white\", \"linecolor\": \"white\", \"ticks\": \"\"}}, \"title\": {\"x\": 0.05}, \"xaxis\": {\"automargin\": true, \"gridcolor\": \"white\", \"linecolor\": \"white\", \"ticks\": \"\", \"title\": {\"standoff\": 15}, \"zerolinecolor\": \"white\", \"zerolinewidth\": 2}, \"yaxis\": {\"automargin\": true, \"gridcolor\": \"white\", \"linecolor\": \"white\", \"ticks\": \"\", \"title\": {\"standoff\": 15}, \"zerolinecolor\": \"white\", \"zerolinewidth\": 2}}}, \"title\": {\"text\": \" \\u0433\\u043e\\u0440\\u0438\\u0437\\u043e\\u043d\\u0442\\u0430\\u043b\\u044c\\u043d\\u0430\\u044f \\u043f\\u0440\\u043e\\u043d\\u0438\\u0446\\u0430\\u0435\\u043c\\u043e\\u0441\\u0442\\u044c - 5 \\u043c\\u0414; \\u0430\\u043d\\u0438\\u0437\\u043e\\u0442\\u0440\\u043e\\u043f\\u0438\\u044f - 0.25\"}, \"xaxis\": {\"tickformat\": \"%d.%m.%y\", \"title\": {\"text\": \"\\u0414\\u0430\\u0442\\u0430\"}}, \"yaxis\": {\"title\": {\"text\": \"Q\\u0436, \\u043c3/\\u0441\\u0443\\u0442\"}}},                        {\"responsive\": true}                    ).then(function(){\n",
       "                            \n",
       "var gd = document.getElementById('1f2594a7-f78b-4737-83bb-2ad0c657287c');\n",
       "var x = new MutationObserver(function (mutations, observer) {{\n",
       "        var display = window.getComputedStyle(gd).display;\n",
       "        if (!display || display === 'none') {{\n",
       "            console.log([gd, 'removed!']);\n",
       "            Plotly.purge(gd);\n",
       "            observer.disconnect();\n",
       "        }}\n",
       "}});\n",
       "\n",
       "// Listen for the removal of the full notebook cells\n",
       "var notebookContainer = gd.closest('#notebook-container');\n",
       "if (notebookContainer) {{\n",
       "    x.observe(notebookContainer, {childList: true});\n",
       "}}\n",
       "\n",
       "// Listen for the clearing of the current output cell\n",
       "var outputEl = gd.closest('.output');\n",
       "if (outputEl) {{\n",
       "    x.observe(outputEl, {childList: true});\n",
       "}}\n",
       "\n",
       "                        })                };                });            </script>        </div>"
      ]
     },
     "metadata": {},
     "output_type": "display_data"
    }
   ],
   "source": [
    "rw_ = rw[0] # радиус скважины, м\n",
    "kh = permx_list[0] # горизонтальная проницаемость, мд\n",
    "h = nz*dz # мощность пласта, м\n",
    "L = (y_stop[0]-prod_ys[0])*cells_v # длина горизонтального учатска, м\n",
    "zw = h-prod_z2s[0] # расстояние от подошвы пласта до ствола, м\n",
    "re = lx/2 # радиус контура питания, м\n",
    "figure = figure_plot(rw_, kh, h, kk, L, zw, re, lx, ly, skin[0], start_date, model_list[0])\n",
    "\n",
    "iplot(figure)"
   ]
  },
  {
   "cell_type": "code",
   "execution_count": 14,
   "id": "economic-reliance",
   "metadata": {
    "scrolled": true
   },
   "outputs": [
    {
     "data": {
      "application/vnd.plotly.v1+json": {
       "config": {
        "linkText": "Export to plot.ly",
        "plotlyServerURL": "https://plot.ly",
        "showLink": false
       },
       "data": [
        {
         "mode": "lines",
         "name": "OPM",
         "type": "scatter",
         "x": [
          "2020-01-02T00:00:00",
          "2020-01-05T00:00:00",
          "2020-01-13T13:03:55",
          "2020-02-01T17:48:38",
          "2020-03-01T00:00:00",
          "2020-04-30T00:00:00",
          "2020-06-29T00:00:00",
          "2020-08-28T00:00:00",
          "2020-10-27T00:00:00"
         ],
         "y": [
          131.44386291503906,
          92.9864273071289,
          68.52416229248047,
          54.20751953125,
          47.13592529296875,
          41.8604850769043,
          39.51884460449219,
          38.36334609985352,
          37.76805877685547
         ]
        },
        {
         "mode": "lines",
         "name": "вертикальная трещина",
         "type": "scatter",
         "x": [
          "2020-01-02T00:00:00",
          "2020-01-05T00:00:00",
          "2020-01-13T13:03:55",
          "2020-02-01T17:48:38",
          "2020-03-01T00:00:00",
          "2020-04-30T00:00:00",
          "2020-06-29T00:00:00",
          "2020-08-28T00:00:00",
          "2020-10-27T00:00:00"
         ],
         "y": [
          765.7572558174122,
          765.7534669803605,
          765.7431829940767,
          765.7258625961255,
          765.7034002050325,
          765.6584754228463,
          765.6143625343141,
          765.5710615394358,
          765.5277605445576
         ]
        },
        {
         "mode": "lines",
         "name": "OPM",
         "type": "scatter",
         "x": [
          "2020-01-02T00:00:00",
          "2020-01-04T17:56:17",
          "2020-01-12T23:45:10",
          "2020-01-28T13:17:41",
          "2020-03-01T00:00:00",
          "2020-04-30T00:00:00",
          "2020-06-29T00:00:00",
          "2020-08-28T00:00:00",
          "2020-10-27T00:00:00"
         ],
         "y": [
          140.32147216796875,
          115.89007568359376,
          75.92556762695312,
          59.56509399414063,
          49.7502555847168,
          43.81117248535156,
          41.23039627075195,
          39.975582122802734,
          39.33471298217773
         ]
        },
        {
         "mode": "lines",
         "name": "вертикальная трещина",
         "type": "scatter",
         "x": [
          "2020-01-02T00:00:00",
          "2020-01-04T17:56:17",
          "2020-01-12T23:45:10",
          "2020-01-28T13:17:41",
          "2020-03-01T00:00:00",
          "2020-04-30T00:00:00",
          "2020-06-29T00:00:00",
          "2020-08-28T00:00:00",
          "2020-10-27T00:00:00"
         ],
         "y": [
          765.7564439237582,
          765.7545495052324,
          765.7431829940767,
          765.7280276458695,
          765.7006938928525,
          765.6536040609225,
          765.6078673850823,
          765.5624013404603,
          765.5174765582742
         ]
        },
        {
         "mode": "lines",
         "name": "OPM",
         "type": "scatter",
         "x": [
          "2020-01-02T00:00:00",
          "2020-01-04T16:15:24",
          "2020-01-12T17:01:38",
          "2020-01-28T21:37:52",
          "2020-03-01T00:00:00",
          "2020-04-30T00:00:00",
          "2020-06-29T00:00:00",
          "2020-08-28T00:00:00",
          "2020-10-27T00:00:00"
         ],
         "y": [
          170.90809631347656,
          120.04627990722656,
          78.69319152832031,
          61.42144393920898,
          51.35020065307617,
          45.1581916809082,
          42.47291564941406,
          41.172096252441406,
          40.51408767700195
         ]
        },
        {
         "mode": "lines",
         "name": "вертикальная трещина",
         "type": "scatter",
         "x": [
          "2020-01-02T00:00:00",
          "2020-01-04T16:15:24",
          "2020-01-12T17:01:38",
          "2020-01-28T21:37:52",
          "2020-03-01T00:00:00",
          "2020-04-30T00:00:00",
          "2020-06-29T00:00:00",
          "2020-08-28T00:00:00",
          "2020-10-27T00:00:00"
         ],
         "y": [
          765.7561732925403,
          765.7531963491423,
          765.7418298379868,
          765.725591964907,
          765.6974463182366,
          765.6490033302166,
          765.6019134982868,
          765.5550942975746,
          765.5088163592984
         ]
        },
        {
         "mode": "lines",
         "name": "OPM",
         "type": "scatter",
         "x": [
          "2020-01-02T00:00:00",
          "2020-01-04T12:39:30",
          "2020-01-12T02:38:02",
          "2020-01-29T08:30:11",
          "2020-03-01T00:00:00",
          "2020-04-30T00:00:00",
          "2020-06-29T00:00:00",
          "2020-08-28T00:00:00",
          "2020-10-27T00:00:00"
         ],
         "y": [
          203.6189422607422,
          124.0850830078125,
          82.00103759765625,
          63.3974838256836,
          53.0977897644043,
          46.639305114746094,
          43.84333038330078,
          42.50078582763672,
          41.82328414916992
         ]
        },
        {
         "mode": "lines",
         "name": "вертикальная трещина",
         "type": "scatter",
         "x": [
          "2020-01-02T00:00:00",
          "2020-01-04T12:39:30",
          "2020-01-12T02:38:02",
          "2020-01-29T08:30:11",
          "2020-03-01T00:00:00",
          "2020-04-30T00:00:00",
          "2020-06-29T00:00:00",
          "2020-08-28T00:00:00",
          "2020-10-27T00:00:00"
         ],
         "y": [
          765.7553613988863,
          765.7513019306165,
          765.740476681897,
          765.7226150215097,
          765.6939281124028,
          765.6438613370749,
          765.595147717837,
          765.5469753610349,
          765.498803004233
         ]
        }
       ],
       "layout": {
        "template": {
         "data": {
          "bar": [
           {
            "error_x": {
             "color": "#2a3f5f"
            },
            "error_y": {
             "color": "#2a3f5f"
            },
            "marker": {
             "line": {
              "color": "#E5ECF6",
              "width": 0.5
             }
            },
            "type": "bar"
           }
          ],
          "barpolar": [
           {
            "marker": {
             "line": {
              "color": "#E5ECF6",
              "width": 0.5
             }
            },
            "type": "barpolar"
           }
          ],
          "carpet": [
           {
            "aaxis": {
             "endlinecolor": "#2a3f5f",
             "gridcolor": "white",
             "linecolor": "white",
             "minorgridcolor": "white",
             "startlinecolor": "#2a3f5f"
            },
            "baxis": {
             "endlinecolor": "#2a3f5f",
             "gridcolor": "white",
             "linecolor": "white",
             "minorgridcolor": "white",
             "startlinecolor": "#2a3f5f"
            },
            "type": "carpet"
           }
          ],
          "choropleth": [
           {
            "colorbar": {
             "outlinewidth": 0,
             "ticks": ""
            },
            "type": "choropleth"
           }
          ],
          "contour": [
           {
            "colorbar": {
             "outlinewidth": 0,
             "ticks": ""
            },
            "colorscale": [
             [
              0,
              "#0d0887"
             ],
             [
              0.1111111111111111,
              "#46039f"
             ],
             [
              0.2222222222222222,
              "#7201a8"
             ],
             [
              0.3333333333333333,
              "#9c179e"
             ],
             [
              0.4444444444444444,
              "#bd3786"
             ],
             [
              0.5555555555555556,
              "#d8576b"
             ],
             [
              0.6666666666666666,
              "#ed7953"
             ],
             [
              0.7777777777777778,
              "#fb9f3a"
             ],
             [
              0.8888888888888888,
              "#fdca26"
             ],
             [
              1,
              "#f0f921"
             ]
            ],
            "type": "contour"
           }
          ],
          "contourcarpet": [
           {
            "colorbar": {
             "outlinewidth": 0,
             "ticks": ""
            },
            "type": "contourcarpet"
           }
          ],
          "heatmap": [
           {
            "colorbar": {
             "outlinewidth": 0,
             "ticks": ""
            },
            "colorscale": [
             [
              0,
              "#0d0887"
             ],
             [
              0.1111111111111111,
              "#46039f"
             ],
             [
              0.2222222222222222,
              "#7201a8"
             ],
             [
              0.3333333333333333,
              "#9c179e"
             ],
             [
              0.4444444444444444,
              "#bd3786"
             ],
             [
              0.5555555555555556,
              "#d8576b"
             ],
             [
              0.6666666666666666,
              "#ed7953"
             ],
             [
              0.7777777777777778,
              "#fb9f3a"
             ],
             [
              0.8888888888888888,
              "#fdca26"
             ],
             [
              1,
              "#f0f921"
             ]
            ],
            "type": "heatmap"
           }
          ],
          "heatmapgl": [
           {
            "colorbar": {
             "outlinewidth": 0,
             "ticks": ""
            },
            "colorscale": [
             [
              0,
              "#0d0887"
             ],
             [
              0.1111111111111111,
              "#46039f"
             ],
             [
              0.2222222222222222,
              "#7201a8"
             ],
             [
              0.3333333333333333,
              "#9c179e"
             ],
             [
              0.4444444444444444,
              "#bd3786"
             ],
             [
              0.5555555555555556,
              "#d8576b"
             ],
             [
              0.6666666666666666,
              "#ed7953"
             ],
             [
              0.7777777777777778,
              "#fb9f3a"
             ],
             [
              0.8888888888888888,
              "#fdca26"
             ],
             [
              1,
              "#f0f921"
             ]
            ],
            "type": "heatmapgl"
           }
          ],
          "histogram": [
           {
            "marker": {
             "colorbar": {
              "outlinewidth": 0,
              "ticks": ""
             }
            },
            "type": "histogram"
           }
          ],
          "histogram2d": [
           {
            "colorbar": {
             "outlinewidth": 0,
             "ticks": ""
            },
            "colorscale": [
             [
              0,
              "#0d0887"
             ],
             [
              0.1111111111111111,
              "#46039f"
             ],
             [
              0.2222222222222222,
              "#7201a8"
             ],
             [
              0.3333333333333333,
              "#9c179e"
             ],
             [
              0.4444444444444444,
              "#bd3786"
             ],
             [
              0.5555555555555556,
              "#d8576b"
             ],
             [
              0.6666666666666666,
              "#ed7953"
             ],
             [
              0.7777777777777778,
              "#fb9f3a"
             ],
             [
              0.8888888888888888,
              "#fdca26"
             ],
             [
              1,
              "#f0f921"
             ]
            ],
            "type": "histogram2d"
           }
          ],
          "histogram2dcontour": [
           {
            "colorbar": {
             "outlinewidth": 0,
             "ticks": ""
            },
            "colorscale": [
             [
              0,
              "#0d0887"
             ],
             [
              0.1111111111111111,
              "#46039f"
             ],
             [
              0.2222222222222222,
              "#7201a8"
             ],
             [
              0.3333333333333333,
              "#9c179e"
             ],
             [
              0.4444444444444444,
              "#bd3786"
             ],
             [
              0.5555555555555556,
              "#d8576b"
             ],
             [
              0.6666666666666666,
              "#ed7953"
             ],
             [
              0.7777777777777778,
              "#fb9f3a"
             ],
             [
              0.8888888888888888,
              "#fdca26"
             ],
             [
              1,
              "#f0f921"
             ]
            ],
            "type": "histogram2dcontour"
           }
          ],
          "mesh3d": [
           {
            "colorbar": {
             "outlinewidth": 0,
             "ticks": ""
            },
            "type": "mesh3d"
           }
          ],
          "parcoords": [
           {
            "line": {
             "colorbar": {
              "outlinewidth": 0,
              "ticks": ""
             }
            },
            "type": "parcoords"
           }
          ],
          "pie": [
           {
            "automargin": true,
            "type": "pie"
           }
          ],
          "scatter": [
           {
            "marker": {
             "colorbar": {
              "outlinewidth": 0,
              "ticks": ""
             }
            },
            "type": "scatter"
           }
          ],
          "scatter3d": [
           {
            "line": {
             "colorbar": {
              "outlinewidth": 0,
              "ticks": ""
             }
            },
            "marker": {
             "colorbar": {
              "outlinewidth": 0,
              "ticks": ""
             }
            },
            "type": "scatter3d"
           }
          ],
          "scattercarpet": [
           {
            "marker": {
             "colorbar": {
              "outlinewidth": 0,
              "ticks": ""
             }
            },
            "type": "scattercarpet"
           }
          ],
          "scattergeo": [
           {
            "marker": {
             "colorbar": {
              "outlinewidth": 0,
              "ticks": ""
             }
            },
            "type": "scattergeo"
           }
          ],
          "scattergl": [
           {
            "marker": {
             "colorbar": {
              "outlinewidth": 0,
              "ticks": ""
             }
            },
            "type": "scattergl"
           }
          ],
          "scattermapbox": [
           {
            "marker": {
             "colorbar": {
              "outlinewidth": 0,
              "ticks": ""
             }
            },
            "type": "scattermapbox"
           }
          ],
          "scatterpolar": [
           {
            "marker": {
             "colorbar": {
              "outlinewidth": 0,
              "ticks": ""
             }
            },
            "type": "scatterpolar"
           }
          ],
          "scatterpolargl": [
           {
            "marker": {
             "colorbar": {
              "outlinewidth": 0,
              "ticks": ""
             }
            },
            "type": "scatterpolargl"
           }
          ],
          "scatterternary": [
           {
            "marker": {
             "colorbar": {
              "outlinewidth": 0,
              "ticks": ""
             }
            },
            "type": "scatterternary"
           }
          ],
          "surface": [
           {
            "colorbar": {
             "outlinewidth": 0,
             "ticks": ""
            },
            "colorscale": [
             [
              0,
              "#0d0887"
             ],
             [
              0.1111111111111111,
              "#46039f"
             ],
             [
              0.2222222222222222,
              "#7201a8"
             ],
             [
              0.3333333333333333,
              "#9c179e"
             ],
             [
              0.4444444444444444,
              "#bd3786"
             ],
             [
              0.5555555555555556,
              "#d8576b"
             ],
             [
              0.6666666666666666,
              "#ed7953"
             ],
             [
              0.7777777777777778,
              "#fb9f3a"
             ],
             [
              0.8888888888888888,
              "#fdca26"
             ],
             [
              1,
              "#f0f921"
             ]
            ],
            "type": "surface"
           }
          ],
          "table": [
           {
            "cells": {
             "fill": {
              "color": "#EBF0F8"
             },
             "line": {
              "color": "white"
             }
            },
            "header": {
             "fill": {
              "color": "#C8D4E3"
             },
             "line": {
              "color": "white"
             }
            },
            "type": "table"
           }
          ]
         },
         "layout": {
          "annotationdefaults": {
           "arrowcolor": "#2a3f5f",
           "arrowhead": 0,
           "arrowwidth": 1
          },
          "autotypenumbers": "strict",
          "coloraxis": {
           "colorbar": {
            "outlinewidth": 0,
            "ticks": ""
           }
          },
          "colorscale": {
           "diverging": [
            [
             0,
             "#8e0152"
            ],
            [
             0.1,
             "#c51b7d"
            ],
            [
             0.2,
             "#de77ae"
            ],
            [
             0.3,
             "#f1b6da"
            ],
            [
             0.4,
             "#fde0ef"
            ],
            [
             0.5,
             "#f7f7f7"
            ],
            [
             0.6,
             "#e6f5d0"
            ],
            [
             0.7,
             "#b8e186"
            ],
            [
             0.8,
             "#7fbc41"
            ],
            [
             0.9,
             "#4d9221"
            ],
            [
             1,
             "#276419"
            ]
           ],
           "sequential": [
            [
             0,
             "#0d0887"
            ],
            [
             0.1111111111111111,
             "#46039f"
            ],
            [
             0.2222222222222222,
             "#7201a8"
            ],
            [
             0.3333333333333333,
             "#9c179e"
            ],
            [
             0.4444444444444444,
             "#bd3786"
            ],
            [
             0.5555555555555556,
             "#d8576b"
            ],
            [
             0.6666666666666666,
             "#ed7953"
            ],
            [
             0.7777777777777778,
             "#fb9f3a"
            ],
            [
             0.8888888888888888,
             "#fdca26"
            ],
            [
             1,
             "#f0f921"
            ]
           ],
           "sequentialminus": [
            [
             0,
             "#0d0887"
            ],
            [
             0.1111111111111111,
             "#46039f"
            ],
            [
             0.2222222222222222,
             "#7201a8"
            ],
            [
             0.3333333333333333,
             "#9c179e"
            ],
            [
             0.4444444444444444,
             "#bd3786"
            ],
            [
             0.5555555555555556,
             "#d8576b"
            ],
            [
             0.6666666666666666,
             "#ed7953"
            ],
            [
             0.7777777777777778,
             "#fb9f3a"
            ],
            [
             0.8888888888888888,
             "#fdca26"
            ],
            [
             1,
             "#f0f921"
            ]
           ]
          },
          "colorway": [
           "#636efa",
           "#EF553B",
           "#00cc96",
           "#ab63fa",
           "#FFA15A",
           "#19d3f3",
           "#FF6692",
           "#B6E880",
           "#FF97FF",
           "#FECB52"
          ],
          "font": {
           "color": "#2a3f5f"
          },
          "geo": {
           "bgcolor": "white",
           "lakecolor": "white",
           "landcolor": "#E5ECF6",
           "showlakes": true,
           "showland": true,
           "subunitcolor": "white"
          },
          "hoverlabel": {
           "align": "left"
          },
          "hovermode": "closest",
          "mapbox": {
           "style": "light"
          },
          "paper_bgcolor": "white",
          "plot_bgcolor": "#E5ECF6",
          "polar": {
           "angularaxis": {
            "gridcolor": "white",
            "linecolor": "white",
            "ticks": ""
           },
           "bgcolor": "#E5ECF6",
           "radialaxis": {
            "gridcolor": "white",
            "linecolor": "white",
            "ticks": ""
           }
          },
          "scene": {
           "xaxis": {
            "backgroundcolor": "#E5ECF6",
            "gridcolor": "white",
            "gridwidth": 2,
            "linecolor": "white",
            "showbackground": true,
            "ticks": "",
            "zerolinecolor": "white"
           },
           "yaxis": {
            "backgroundcolor": "#E5ECF6",
            "gridcolor": "white",
            "gridwidth": 2,
            "linecolor": "white",
            "showbackground": true,
            "ticks": "",
            "zerolinecolor": "white"
           },
           "zaxis": {
            "backgroundcolor": "#E5ECF6",
            "gridcolor": "white",
            "gridwidth": 2,
            "linecolor": "white",
            "showbackground": true,
            "ticks": "",
            "zerolinecolor": "white"
           }
          },
          "shapedefaults": {
           "line": {
            "color": "#2a3f5f"
           }
          },
          "ternary": {
           "aaxis": {
            "gridcolor": "white",
            "linecolor": "white",
            "ticks": ""
           },
           "baxis": {
            "gridcolor": "white",
            "linecolor": "white",
            "ticks": ""
           },
           "bgcolor": "#E5ECF6",
           "caxis": {
            "gridcolor": "white",
            "linecolor": "white",
            "ticks": ""
           }
          },
          "title": {
           "x": 0.05
          },
          "xaxis": {
           "automargin": true,
           "gridcolor": "white",
           "linecolor": "white",
           "ticks": "",
           "title": {
            "standoff": 15
           },
           "zerolinecolor": "white",
           "zerolinewidth": 2
          },
          "yaxis": {
           "automargin": true,
           "gridcolor": "white",
           "linecolor": "white",
           "ticks": "",
           "title": {
            "standoff": 15
           },
           "zerolinecolor": "white",
           "zerolinewidth": 2
          }
         }
        },
        "title": {
         "text": " горизонтальная проницаемость - 5 мД; анизотропия - 0.5"
        },
        "xaxis": {
         "tickformat": "%d.%m.%y",
         "title": {
          "text": "Дата"
         }
        },
        "yaxis": {
         "title": {
          "text": "Qж, м3/сут"
         }
        }
       }
      },
      "text/html": [
       "<div>                            <div id=\"77b02723-9c9a-4e18-923a-1588c676f1cb\" class=\"plotly-graph-div\" style=\"height:525px; width:100%;\"></div>            <script type=\"text/javascript\">                require([\"plotly\"], function(Plotly) {                    window.PLOTLYENV=window.PLOTLYENV || {};                                    if (document.getElementById(\"77b02723-9c9a-4e18-923a-1588c676f1cb\")) {                    Plotly.newPlot(                        \"77b02723-9c9a-4e18-923a-1588c676f1cb\",                        [{\"mode\": \"lines\", \"name\": \"OPM\", \"type\": \"scatter\", \"x\": [\"2020-01-02T00:00:00\", \"2020-01-05T00:00:00\", \"2020-01-13T13:03:55\", \"2020-02-01T17:48:38\", \"2020-03-01T00:00:00\", \"2020-04-30T00:00:00\", \"2020-06-29T00:00:00\", \"2020-08-28T00:00:00\", \"2020-10-27T00:00:00\"], \"y\": [131.44386291503906, 92.9864273071289, 68.52416229248047, 54.20751953125, 47.13592529296875, 41.8604850769043, 39.51884460449219, 38.36334609985352, 37.76805877685547]}, {\"mode\": \"lines\", \"name\": \"\\u0432\\u0435\\u0440\\u0442\\u0438\\u043a\\u0430\\u043b\\u044c\\u043d\\u0430\\u044f \\u0442\\u0440\\u0435\\u0449\\u0438\\u043d\\u0430\", \"type\": \"scatter\", \"x\": [\"2020-01-02T00:00:00\", \"2020-01-05T00:00:00\", \"2020-01-13T13:03:55\", \"2020-02-01T17:48:38\", \"2020-03-01T00:00:00\", \"2020-04-30T00:00:00\", \"2020-06-29T00:00:00\", \"2020-08-28T00:00:00\", \"2020-10-27T00:00:00\"], \"y\": [765.7572558174122, 765.7534669803605, 765.7431829940767, 765.7258625961255, 765.7034002050325, 765.6584754228463, 765.6143625343141, 765.5710615394358, 765.5277605445576]}, {\"mode\": \"lines\", \"name\": \"OPM\", \"type\": \"scatter\", \"x\": [\"2020-01-02T00:00:00\", \"2020-01-04T17:56:17\", \"2020-01-12T23:45:10\", \"2020-01-28T13:17:41\", \"2020-03-01T00:00:00\", \"2020-04-30T00:00:00\", \"2020-06-29T00:00:00\", \"2020-08-28T00:00:00\", \"2020-10-27T00:00:00\"], \"y\": [140.32147216796875, 115.89007568359376, 75.92556762695312, 59.56509399414063, 49.7502555847168, 43.81117248535156, 41.23039627075195, 39.975582122802734, 39.33471298217773]}, {\"mode\": \"lines\", \"name\": \"\\u0432\\u0435\\u0440\\u0442\\u0438\\u043a\\u0430\\u043b\\u044c\\u043d\\u0430\\u044f \\u0442\\u0440\\u0435\\u0449\\u0438\\u043d\\u0430\", \"type\": \"scatter\", \"x\": [\"2020-01-02T00:00:00\", \"2020-01-04T17:56:17\", \"2020-01-12T23:45:10\", \"2020-01-28T13:17:41\", \"2020-03-01T00:00:00\", \"2020-04-30T00:00:00\", \"2020-06-29T00:00:00\", \"2020-08-28T00:00:00\", \"2020-10-27T00:00:00\"], \"y\": [765.7564439237582, 765.7545495052324, 765.7431829940767, 765.7280276458695, 765.7006938928525, 765.6536040609225, 765.6078673850823, 765.5624013404603, 765.5174765582742]}, {\"mode\": \"lines\", \"name\": \"OPM\", \"type\": \"scatter\", \"x\": [\"2020-01-02T00:00:00\", \"2020-01-04T16:15:24\", \"2020-01-12T17:01:38\", \"2020-01-28T21:37:52\", \"2020-03-01T00:00:00\", \"2020-04-30T00:00:00\", \"2020-06-29T00:00:00\", \"2020-08-28T00:00:00\", \"2020-10-27T00:00:00\"], \"y\": [170.90809631347656, 120.04627990722656, 78.69319152832031, 61.42144393920898, 51.35020065307617, 45.1581916809082, 42.47291564941406, 41.172096252441406, 40.51408767700195]}, {\"mode\": \"lines\", \"name\": \"\\u0432\\u0435\\u0440\\u0442\\u0438\\u043a\\u0430\\u043b\\u044c\\u043d\\u0430\\u044f \\u0442\\u0440\\u0435\\u0449\\u0438\\u043d\\u0430\", \"type\": \"scatter\", \"x\": [\"2020-01-02T00:00:00\", \"2020-01-04T16:15:24\", \"2020-01-12T17:01:38\", \"2020-01-28T21:37:52\", \"2020-03-01T00:00:00\", \"2020-04-30T00:00:00\", \"2020-06-29T00:00:00\", \"2020-08-28T00:00:00\", \"2020-10-27T00:00:00\"], \"y\": [765.7561732925403, 765.7531963491423, 765.7418298379868, 765.725591964907, 765.6974463182366, 765.6490033302166, 765.6019134982868, 765.5550942975746, 765.5088163592984]}, {\"mode\": \"lines\", \"name\": \"OPM\", \"type\": \"scatter\", \"x\": [\"2020-01-02T00:00:00\", \"2020-01-04T12:39:30\", \"2020-01-12T02:38:02\", \"2020-01-29T08:30:11\", \"2020-03-01T00:00:00\", \"2020-04-30T00:00:00\", \"2020-06-29T00:00:00\", \"2020-08-28T00:00:00\", \"2020-10-27T00:00:00\"], \"y\": [203.6189422607422, 124.0850830078125, 82.00103759765625, 63.3974838256836, 53.0977897644043, 46.639305114746094, 43.84333038330078, 42.50078582763672, 41.82328414916992]}, {\"mode\": \"lines\", \"name\": \"\\u0432\\u0435\\u0440\\u0442\\u0438\\u043a\\u0430\\u043b\\u044c\\u043d\\u0430\\u044f \\u0442\\u0440\\u0435\\u0449\\u0438\\u043d\\u0430\", \"type\": \"scatter\", \"x\": [\"2020-01-02T00:00:00\", \"2020-01-04T12:39:30\", \"2020-01-12T02:38:02\", \"2020-01-29T08:30:11\", \"2020-03-01T00:00:00\", \"2020-04-30T00:00:00\", \"2020-06-29T00:00:00\", \"2020-08-28T00:00:00\", \"2020-10-27T00:00:00\"], \"y\": [765.7553613988863, 765.7513019306165, 765.740476681897, 765.7226150215097, 765.6939281124028, 765.6438613370749, 765.595147717837, 765.5469753610349, 765.498803004233]}],                        {\"template\": {\"data\": {\"bar\": [{\"error_x\": {\"color\": \"#2a3f5f\"}, \"error_y\": {\"color\": \"#2a3f5f\"}, \"marker\": {\"line\": {\"color\": \"#E5ECF6\", \"width\": 0.5}}, \"type\": \"bar\"}], \"barpolar\": [{\"marker\": {\"line\": {\"color\": \"#E5ECF6\", \"width\": 0.5}}, \"type\": \"barpolar\"}], \"carpet\": [{\"aaxis\": {\"endlinecolor\": \"#2a3f5f\", \"gridcolor\": \"white\", \"linecolor\": \"white\", \"minorgridcolor\": \"white\", \"startlinecolor\": \"#2a3f5f\"}, \"baxis\": {\"endlinecolor\": \"#2a3f5f\", \"gridcolor\": \"white\", \"linecolor\": \"white\", \"minorgridcolor\": \"white\", \"startlinecolor\": \"#2a3f5f\"}, \"type\": \"carpet\"}], \"choropleth\": [{\"colorbar\": {\"outlinewidth\": 0, \"ticks\": \"\"}, \"type\": \"choropleth\"}], \"contour\": [{\"colorbar\": {\"outlinewidth\": 0, \"ticks\": \"\"}, \"colorscale\": [[0.0, \"#0d0887\"], [0.1111111111111111, \"#46039f\"], [0.2222222222222222, \"#7201a8\"], [0.3333333333333333, \"#9c179e\"], [0.4444444444444444, \"#bd3786\"], [0.5555555555555556, \"#d8576b\"], [0.6666666666666666, \"#ed7953\"], [0.7777777777777778, \"#fb9f3a\"], [0.8888888888888888, \"#fdca26\"], [1.0, \"#f0f921\"]], \"type\": \"contour\"}], \"contourcarpet\": [{\"colorbar\": {\"outlinewidth\": 0, \"ticks\": \"\"}, \"type\": \"contourcarpet\"}], \"heatmap\": [{\"colorbar\": {\"outlinewidth\": 0, \"ticks\": \"\"}, \"colorscale\": [[0.0, \"#0d0887\"], [0.1111111111111111, \"#46039f\"], [0.2222222222222222, \"#7201a8\"], [0.3333333333333333, \"#9c179e\"], [0.4444444444444444, \"#bd3786\"], [0.5555555555555556, \"#d8576b\"], [0.6666666666666666, \"#ed7953\"], [0.7777777777777778, \"#fb9f3a\"], [0.8888888888888888, \"#fdca26\"], [1.0, \"#f0f921\"]], \"type\": \"heatmap\"}], \"heatmapgl\": [{\"colorbar\": {\"outlinewidth\": 0, \"ticks\": \"\"}, \"colorscale\": [[0.0, \"#0d0887\"], [0.1111111111111111, \"#46039f\"], [0.2222222222222222, \"#7201a8\"], [0.3333333333333333, \"#9c179e\"], [0.4444444444444444, \"#bd3786\"], [0.5555555555555556, \"#d8576b\"], [0.6666666666666666, \"#ed7953\"], [0.7777777777777778, \"#fb9f3a\"], [0.8888888888888888, \"#fdca26\"], [1.0, \"#f0f921\"]], \"type\": \"heatmapgl\"}], \"histogram\": [{\"marker\": {\"colorbar\": {\"outlinewidth\": 0, \"ticks\": \"\"}}, \"type\": \"histogram\"}], \"histogram2d\": [{\"colorbar\": {\"outlinewidth\": 0, \"ticks\": \"\"}, \"colorscale\": [[0.0, \"#0d0887\"], [0.1111111111111111, \"#46039f\"], [0.2222222222222222, \"#7201a8\"], [0.3333333333333333, \"#9c179e\"], [0.4444444444444444, \"#bd3786\"], [0.5555555555555556, \"#d8576b\"], [0.6666666666666666, \"#ed7953\"], [0.7777777777777778, \"#fb9f3a\"], [0.8888888888888888, \"#fdca26\"], [1.0, \"#f0f921\"]], \"type\": \"histogram2d\"}], \"histogram2dcontour\": [{\"colorbar\": {\"outlinewidth\": 0, \"ticks\": \"\"}, \"colorscale\": [[0.0, \"#0d0887\"], [0.1111111111111111, \"#46039f\"], [0.2222222222222222, \"#7201a8\"], [0.3333333333333333, \"#9c179e\"], [0.4444444444444444, \"#bd3786\"], [0.5555555555555556, \"#d8576b\"], [0.6666666666666666, \"#ed7953\"], [0.7777777777777778, \"#fb9f3a\"], [0.8888888888888888, \"#fdca26\"], [1.0, \"#f0f921\"]], \"type\": \"histogram2dcontour\"}], \"mesh3d\": [{\"colorbar\": {\"outlinewidth\": 0, \"ticks\": \"\"}, \"type\": \"mesh3d\"}], \"parcoords\": [{\"line\": {\"colorbar\": {\"outlinewidth\": 0, \"ticks\": \"\"}}, \"type\": \"parcoords\"}], \"pie\": [{\"automargin\": true, \"type\": \"pie\"}], \"scatter\": [{\"marker\": {\"colorbar\": {\"outlinewidth\": 0, \"ticks\": \"\"}}, \"type\": \"scatter\"}], \"scatter3d\": [{\"line\": {\"colorbar\": {\"outlinewidth\": 0, \"ticks\": \"\"}}, \"marker\": {\"colorbar\": {\"outlinewidth\": 0, \"ticks\": \"\"}}, \"type\": \"scatter3d\"}], \"scattercarpet\": [{\"marker\": {\"colorbar\": {\"outlinewidth\": 0, \"ticks\": \"\"}}, \"type\": \"scattercarpet\"}], \"scattergeo\": [{\"marker\": {\"colorbar\": {\"outlinewidth\": 0, \"ticks\": \"\"}}, \"type\": \"scattergeo\"}], \"scattergl\": [{\"marker\": {\"colorbar\": {\"outlinewidth\": 0, \"ticks\": \"\"}}, \"type\": \"scattergl\"}], \"scattermapbox\": [{\"marker\": {\"colorbar\": {\"outlinewidth\": 0, \"ticks\": \"\"}}, \"type\": \"scattermapbox\"}], \"scatterpolar\": [{\"marker\": {\"colorbar\": {\"outlinewidth\": 0, \"ticks\": \"\"}}, \"type\": \"scatterpolar\"}], \"scatterpolargl\": [{\"marker\": {\"colorbar\": {\"outlinewidth\": 0, \"ticks\": \"\"}}, \"type\": \"scatterpolargl\"}], \"scatterternary\": [{\"marker\": {\"colorbar\": {\"outlinewidth\": 0, \"ticks\": \"\"}}, \"type\": \"scatterternary\"}], \"surface\": [{\"colorbar\": {\"outlinewidth\": 0, \"ticks\": \"\"}, \"colorscale\": [[0.0, \"#0d0887\"], [0.1111111111111111, \"#46039f\"], [0.2222222222222222, \"#7201a8\"], [0.3333333333333333, \"#9c179e\"], [0.4444444444444444, \"#bd3786\"], [0.5555555555555556, \"#d8576b\"], [0.6666666666666666, \"#ed7953\"], [0.7777777777777778, \"#fb9f3a\"], [0.8888888888888888, \"#fdca26\"], [1.0, \"#f0f921\"]], \"type\": \"surface\"}], \"table\": [{\"cells\": {\"fill\": {\"color\": \"#EBF0F8\"}, \"line\": {\"color\": \"white\"}}, \"header\": {\"fill\": {\"color\": \"#C8D4E3\"}, \"line\": {\"color\": \"white\"}}, \"type\": \"table\"}]}, \"layout\": {\"annotationdefaults\": {\"arrowcolor\": \"#2a3f5f\", \"arrowhead\": 0, \"arrowwidth\": 1}, \"autotypenumbers\": \"strict\", \"coloraxis\": {\"colorbar\": {\"outlinewidth\": 0, \"ticks\": \"\"}}, \"colorscale\": {\"diverging\": [[0, \"#8e0152\"], [0.1, \"#c51b7d\"], [0.2, \"#de77ae\"], [0.3, \"#f1b6da\"], [0.4, \"#fde0ef\"], [0.5, \"#f7f7f7\"], [0.6, \"#e6f5d0\"], [0.7, \"#b8e186\"], [0.8, \"#7fbc41\"], [0.9, \"#4d9221\"], [1, \"#276419\"]], \"sequential\": [[0.0, \"#0d0887\"], [0.1111111111111111, \"#46039f\"], [0.2222222222222222, \"#7201a8\"], [0.3333333333333333, \"#9c179e\"], [0.4444444444444444, \"#bd3786\"], [0.5555555555555556, \"#d8576b\"], [0.6666666666666666, \"#ed7953\"], [0.7777777777777778, \"#fb9f3a\"], [0.8888888888888888, \"#fdca26\"], [1.0, \"#f0f921\"]], \"sequentialminus\": [[0.0, \"#0d0887\"], [0.1111111111111111, \"#46039f\"], [0.2222222222222222, \"#7201a8\"], [0.3333333333333333, \"#9c179e\"], [0.4444444444444444, \"#bd3786\"], [0.5555555555555556, \"#d8576b\"], [0.6666666666666666, \"#ed7953\"], [0.7777777777777778, \"#fb9f3a\"], [0.8888888888888888, \"#fdca26\"], [1.0, \"#f0f921\"]]}, \"colorway\": [\"#636efa\", \"#EF553B\", \"#00cc96\", \"#ab63fa\", \"#FFA15A\", \"#19d3f3\", \"#FF6692\", \"#B6E880\", \"#FF97FF\", \"#FECB52\"], \"font\": {\"color\": \"#2a3f5f\"}, \"geo\": {\"bgcolor\": \"white\", \"lakecolor\": \"white\", \"landcolor\": \"#E5ECF6\", \"showlakes\": true, \"showland\": true, \"subunitcolor\": \"white\"}, \"hoverlabel\": {\"align\": \"left\"}, \"hovermode\": \"closest\", \"mapbox\": {\"style\": \"light\"}, \"paper_bgcolor\": \"white\", \"plot_bgcolor\": \"#E5ECF6\", \"polar\": {\"angularaxis\": {\"gridcolor\": \"white\", \"linecolor\": \"white\", \"ticks\": \"\"}, \"bgcolor\": \"#E5ECF6\", \"radialaxis\": {\"gridcolor\": \"white\", \"linecolor\": \"white\", \"ticks\": \"\"}}, \"scene\": {\"xaxis\": {\"backgroundcolor\": \"#E5ECF6\", \"gridcolor\": \"white\", \"gridwidth\": 2, \"linecolor\": \"white\", \"showbackground\": true, \"ticks\": \"\", \"zerolinecolor\": \"white\"}, \"yaxis\": {\"backgroundcolor\": \"#E5ECF6\", \"gridcolor\": \"white\", \"gridwidth\": 2, \"linecolor\": \"white\", \"showbackground\": true, \"ticks\": \"\", \"zerolinecolor\": \"white\"}, \"zaxis\": {\"backgroundcolor\": \"#E5ECF6\", \"gridcolor\": \"white\", \"gridwidth\": 2, \"linecolor\": \"white\", \"showbackground\": true, \"ticks\": \"\", \"zerolinecolor\": \"white\"}}, \"shapedefaults\": {\"line\": {\"color\": \"#2a3f5f\"}}, \"ternary\": {\"aaxis\": {\"gridcolor\": \"white\", \"linecolor\": \"white\", \"ticks\": \"\"}, \"baxis\": {\"gridcolor\": \"white\", \"linecolor\": \"white\", \"ticks\": \"\"}, \"bgcolor\": \"#E5ECF6\", \"caxis\": {\"gridcolor\": \"white\", \"linecolor\": \"white\", \"ticks\": \"\"}}, \"title\": {\"x\": 0.05}, \"xaxis\": {\"automargin\": true, \"gridcolor\": \"white\", \"linecolor\": \"white\", \"ticks\": \"\", \"title\": {\"standoff\": 15}, \"zerolinecolor\": \"white\", \"zerolinewidth\": 2}, \"yaxis\": {\"automargin\": true, \"gridcolor\": \"white\", \"linecolor\": \"white\", \"ticks\": \"\", \"title\": {\"standoff\": 15}, \"zerolinecolor\": \"white\", \"zerolinewidth\": 2}}}, \"title\": {\"text\": \" \\u0433\\u043e\\u0440\\u0438\\u0437\\u043e\\u043d\\u0442\\u0430\\u043b\\u044c\\u043d\\u0430\\u044f \\u043f\\u0440\\u043e\\u043d\\u0438\\u0446\\u0430\\u0435\\u043c\\u043e\\u0441\\u0442\\u044c - 5 \\u043c\\u0414; \\u0430\\u043d\\u0438\\u0437\\u043e\\u0442\\u0440\\u043e\\u043f\\u0438\\u044f - 0.5\"}, \"xaxis\": {\"tickformat\": \"%d.%m.%y\", \"title\": {\"text\": \"\\u0414\\u0430\\u0442\\u0430\"}}, \"yaxis\": {\"title\": {\"text\": \"Q\\u0436, \\u043c3/\\u0441\\u0443\\u0442\"}}},                        {\"responsive\": true}                    ).then(function(){\n",
       "                            \n",
       "var gd = document.getElementById('77b02723-9c9a-4e18-923a-1588c676f1cb');\n",
       "var x = new MutationObserver(function (mutations, observer) {{\n",
       "        var display = window.getComputedStyle(gd).display;\n",
       "        if (!display || display === 'none') {{\n",
       "            console.log([gd, 'removed!']);\n",
       "            Plotly.purge(gd);\n",
       "            observer.disconnect();\n",
       "        }}\n",
       "}});\n",
       "\n",
       "// Listen for the removal of the full notebook cells\n",
       "var notebookContainer = gd.closest('#notebook-container');\n",
       "if (notebookContainer) {{\n",
       "    x.observe(notebookContainer, {childList: true});\n",
       "}}\n",
       "\n",
       "// Listen for the clearing of the current output cell\n",
       "var outputEl = gd.closest('.output');\n",
       "if (outputEl) {{\n",
       "    x.observe(outputEl, {childList: true});\n",
       "}}\n",
       "\n",
       "                        })                };                });            </script>        </div>"
      ]
     },
     "metadata": {},
     "output_type": "display_data"
    },
    {
     "data": {
      "application/vnd.plotly.v1+json": {
       "config": {
        "linkText": "Export to plot.ly",
        "plotlyServerURL": "https://plot.ly",
        "showLink": false
       },
       "data": [
        {
         "mode": "lines",
         "name": "OPM",
         "type": "scatter",
         "x": [
          "2020-01-02T00:00:00",
          "2020-01-05T00:00:00",
          "2020-01-13T13:03:55",
          "2020-02-01T17:48:38",
          "2020-03-01T00:00:00",
          "2020-04-30T00:00:00",
          "2020-06-29T00:00:00",
          "2020-08-28T00:00:00",
          "2020-10-27T00:00:00"
         ],
         "y": [
          131.44386291503906,
          92.9864273071289,
          68.52416229248047,
          54.20751953125,
          47.13592529296875,
          41.8604850769043,
          39.51884460449219,
          38.36334609985352,
          37.76805877685547
         ]
        },
        {
         "mode": "lines",
         "name": "вертикальная трещина",
         "type": "scatter",
         "x": [
          "2020-01-02T00:00:00",
          "2020-01-05T00:00:00",
          "2020-01-13T13:03:55",
          "2020-02-01T17:48:38",
          "2020-03-01T00:00:00",
          "2020-04-30T00:00:00",
          "2020-06-29T00:00:00",
          "2020-08-28T00:00:00",
          "2020-10-27T00:00:00"
         ],
         "y": [
          765.7572558174122,
          765.7534669803605,
          765.7431829940767,
          765.7258625961255,
          765.7034002050325,
          765.6584754228463,
          765.6143625343141,
          765.5710615394358,
          765.5277605445576
         ]
        },
        {
         "mode": "lines",
         "name": "OPM",
         "type": "scatter",
         "x": [
          "2020-01-02T00:00:00",
          "2020-01-04T17:56:17",
          "2020-01-12T23:45:10",
          "2020-01-28T13:17:41",
          "2020-03-01T00:00:00",
          "2020-04-30T00:00:00",
          "2020-06-29T00:00:00",
          "2020-08-28T00:00:00",
          "2020-10-27T00:00:00"
         ],
         "y": [
          140.32147216796875,
          115.89007568359376,
          75.92556762695312,
          59.56509399414063,
          49.7502555847168,
          43.81117248535156,
          41.23039627075195,
          39.975582122802734,
          39.33471298217773
         ]
        },
        {
         "mode": "lines",
         "name": "вертикальная трещина",
         "type": "scatter",
         "x": [
          "2020-01-02T00:00:00",
          "2020-01-04T17:56:17",
          "2020-01-12T23:45:10",
          "2020-01-28T13:17:41",
          "2020-03-01T00:00:00",
          "2020-04-30T00:00:00",
          "2020-06-29T00:00:00",
          "2020-08-28T00:00:00",
          "2020-10-27T00:00:00"
         ],
         "y": [
          765.7564439237582,
          765.7545495052324,
          765.7431829940767,
          765.7280276458695,
          765.7006938928525,
          765.6536040609225,
          765.6078673850823,
          765.5624013404603,
          765.5174765582742
         ]
        },
        {
         "mode": "lines",
         "name": "OPM",
         "type": "scatter",
         "x": [
          "2020-01-02T00:00:00",
          "2020-01-04T16:15:24",
          "2020-01-12T17:01:38",
          "2020-01-28T21:37:52",
          "2020-03-01T00:00:00",
          "2020-04-30T00:00:00",
          "2020-06-29T00:00:00",
          "2020-08-28T00:00:00",
          "2020-10-27T00:00:00"
         ],
         "y": [
          170.90809631347656,
          120.04627990722656,
          78.69319152832031,
          61.42144393920898,
          51.35020065307617,
          45.1581916809082,
          42.47291564941406,
          41.172096252441406,
          40.51408767700195
         ]
        },
        {
         "mode": "lines",
         "name": "вертикальная трещина",
         "type": "scatter",
         "x": [
          "2020-01-02T00:00:00",
          "2020-01-04T16:15:24",
          "2020-01-12T17:01:38",
          "2020-01-28T21:37:52",
          "2020-03-01T00:00:00",
          "2020-04-30T00:00:00",
          "2020-06-29T00:00:00",
          "2020-08-28T00:00:00",
          "2020-10-27T00:00:00"
         ],
         "y": [
          765.7561732925403,
          765.7531963491423,
          765.7418298379868,
          765.725591964907,
          765.6974463182366,
          765.6490033302166,
          765.6019134982868,
          765.5550942975746,
          765.5088163592984
         ]
        },
        {
         "mode": "lines",
         "name": "OPM",
         "type": "scatter",
         "x": [
          "2020-01-02T00:00:00",
          "2020-01-04T12:39:30",
          "2020-01-12T02:38:02",
          "2020-01-29T08:30:11",
          "2020-03-01T00:00:00",
          "2020-04-30T00:00:00",
          "2020-06-29T00:00:00",
          "2020-08-28T00:00:00",
          "2020-10-27T00:00:00"
         ],
         "y": [
          203.6189422607422,
          124.0850830078125,
          82.00103759765625,
          63.3974838256836,
          53.0977897644043,
          46.639305114746094,
          43.84333038330078,
          42.50078582763672,
          41.82328414916992
         ]
        },
        {
         "mode": "lines",
         "name": "вертикальная трещина",
         "type": "scatter",
         "x": [
          "2020-01-02T00:00:00",
          "2020-01-04T12:39:30",
          "2020-01-12T02:38:02",
          "2020-01-29T08:30:11",
          "2020-03-01T00:00:00",
          "2020-04-30T00:00:00",
          "2020-06-29T00:00:00",
          "2020-08-28T00:00:00",
          "2020-10-27T00:00:00"
         ],
         "y": [
          765.7553613988863,
          765.7513019306165,
          765.740476681897,
          765.7226150215097,
          765.6939281124028,
          765.6438613370749,
          765.595147717837,
          765.5469753610349,
          765.498803004233
         ]
        }
       ],
       "layout": {
        "template": {
         "data": {
          "bar": [
           {
            "error_x": {
             "color": "#2a3f5f"
            },
            "error_y": {
             "color": "#2a3f5f"
            },
            "marker": {
             "line": {
              "color": "#E5ECF6",
              "width": 0.5
             }
            },
            "type": "bar"
           }
          ],
          "barpolar": [
           {
            "marker": {
             "line": {
              "color": "#E5ECF6",
              "width": 0.5
             }
            },
            "type": "barpolar"
           }
          ],
          "carpet": [
           {
            "aaxis": {
             "endlinecolor": "#2a3f5f",
             "gridcolor": "white",
             "linecolor": "white",
             "minorgridcolor": "white",
             "startlinecolor": "#2a3f5f"
            },
            "baxis": {
             "endlinecolor": "#2a3f5f",
             "gridcolor": "white",
             "linecolor": "white",
             "minorgridcolor": "white",
             "startlinecolor": "#2a3f5f"
            },
            "type": "carpet"
           }
          ],
          "choropleth": [
           {
            "colorbar": {
             "outlinewidth": 0,
             "ticks": ""
            },
            "type": "choropleth"
           }
          ],
          "contour": [
           {
            "colorbar": {
             "outlinewidth": 0,
             "ticks": ""
            },
            "colorscale": [
             [
              0,
              "#0d0887"
             ],
             [
              0.1111111111111111,
              "#46039f"
             ],
             [
              0.2222222222222222,
              "#7201a8"
             ],
             [
              0.3333333333333333,
              "#9c179e"
             ],
             [
              0.4444444444444444,
              "#bd3786"
             ],
             [
              0.5555555555555556,
              "#d8576b"
             ],
             [
              0.6666666666666666,
              "#ed7953"
             ],
             [
              0.7777777777777778,
              "#fb9f3a"
             ],
             [
              0.8888888888888888,
              "#fdca26"
             ],
             [
              1,
              "#f0f921"
             ]
            ],
            "type": "contour"
           }
          ],
          "contourcarpet": [
           {
            "colorbar": {
             "outlinewidth": 0,
             "ticks": ""
            },
            "type": "contourcarpet"
           }
          ],
          "heatmap": [
           {
            "colorbar": {
             "outlinewidth": 0,
             "ticks": ""
            },
            "colorscale": [
             [
              0,
              "#0d0887"
             ],
             [
              0.1111111111111111,
              "#46039f"
             ],
             [
              0.2222222222222222,
              "#7201a8"
             ],
             [
              0.3333333333333333,
              "#9c179e"
             ],
             [
              0.4444444444444444,
              "#bd3786"
             ],
             [
              0.5555555555555556,
              "#d8576b"
             ],
             [
              0.6666666666666666,
              "#ed7953"
             ],
             [
              0.7777777777777778,
              "#fb9f3a"
             ],
             [
              0.8888888888888888,
              "#fdca26"
             ],
             [
              1,
              "#f0f921"
             ]
            ],
            "type": "heatmap"
           }
          ],
          "heatmapgl": [
           {
            "colorbar": {
             "outlinewidth": 0,
             "ticks": ""
            },
            "colorscale": [
             [
              0,
              "#0d0887"
             ],
             [
              0.1111111111111111,
              "#46039f"
             ],
             [
              0.2222222222222222,
              "#7201a8"
             ],
             [
              0.3333333333333333,
              "#9c179e"
             ],
             [
              0.4444444444444444,
              "#bd3786"
             ],
             [
              0.5555555555555556,
              "#d8576b"
             ],
             [
              0.6666666666666666,
              "#ed7953"
             ],
             [
              0.7777777777777778,
              "#fb9f3a"
             ],
             [
              0.8888888888888888,
              "#fdca26"
             ],
             [
              1,
              "#f0f921"
             ]
            ],
            "type": "heatmapgl"
           }
          ],
          "histogram": [
           {
            "marker": {
             "colorbar": {
              "outlinewidth": 0,
              "ticks": ""
             }
            },
            "type": "histogram"
           }
          ],
          "histogram2d": [
           {
            "colorbar": {
             "outlinewidth": 0,
             "ticks": ""
            },
            "colorscale": [
             [
              0,
              "#0d0887"
             ],
             [
              0.1111111111111111,
              "#46039f"
             ],
             [
              0.2222222222222222,
              "#7201a8"
             ],
             [
              0.3333333333333333,
              "#9c179e"
             ],
             [
              0.4444444444444444,
              "#bd3786"
             ],
             [
              0.5555555555555556,
              "#d8576b"
             ],
             [
              0.6666666666666666,
              "#ed7953"
             ],
             [
              0.7777777777777778,
              "#fb9f3a"
             ],
             [
              0.8888888888888888,
              "#fdca26"
             ],
             [
              1,
              "#f0f921"
             ]
            ],
            "type": "histogram2d"
           }
          ],
          "histogram2dcontour": [
           {
            "colorbar": {
             "outlinewidth": 0,
             "ticks": ""
            },
            "colorscale": [
             [
              0,
              "#0d0887"
             ],
             [
              0.1111111111111111,
              "#46039f"
             ],
             [
              0.2222222222222222,
              "#7201a8"
             ],
             [
              0.3333333333333333,
              "#9c179e"
             ],
             [
              0.4444444444444444,
              "#bd3786"
             ],
             [
              0.5555555555555556,
              "#d8576b"
             ],
             [
              0.6666666666666666,
              "#ed7953"
             ],
             [
              0.7777777777777778,
              "#fb9f3a"
             ],
             [
              0.8888888888888888,
              "#fdca26"
             ],
             [
              1,
              "#f0f921"
             ]
            ],
            "type": "histogram2dcontour"
           }
          ],
          "mesh3d": [
           {
            "colorbar": {
             "outlinewidth": 0,
             "ticks": ""
            },
            "type": "mesh3d"
           }
          ],
          "parcoords": [
           {
            "line": {
             "colorbar": {
              "outlinewidth": 0,
              "ticks": ""
             }
            },
            "type": "parcoords"
           }
          ],
          "pie": [
           {
            "automargin": true,
            "type": "pie"
           }
          ],
          "scatter": [
           {
            "marker": {
             "colorbar": {
              "outlinewidth": 0,
              "ticks": ""
             }
            },
            "type": "scatter"
           }
          ],
          "scatter3d": [
           {
            "line": {
             "colorbar": {
              "outlinewidth": 0,
              "ticks": ""
             }
            },
            "marker": {
             "colorbar": {
              "outlinewidth": 0,
              "ticks": ""
             }
            },
            "type": "scatter3d"
           }
          ],
          "scattercarpet": [
           {
            "marker": {
             "colorbar": {
              "outlinewidth": 0,
              "ticks": ""
             }
            },
            "type": "scattercarpet"
           }
          ],
          "scattergeo": [
           {
            "marker": {
             "colorbar": {
              "outlinewidth": 0,
              "ticks": ""
             }
            },
            "type": "scattergeo"
           }
          ],
          "scattergl": [
           {
            "marker": {
             "colorbar": {
              "outlinewidth": 0,
              "ticks": ""
             }
            },
            "type": "scattergl"
           }
          ],
          "scattermapbox": [
           {
            "marker": {
             "colorbar": {
              "outlinewidth": 0,
              "ticks": ""
             }
            },
            "type": "scattermapbox"
           }
          ],
          "scatterpolar": [
           {
            "marker": {
             "colorbar": {
              "outlinewidth": 0,
              "ticks": ""
             }
            },
            "type": "scatterpolar"
           }
          ],
          "scatterpolargl": [
           {
            "marker": {
             "colorbar": {
              "outlinewidth": 0,
              "ticks": ""
             }
            },
            "type": "scatterpolargl"
           }
          ],
          "scatterternary": [
           {
            "marker": {
             "colorbar": {
              "outlinewidth": 0,
              "ticks": ""
             }
            },
            "type": "scatterternary"
           }
          ],
          "surface": [
           {
            "colorbar": {
             "outlinewidth": 0,
             "ticks": ""
            },
            "colorscale": [
             [
              0,
              "#0d0887"
             ],
             [
              0.1111111111111111,
              "#46039f"
             ],
             [
              0.2222222222222222,
              "#7201a8"
             ],
             [
              0.3333333333333333,
              "#9c179e"
             ],
             [
              0.4444444444444444,
              "#bd3786"
             ],
             [
              0.5555555555555556,
              "#d8576b"
             ],
             [
              0.6666666666666666,
              "#ed7953"
             ],
             [
              0.7777777777777778,
              "#fb9f3a"
             ],
             [
              0.8888888888888888,
              "#fdca26"
             ],
             [
              1,
              "#f0f921"
             ]
            ],
            "type": "surface"
           }
          ],
          "table": [
           {
            "cells": {
             "fill": {
              "color": "#EBF0F8"
             },
             "line": {
              "color": "white"
             }
            },
            "header": {
             "fill": {
              "color": "#C8D4E3"
             },
             "line": {
              "color": "white"
             }
            },
            "type": "table"
           }
          ]
         },
         "layout": {
          "annotationdefaults": {
           "arrowcolor": "#2a3f5f",
           "arrowhead": 0,
           "arrowwidth": 1
          },
          "autotypenumbers": "strict",
          "coloraxis": {
           "colorbar": {
            "outlinewidth": 0,
            "ticks": ""
           }
          },
          "colorscale": {
           "diverging": [
            [
             0,
             "#8e0152"
            ],
            [
             0.1,
             "#c51b7d"
            ],
            [
             0.2,
             "#de77ae"
            ],
            [
             0.3,
             "#f1b6da"
            ],
            [
             0.4,
             "#fde0ef"
            ],
            [
             0.5,
             "#f7f7f7"
            ],
            [
             0.6,
             "#e6f5d0"
            ],
            [
             0.7,
             "#b8e186"
            ],
            [
             0.8,
             "#7fbc41"
            ],
            [
             0.9,
             "#4d9221"
            ],
            [
             1,
             "#276419"
            ]
           ],
           "sequential": [
            [
             0,
             "#0d0887"
            ],
            [
             0.1111111111111111,
             "#46039f"
            ],
            [
             0.2222222222222222,
             "#7201a8"
            ],
            [
             0.3333333333333333,
             "#9c179e"
            ],
            [
             0.4444444444444444,
             "#bd3786"
            ],
            [
             0.5555555555555556,
             "#d8576b"
            ],
            [
             0.6666666666666666,
             "#ed7953"
            ],
            [
             0.7777777777777778,
             "#fb9f3a"
            ],
            [
             0.8888888888888888,
             "#fdca26"
            ],
            [
             1,
             "#f0f921"
            ]
           ],
           "sequentialminus": [
            [
             0,
             "#0d0887"
            ],
            [
             0.1111111111111111,
             "#46039f"
            ],
            [
             0.2222222222222222,
             "#7201a8"
            ],
            [
             0.3333333333333333,
             "#9c179e"
            ],
            [
             0.4444444444444444,
             "#bd3786"
            ],
            [
             0.5555555555555556,
             "#d8576b"
            ],
            [
             0.6666666666666666,
             "#ed7953"
            ],
            [
             0.7777777777777778,
             "#fb9f3a"
            ],
            [
             0.8888888888888888,
             "#fdca26"
            ],
            [
             1,
             "#f0f921"
            ]
           ]
          },
          "colorway": [
           "#636efa",
           "#EF553B",
           "#00cc96",
           "#ab63fa",
           "#FFA15A",
           "#19d3f3",
           "#FF6692",
           "#B6E880",
           "#FF97FF",
           "#FECB52"
          ],
          "font": {
           "color": "#2a3f5f"
          },
          "geo": {
           "bgcolor": "white",
           "lakecolor": "white",
           "landcolor": "#E5ECF6",
           "showlakes": true,
           "showland": true,
           "subunitcolor": "white"
          },
          "hoverlabel": {
           "align": "left"
          },
          "hovermode": "closest",
          "mapbox": {
           "style": "light"
          },
          "paper_bgcolor": "white",
          "plot_bgcolor": "#E5ECF6",
          "polar": {
           "angularaxis": {
            "gridcolor": "white",
            "linecolor": "white",
            "ticks": ""
           },
           "bgcolor": "#E5ECF6",
           "radialaxis": {
            "gridcolor": "white",
            "linecolor": "white",
            "ticks": ""
           }
          },
          "scene": {
           "xaxis": {
            "backgroundcolor": "#E5ECF6",
            "gridcolor": "white",
            "gridwidth": 2,
            "linecolor": "white",
            "showbackground": true,
            "ticks": "",
            "zerolinecolor": "white"
           },
           "yaxis": {
            "backgroundcolor": "#E5ECF6",
            "gridcolor": "white",
            "gridwidth": 2,
            "linecolor": "white",
            "showbackground": true,
            "ticks": "",
            "zerolinecolor": "white"
           },
           "zaxis": {
            "backgroundcolor": "#E5ECF6",
            "gridcolor": "white",
            "gridwidth": 2,
            "linecolor": "white",
            "showbackground": true,
            "ticks": "",
            "zerolinecolor": "white"
           }
          },
          "shapedefaults": {
           "line": {
            "color": "#2a3f5f"
           }
          },
          "ternary": {
           "aaxis": {
            "gridcolor": "white",
            "linecolor": "white",
            "ticks": ""
           },
           "baxis": {
            "gridcolor": "white",
            "linecolor": "white",
            "ticks": ""
           },
           "bgcolor": "#E5ECF6",
           "caxis": {
            "gridcolor": "white",
            "linecolor": "white",
            "ticks": ""
           }
          },
          "title": {
           "x": 0.05
          },
          "xaxis": {
           "automargin": true,
           "gridcolor": "white",
           "linecolor": "white",
           "ticks": "",
           "title": {
            "standoff": 15
           },
           "zerolinecolor": "white",
           "zerolinewidth": 2
          },
          "yaxis": {
           "automargin": true,
           "gridcolor": "white",
           "linecolor": "white",
           "ticks": "",
           "title": {
            "standoff": 15
           },
           "zerolinecolor": "white",
           "zerolinewidth": 2
          }
         }
        },
        "title": {
         "text": " горизонтальная проницаемость - 5 мД; анизотропия - 0.5"
        },
        "xaxis": {
         "tickformat": "%d.%m.%y",
         "title": {
          "text": "Дата"
         }
        },
        "yaxis": {
         "title": {
          "text": "Qж, м3/сут"
         }
        }
       }
      },
      "text/html": [
       "<div>                            <div id=\"9a9ecd8e-8147-4621-a986-b346816de4f3\" class=\"plotly-graph-div\" style=\"height:525px; width:100%;\"></div>            <script type=\"text/javascript\">                require([\"plotly\"], function(Plotly) {                    window.PLOTLYENV=window.PLOTLYENV || {};                                    if (document.getElementById(\"9a9ecd8e-8147-4621-a986-b346816de4f3\")) {                    Plotly.newPlot(                        \"9a9ecd8e-8147-4621-a986-b346816de4f3\",                        [{\"mode\": \"lines\", \"name\": \"OPM\", \"type\": \"scatter\", \"x\": [\"2020-01-02T00:00:00\", \"2020-01-05T00:00:00\", \"2020-01-13T13:03:55\", \"2020-02-01T17:48:38\", \"2020-03-01T00:00:00\", \"2020-04-30T00:00:00\", \"2020-06-29T00:00:00\", \"2020-08-28T00:00:00\", \"2020-10-27T00:00:00\"], \"y\": [131.44386291503906, 92.9864273071289, 68.52416229248047, 54.20751953125, 47.13592529296875, 41.8604850769043, 39.51884460449219, 38.36334609985352, 37.76805877685547]}, {\"mode\": \"lines\", \"name\": \"\\u0432\\u0435\\u0440\\u0442\\u0438\\u043a\\u0430\\u043b\\u044c\\u043d\\u0430\\u044f \\u0442\\u0440\\u0435\\u0449\\u0438\\u043d\\u0430\", \"type\": \"scatter\", \"x\": [\"2020-01-02T00:00:00\", \"2020-01-05T00:00:00\", \"2020-01-13T13:03:55\", \"2020-02-01T17:48:38\", \"2020-03-01T00:00:00\", \"2020-04-30T00:00:00\", \"2020-06-29T00:00:00\", \"2020-08-28T00:00:00\", \"2020-10-27T00:00:00\"], \"y\": [765.7572558174122, 765.7534669803605, 765.7431829940767, 765.7258625961255, 765.7034002050325, 765.6584754228463, 765.6143625343141, 765.5710615394358, 765.5277605445576]}, {\"mode\": \"lines\", \"name\": \"OPM\", \"type\": \"scatter\", \"x\": [\"2020-01-02T00:00:00\", \"2020-01-04T17:56:17\", \"2020-01-12T23:45:10\", \"2020-01-28T13:17:41\", \"2020-03-01T00:00:00\", \"2020-04-30T00:00:00\", \"2020-06-29T00:00:00\", \"2020-08-28T00:00:00\", \"2020-10-27T00:00:00\"], \"y\": [140.32147216796875, 115.89007568359376, 75.92556762695312, 59.56509399414063, 49.7502555847168, 43.81117248535156, 41.23039627075195, 39.975582122802734, 39.33471298217773]}, {\"mode\": \"lines\", \"name\": \"\\u0432\\u0435\\u0440\\u0442\\u0438\\u043a\\u0430\\u043b\\u044c\\u043d\\u0430\\u044f \\u0442\\u0440\\u0435\\u0449\\u0438\\u043d\\u0430\", \"type\": \"scatter\", \"x\": [\"2020-01-02T00:00:00\", \"2020-01-04T17:56:17\", \"2020-01-12T23:45:10\", \"2020-01-28T13:17:41\", \"2020-03-01T00:00:00\", \"2020-04-30T00:00:00\", \"2020-06-29T00:00:00\", \"2020-08-28T00:00:00\", \"2020-10-27T00:00:00\"], \"y\": [765.7564439237582, 765.7545495052324, 765.7431829940767, 765.7280276458695, 765.7006938928525, 765.6536040609225, 765.6078673850823, 765.5624013404603, 765.5174765582742]}, {\"mode\": \"lines\", \"name\": \"OPM\", \"type\": \"scatter\", \"x\": [\"2020-01-02T00:00:00\", \"2020-01-04T16:15:24\", \"2020-01-12T17:01:38\", \"2020-01-28T21:37:52\", \"2020-03-01T00:00:00\", \"2020-04-30T00:00:00\", \"2020-06-29T00:00:00\", \"2020-08-28T00:00:00\", \"2020-10-27T00:00:00\"], \"y\": [170.90809631347656, 120.04627990722656, 78.69319152832031, 61.42144393920898, 51.35020065307617, 45.1581916809082, 42.47291564941406, 41.172096252441406, 40.51408767700195]}, {\"mode\": \"lines\", \"name\": \"\\u0432\\u0435\\u0440\\u0442\\u0438\\u043a\\u0430\\u043b\\u044c\\u043d\\u0430\\u044f \\u0442\\u0440\\u0435\\u0449\\u0438\\u043d\\u0430\", \"type\": \"scatter\", \"x\": [\"2020-01-02T00:00:00\", \"2020-01-04T16:15:24\", \"2020-01-12T17:01:38\", \"2020-01-28T21:37:52\", \"2020-03-01T00:00:00\", \"2020-04-30T00:00:00\", \"2020-06-29T00:00:00\", \"2020-08-28T00:00:00\", \"2020-10-27T00:00:00\"], \"y\": [765.7561732925403, 765.7531963491423, 765.7418298379868, 765.725591964907, 765.6974463182366, 765.6490033302166, 765.6019134982868, 765.5550942975746, 765.5088163592984]}, {\"mode\": \"lines\", \"name\": \"OPM\", \"type\": \"scatter\", \"x\": [\"2020-01-02T00:00:00\", \"2020-01-04T12:39:30\", \"2020-01-12T02:38:02\", \"2020-01-29T08:30:11\", \"2020-03-01T00:00:00\", \"2020-04-30T00:00:00\", \"2020-06-29T00:00:00\", \"2020-08-28T00:00:00\", \"2020-10-27T00:00:00\"], \"y\": [203.6189422607422, 124.0850830078125, 82.00103759765625, 63.3974838256836, 53.0977897644043, 46.639305114746094, 43.84333038330078, 42.50078582763672, 41.82328414916992]}, {\"mode\": \"lines\", \"name\": \"\\u0432\\u0435\\u0440\\u0442\\u0438\\u043a\\u0430\\u043b\\u044c\\u043d\\u0430\\u044f \\u0442\\u0440\\u0435\\u0449\\u0438\\u043d\\u0430\", \"type\": \"scatter\", \"x\": [\"2020-01-02T00:00:00\", \"2020-01-04T12:39:30\", \"2020-01-12T02:38:02\", \"2020-01-29T08:30:11\", \"2020-03-01T00:00:00\", \"2020-04-30T00:00:00\", \"2020-06-29T00:00:00\", \"2020-08-28T00:00:00\", \"2020-10-27T00:00:00\"], \"y\": [765.7553613988863, 765.7513019306165, 765.740476681897, 765.7226150215097, 765.6939281124028, 765.6438613370749, 765.595147717837, 765.5469753610349, 765.498803004233]}],                        {\"template\": {\"data\": {\"bar\": [{\"error_x\": {\"color\": \"#2a3f5f\"}, \"error_y\": {\"color\": \"#2a3f5f\"}, \"marker\": {\"line\": {\"color\": \"#E5ECF6\", \"width\": 0.5}}, \"type\": \"bar\"}], \"barpolar\": [{\"marker\": {\"line\": {\"color\": \"#E5ECF6\", \"width\": 0.5}}, \"type\": \"barpolar\"}], \"carpet\": [{\"aaxis\": {\"endlinecolor\": \"#2a3f5f\", \"gridcolor\": \"white\", \"linecolor\": \"white\", \"minorgridcolor\": \"white\", \"startlinecolor\": \"#2a3f5f\"}, \"baxis\": {\"endlinecolor\": \"#2a3f5f\", \"gridcolor\": \"white\", \"linecolor\": \"white\", \"minorgridcolor\": \"white\", \"startlinecolor\": \"#2a3f5f\"}, \"type\": \"carpet\"}], \"choropleth\": [{\"colorbar\": {\"outlinewidth\": 0, \"ticks\": \"\"}, \"type\": \"choropleth\"}], \"contour\": [{\"colorbar\": {\"outlinewidth\": 0, \"ticks\": \"\"}, \"colorscale\": [[0.0, \"#0d0887\"], [0.1111111111111111, \"#46039f\"], [0.2222222222222222, \"#7201a8\"], [0.3333333333333333, \"#9c179e\"], [0.4444444444444444, \"#bd3786\"], [0.5555555555555556, \"#d8576b\"], [0.6666666666666666, \"#ed7953\"], [0.7777777777777778, \"#fb9f3a\"], [0.8888888888888888, \"#fdca26\"], [1.0, \"#f0f921\"]], \"type\": \"contour\"}], \"contourcarpet\": [{\"colorbar\": {\"outlinewidth\": 0, \"ticks\": \"\"}, \"type\": \"contourcarpet\"}], \"heatmap\": [{\"colorbar\": {\"outlinewidth\": 0, \"ticks\": \"\"}, \"colorscale\": [[0.0, \"#0d0887\"], [0.1111111111111111, \"#46039f\"], [0.2222222222222222, \"#7201a8\"], [0.3333333333333333, \"#9c179e\"], [0.4444444444444444, \"#bd3786\"], [0.5555555555555556, \"#d8576b\"], [0.6666666666666666, \"#ed7953\"], [0.7777777777777778, \"#fb9f3a\"], [0.8888888888888888, \"#fdca26\"], [1.0, \"#f0f921\"]], \"type\": \"heatmap\"}], \"heatmapgl\": [{\"colorbar\": {\"outlinewidth\": 0, \"ticks\": \"\"}, \"colorscale\": [[0.0, \"#0d0887\"], [0.1111111111111111, \"#46039f\"], [0.2222222222222222, \"#7201a8\"], [0.3333333333333333, \"#9c179e\"], [0.4444444444444444, \"#bd3786\"], [0.5555555555555556, \"#d8576b\"], [0.6666666666666666, \"#ed7953\"], [0.7777777777777778, \"#fb9f3a\"], [0.8888888888888888, \"#fdca26\"], [1.0, \"#f0f921\"]], \"type\": \"heatmapgl\"}], \"histogram\": [{\"marker\": {\"colorbar\": {\"outlinewidth\": 0, \"ticks\": \"\"}}, \"type\": \"histogram\"}], \"histogram2d\": [{\"colorbar\": {\"outlinewidth\": 0, \"ticks\": \"\"}, \"colorscale\": [[0.0, \"#0d0887\"], [0.1111111111111111, \"#46039f\"], [0.2222222222222222, \"#7201a8\"], [0.3333333333333333, \"#9c179e\"], [0.4444444444444444, \"#bd3786\"], [0.5555555555555556, \"#d8576b\"], [0.6666666666666666, \"#ed7953\"], [0.7777777777777778, \"#fb9f3a\"], [0.8888888888888888, \"#fdca26\"], [1.0, \"#f0f921\"]], \"type\": \"histogram2d\"}], \"histogram2dcontour\": [{\"colorbar\": {\"outlinewidth\": 0, \"ticks\": \"\"}, \"colorscale\": [[0.0, \"#0d0887\"], [0.1111111111111111, \"#46039f\"], [0.2222222222222222, \"#7201a8\"], [0.3333333333333333, \"#9c179e\"], [0.4444444444444444, \"#bd3786\"], [0.5555555555555556, \"#d8576b\"], [0.6666666666666666, \"#ed7953\"], [0.7777777777777778, \"#fb9f3a\"], [0.8888888888888888, \"#fdca26\"], [1.0, \"#f0f921\"]], \"type\": \"histogram2dcontour\"}], \"mesh3d\": [{\"colorbar\": {\"outlinewidth\": 0, \"ticks\": \"\"}, \"type\": \"mesh3d\"}], \"parcoords\": [{\"line\": {\"colorbar\": {\"outlinewidth\": 0, \"ticks\": \"\"}}, \"type\": \"parcoords\"}], \"pie\": [{\"automargin\": true, \"type\": \"pie\"}], \"scatter\": [{\"marker\": {\"colorbar\": {\"outlinewidth\": 0, \"ticks\": \"\"}}, \"type\": \"scatter\"}], \"scatter3d\": [{\"line\": {\"colorbar\": {\"outlinewidth\": 0, \"ticks\": \"\"}}, \"marker\": {\"colorbar\": {\"outlinewidth\": 0, \"ticks\": \"\"}}, \"type\": \"scatter3d\"}], \"scattercarpet\": [{\"marker\": {\"colorbar\": {\"outlinewidth\": 0, \"ticks\": \"\"}}, \"type\": \"scattercarpet\"}], \"scattergeo\": [{\"marker\": {\"colorbar\": {\"outlinewidth\": 0, \"ticks\": \"\"}}, \"type\": \"scattergeo\"}], \"scattergl\": [{\"marker\": {\"colorbar\": {\"outlinewidth\": 0, \"ticks\": \"\"}}, \"type\": \"scattergl\"}], \"scattermapbox\": [{\"marker\": {\"colorbar\": {\"outlinewidth\": 0, \"ticks\": \"\"}}, \"type\": \"scattermapbox\"}], \"scatterpolar\": [{\"marker\": {\"colorbar\": {\"outlinewidth\": 0, \"ticks\": \"\"}}, \"type\": \"scatterpolar\"}], \"scatterpolargl\": [{\"marker\": {\"colorbar\": {\"outlinewidth\": 0, \"ticks\": \"\"}}, \"type\": \"scatterpolargl\"}], \"scatterternary\": [{\"marker\": {\"colorbar\": {\"outlinewidth\": 0, \"ticks\": \"\"}}, \"type\": \"scatterternary\"}], \"surface\": [{\"colorbar\": {\"outlinewidth\": 0, \"ticks\": \"\"}, \"colorscale\": [[0.0, \"#0d0887\"], [0.1111111111111111, \"#46039f\"], [0.2222222222222222, \"#7201a8\"], [0.3333333333333333, \"#9c179e\"], [0.4444444444444444, \"#bd3786\"], [0.5555555555555556, \"#d8576b\"], [0.6666666666666666, \"#ed7953\"], [0.7777777777777778, \"#fb9f3a\"], [0.8888888888888888, \"#fdca26\"], [1.0, \"#f0f921\"]], \"type\": \"surface\"}], \"table\": [{\"cells\": {\"fill\": {\"color\": \"#EBF0F8\"}, \"line\": {\"color\": \"white\"}}, \"header\": {\"fill\": {\"color\": \"#C8D4E3\"}, \"line\": {\"color\": \"white\"}}, \"type\": \"table\"}]}, \"layout\": {\"annotationdefaults\": {\"arrowcolor\": \"#2a3f5f\", \"arrowhead\": 0, \"arrowwidth\": 1}, \"autotypenumbers\": \"strict\", \"coloraxis\": {\"colorbar\": {\"outlinewidth\": 0, \"ticks\": \"\"}}, \"colorscale\": {\"diverging\": [[0, \"#8e0152\"], [0.1, \"#c51b7d\"], [0.2, \"#de77ae\"], [0.3, \"#f1b6da\"], [0.4, \"#fde0ef\"], [0.5, \"#f7f7f7\"], [0.6, \"#e6f5d0\"], [0.7, \"#b8e186\"], [0.8, \"#7fbc41\"], [0.9, \"#4d9221\"], [1, \"#276419\"]], \"sequential\": [[0.0, \"#0d0887\"], [0.1111111111111111, \"#46039f\"], [0.2222222222222222, \"#7201a8\"], [0.3333333333333333, \"#9c179e\"], [0.4444444444444444, \"#bd3786\"], [0.5555555555555556, \"#d8576b\"], [0.6666666666666666, \"#ed7953\"], [0.7777777777777778, \"#fb9f3a\"], [0.8888888888888888, \"#fdca26\"], [1.0, \"#f0f921\"]], \"sequentialminus\": [[0.0, \"#0d0887\"], [0.1111111111111111, \"#46039f\"], [0.2222222222222222, \"#7201a8\"], [0.3333333333333333, \"#9c179e\"], [0.4444444444444444, \"#bd3786\"], [0.5555555555555556, \"#d8576b\"], [0.6666666666666666, \"#ed7953\"], [0.7777777777777778, \"#fb9f3a\"], [0.8888888888888888, \"#fdca26\"], [1.0, \"#f0f921\"]]}, \"colorway\": [\"#636efa\", \"#EF553B\", \"#00cc96\", \"#ab63fa\", \"#FFA15A\", \"#19d3f3\", \"#FF6692\", \"#B6E880\", \"#FF97FF\", \"#FECB52\"], \"font\": {\"color\": \"#2a3f5f\"}, \"geo\": {\"bgcolor\": \"white\", \"lakecolor\": \"white\", \"landcolor\": \"#E5ECF6\", \"showlakes\": true, \"showland\": true, \"subunitcolor\": \"white\"}, \"hoverlabel\": {\"align\": \"left\"}, \"hovermode\": \"closest\", \"mapbox\": {\"style\": \"light\"}, \"paper_bgcolor\": \"white\", \"plot_bgcolor\": \"#E5ECF6\", \"polar\": {\"angularaxis\": {\"gridcolor\": \"white\", \"linecolor\": \"white\", \"ticks\": \"\"}, \"bgcolor\": \"#E5ECF6\", \"radialaxis\": {\"gridcolor\": \"white\", \"linecolor\": \"white\", \"ticks\": \"\"}}, \"scene\": {\"xaxis\": {\"backgroundcolor\": \"#E5ECF6\", \"gridcolor\": \"white\", \"gridwidth\": 2, \"linecolor\": \"white\", \"showbackground\": true, \"ticks\": \"\", \"zerolinecolor\": \"white\"}, \"yaxis\": {\"backgroundcolor\": \"#E5ECF6\", \"gridcolor\": \"white\", \"gridwidth\": 2, \"linecolor\": \"white\", \"showbackground\": true, \"ticks\": \"\", \"zerolinecolor\": \"white\"}, \"zaxis\": {\"backgroundcolor\": \"#E5ECF6\", \"gridcolor\": \"white\", \"gridwidth\": 2, \"linecolor\": \"white\", \"showbackground\": true, \"ticks\": \"\", \"zerolinecolor\": \"white\"}}, \"shapedefaults\": {\"line\": {\"color\": \"#2a3f5f\"}}, \"ternary\": {\"aaxis\": {\"gridcolor\": \"white\", \"linecolor\": \"white\", \"ticks\": \"\"}, \"baxis\": {\"gridcolor\": \"white\", \"linecolor\": \"white\", \"ticks\": \"\"}, \"bgcolor\": \"#E5ECF6\", \"caxis\": {\"gridcolor\": \"white\", \"linecolor\": \"white\", \"ticks\": \"\"}}, \"title\": {\"x\": 0.05}, \"xaxis\": {\"automargin\": true, \"gridcolor\": \"white\", \"linecolor\": \"white\", \"ticks\": \"\", \"title\": {\"standoff\": 15}, \"zerolinecolor\": \"white\", \"zerolinewidth\": 2}, \"yaxis\": {\"automargin\": true, \"gridcolor\": \"white\", \"linecolor\": \"white\", \"ticks\": \"\", \"title\": {\"standoff\": 15}, \"zerolinecolor\": \"white\", \"zerolinewidth\": 2}}}, \"title\": {\"text\": \" \\u0433\\u043e\\u0440\\u0438\\u0437\\u043e\\u043d\\u0442\\u0430\\u043b\\u044c\\u043d\\u0430\\u044f \\u043f\\u0440\\u043e\\u043d\\u0438\\u0446\\u0430\\u0435\\u043c\\u043e\\u0441\\u0442\\u044c - 5 \\u043c\\u0414; \\u0430\\u043d\\u0438\\u0437\\u043e\\u0442\\u0440\\u043e\\u043f\\u0438\\u044f - 0.5\"}, \"xaxis\": {\"tickformat\": \"%d.%m.%y\", \"title\": {\"text\": \"\\u0414\\u0430\\u0442\\u0430\"}}, \"yaxis\": {\"title\": {\"text\": \"Q\\u0436, \\u043c3/\\u0441\\u0443\\u0442\"}}},                        {\"responsive\": true}                    ).then(function(){\n",
       "                            \n",
       "var gd = document.getElementById('9a9ecd8e-8147-4621-a986-b346816de4f3');\n",
       "var x = new MutationObserver(function (mutations, observer) {{\n",
       "        var display = window.getComputedStyle(gd).display;\n",
       "        if (!display || display === 'none') {{\n",
       "            console.log([gd, 'removed!']);\n",
       "            Plotly.purge(gd);\n",
       "            observer.disconnect();\n",
       "        }}\n",
       "}});\n",
       "\n",
       "// Listen for the removal of the full notebook cells\n",
       "var notebookContainer = gd.closest('#notebook-container');\n",
       "if (notebookContainer) {{\n",
       "    x.observe(notebookContainer, {childList: true});\n",
       "}}\n",
       "\n",
       "// Listen for the clearing of the current output cell\n",
       "var outputEl = gd.closest('.output');\n",
       "if (outputEl) {{\n",
       "    x.observe(outputEl, {childList: true});\n",
       "}}\n",
       "\n",
       "                        })                };                });            </script>        </div>"
      ]
     },
     "metadata": {},
     "output_type": "display_data"
    },
    {
     "data": {
      "application/vnd.plotly.v1+json": {
       "config": {
        "linkText": "Export to plot.ly",
        "plotlyServerURL": "https://plot.ly",
        "showLink": false
       },
       "data": [
        {
         "mode": "lines",
         "name": "OPM",
         "type": "scatter",
         "x": [
          "2020-01-02T00:00:00",
          "2020-01-05T00:00:00",
          "2020-01-13T13:03:55",
          "2020-02-01T17:48:38",
          "2020-03-01T00:00:00",
          "2020-04-30T00:00:00",
          "2020-06-29T00:00:00",
          "2020-08-28T00:00:00",
          "2020-10-27T00:00:00"
         ],
         "y": [
          131.44386291503906,
          92.9864273071289,
          68.52416229248047,
          54.20751953125,
          47.13592529296875,
          41.8604850769043,
          39.51884460449219,
          38.36334609985352,
          37.76805877685547
         ]
        },
        {
         "mode": "lines",
         "name": "вертикальная трещина",
         "type": "scatter",
         "x": [
          "2020-01-02T00:00:00",
          "2020-01-05T00:00:00",
          "2020-01-13T13:03:55",
          "2020-02-01T17:48:38",
          "2020-03-01T00:00:00",
          "2020-04-30T00:00:00",
          "2020-06-29T00:00:00",
          "2020-08-28T00:00:00",
          "2020-10-27T00:00:00"
         ],
         "y": [
          765.7572558174122,
          765.7534669803605,
          765.7431829940767,
          765.7258625961255,
          765.7034002050325,
          765.6584754228463,
          765.6143625343141,
          765.5710615394358,
          765.5277605445576
         ]
        },
        {
         "mode": "lines",
         "name": "OPM",
         "type": "scatter",
         "x": [
          "2020-01-02T00:00:00",
          "2020-01-04T17:56:17",
          "2020-01-12T23:45:10",
          "2020-01-28T13:17:41",
          "2020-03-01T00:00:00",
          "2020-04-30T00:00:00",
          "2020-06-29T00:00:00",
          "2020-08-28T00:00:00",
          "2020-10-27T00:00:00"
         ],
         "y": [
          140.32147216796875,
          115.89007568359376,
          75.92556762695312,
          59.56509399414063,
          49.7502555847168,
          43.81117248535156,
          41.23039627075195,
          39.975582122802734,
          39.33471298217773
         ]
        },
        {
         "mode": "lines",
         "name": "вертикальная трещина",
         "type": "scatter",
         "x": [
          "2020-01-02T00:00:00",
          "2020-01-04T17:56:17",
          "2020-01-12T23:45:10",
          "2020-01-28T13:17:41",
          "2020-03-01T00:00:00",
          "2020-04-30T00:00:00",
          "2020-06-29T00:00:00",
          "2020-08-28T00:00:00",
          "2020-10-27T00:00:00"
         ],
         "y": [
          765.7564439237582,
          765.7545495052324,
          765.7431829940767,
          765.7280276458695,
          765.7006938928525,
          765.6536040609225,
          765.6078673850823,
          765.5624013404603,
          765.5174765582742
         ]
        },
        {
         "mode": "lines",
         "name": "OPM",
         "type": "scatter",
         "x": [
          "2020-01-02T00:00:00",
          "2020-01-04T16:15:24",
          "2020-01-12T17:01:38",
          "2020-01-28T21:37:52",
          "2020-03-01T00:00:00",
          "2020-04-30T00:00:00",
          "2020-06-29T00:00:00",
          "2020-08-28T00:00:00",
          "2020-10-27T00:00:00"
         ],
         "y": [
          170.90809631347656,
          120.04627990722656,
          78.69319152832031,
          61.42144393920898,
          51.35020065307617,
          45.1581916809082,
          42.47291564941406,
          41.172096252441406,
          40.51408767700195
         ]
        },
        {
         "mode": "lines",
         "name": "вертикальная трещина",
         "type": "scatter",
         "x": [
          "2020-01-02T00:00:00",
          "2020-01-04T16:15:24",
          "2020-01-12T17:01:38",
          "2020-01-28T21:37:52",
          "2020-03-01T00:00:00",
          "2020-04-30T00:00:00",
          "2020-06-29T00:00:00",
          "2020-08-28T00:00:00",
          "2020-10-27T00:00:00"
         ],
         "y": [
          765.7561732925403,
          765.7531963491423,
          765.7418298379868,
          765.725591964907,
          765.6974463182366,
          765.6490033302166,
          765.6019134982868,
          765.5550942975746,
          765.5088163592984
         ]
        },
        {
         "mode": "lines",
         "name": "OPM",
         "type": "scatter",
         "x": [
          "2020-01-02T00:00:00",
          "2020-01-04T12:39:30",
          "2020-01-12T02:38:02",
          "2020-01-29T08:30:11",
          "2020-03-01T00:00:00",
          "2020-04-30T00:00:00",
          "2020-06-29T00:00:00",
          "2020-08-28T00:00:00",
          "2020-10-27T00:00:00"
         ],
         "y": [
          203.6189422607422,
          124.0850830078125,
          82.00103759765625,
          63.3974838256836,
          53.0977897644043,
          46.639305114746094,
          43.84333038330078,
          42.50078582763672,
          41.82328414916992
         ]
        },
        {
         "mode": "lines",
         "name": "вертикальная трещина",
         "type": "scatter",
         "x": [
          "2020-01-02T00:00:00",
          "2020-01-04T12:39:30",
          "2020-01-12T02:38:02",
          "2020-01-29T08:30:11",
          "2020-03-01T00:00:00",
          "2020-04-30T00:00:00",
          "2020-06-29T00:00:00",
          "2020-08-28T00:00:00",
          "2020-10-27T00:00:00"
         ],
         "y": [
          765.7553613988863,
          765.7513019306165,
          765.740476681897,
          765.7226150215097,
          765.6939281124028,
          765.6438613370749,
          765.595147717837,
          765.5469753610349,
          765.498803004233
         ]
        }
       ],
       "layout": {
        "template": {
         "data": {
          "bar": [
           {
            "error_x": {
             "color": "#2a3f5f"
            },
            "error_y": {
             "color": "#2a3f5f"
            },
            "marker": {
             "line": {
              "color": "#E5ECF6",
              "width": 0.5
             }
            },
            "type": "bar"
           }
          ],
          "barpolar": [
           {
            "marker": {
             "line": {
              "color": "#E5ECF6",
              "width": 0.5
             }
            },
            "type": "barpolar"
           }
          ],
          "carpet": [
           {
            "aaxis": {
             "endlinecolor": "#2a3f5f",
             "gridcolor": "white",
             "linecolor": "white",
             "minorgridcolor": "white",
             "startlinecolor": "#2a3f5f"
            },
            "baxis": {
             "endlinecolor": "#2a3f5f",
             "gridcolor": "white",
             "linecolor": "white",
             "minorgridcolor": "white",
             "startlinecolor": "#2a3f5f"
            },
            "type": "carpet"
           }
          ],
          "choropleth": [
           {
            "colorbar": {
             "outlinewidth": 0,
             "ticks": ""
            },
            "type": "choropleth"
           }
          ],
          "contour": [
           {
            "colorbar": {
             "outlinewidth": 0,
             "ticks": ""
            },
            "colorscale": [
             [
              0,
              "#0d0887"
             ],
             [
              0.1111111111111111,
              "#46039f"
             ],
             [
              0.2222222222222222,
              "#7201a8"
             ],
             [
              0.3333333333333333,
              "#9c179e"
             ],
             [
              0.4444444444444444,
              "#bd3786"
             ],
             [
              0.5555555555555556,
              "#d8576b"
             ],
             [
              0.6666666666666666,
              "#ed7953"
             ],
             [
              0.7777777777777778,
              "#fb9f3a"
             ],
             [
              0.8888888888888888,
              "#fdca26"
             ],
             [
              1,
              "#f0f921"
             ]
            ],
            "type": "contour"
           }
          ],
          "contourcarpet": [
           {
            "colorbar": {
             "outlinewidth": 0,
             "ticks": ""
            },
            "type": "contourcarpet"
           }
          ],
          "heatmap": [
           {
            "colorbar": {
             "outlinewidth": 0,
             "ticks": ""
            },
            "colorscale": [
             [
              0,
              "#0d0887"
             ],
             [
              0.1111111111111111,
              "#46039f"
             ],
             [
              0.2222222222222222,
              "#7201a8"
             ],
             [
              0.3333333333333333,
              "#9c179e"
             ],
             [
              0.4444444444444444,
              "#bd3786"
             ],
             [
              0.5555555555555556,
              "#d8576b"
             ],
             [
              0.6666666666666666,
              "#ed7953"
             ],
             [
              0.7777777777777778,
              "#fb9f3a"
             ],
             [
              0.8888888888888888,
              "#fdca26"
             ],
             [
              1,
              "#f0f921"
             ]
            ],
            "type": "heatmap"
           }
          ],
          "heatmapgl": [
           {
            "colorbar": {
             "outlinewidth": 0,
             "ticks": ""
            },
            "colorscale": [
             [
              0,
              "#0d0887"
             ],
             [
              0.1111111111111111,
              "#46039f"
             ],
             [
              0.2222222222222222,
              "#7201a8"
             ],
             [
              0.3333333333333333,
              "#9c179e"
             ],
             [
              0.4444444444444444,
              "#bd3786"
             ],
             [
              0.5555555555555556,
              "#d8576b"
             ],
             [
              0.6666666666666666,
              "#ed7953"
             ],
             [
              0.7777777777777778,
              "#fb9f3a"
             ],
             [
              0.8888888888888888,
              "#fdca26"
             ],
             [
              1,
              "#f0f921"
             ]
            ],
            "type": "heatmapgl"
           }
          ],
          "histogram": [
           {
            "marker": {
             "colorbar": {
              "outlinewidth": 0,
              "ticks": ""
             }
            },
            "type": "histogram"
           }
          ],
          "histogram2d": [
           {
            "colorbar": {
             "outlinewidth": 0,
             "ticks": ""
            },
            "colorscale": [
             [
              0,
              "#0d0887"
             ],
             [
              0.1111111111111111,
              "#46039f"
             ],
             [
              0.2222222222222222,
              "#7201a8"
             ],
             [
              0.3333333333333333,
              "#9c179e"
             ],
             [
              0.4444444444444444,
              "#bd3786"
             ],
             [
              0.5555555555555556,
              "#d8576b"
             ],
             [
              0.6666666666666666,
              "#ed7953"
             ],
             [
              0.7777777777777778,
              "#fb9f3a"
             ],
             [
              0.8888888888888888,
              "#fdca26"
             ],
             [
              1,
              "#f0f921"
             ]
            ],
            "type": "histogram2d"
           }
          ],
          "histogram2dcontour": [
           {
            "colorbar": {
             "outlinewidth": 0,
             "ticks": ""
            },
            "colorscale": [
             [
              0,
              "#0d0887"
             ],
             [
              0.1111111111111111,
              "#46039f"
             ],
             [
              0.2222222222222222,
              "#7201a8"
             ],
             [
              0.3333333333333333,
              "#9c179e"
             ],
             [
              0.4444444444444444,
              "#bd3786"
             ],
             [
              0.5555555555555556,
              "#d8576b"
             ],
             [
              0.6666666666666666,
              "#ed7953"
             ],
             [
              0.7777777777777778,
              "#fb9f3a"
             ],
             [
              0.8888888888888888,
              "#fdca26"
             ],
             [
              1,
              "#f0f921"
             ]
            ],
            "type": "histogram2dcontour"
           }
          ],
          "mesh3d": [
           {
            "colorbar": {
             "outlinewidth": 0,
             "ticks": ""
            },
            "type": "mesh3d"
           }
          ],
          "parcoords": [
           {
            "line": {
             "colorbar": {
              "outlinewidth": 0,
              "ticks": ""
             }
            },
            "type": "parcoords"
           }
          ],
          "pie": [
           {
            "automargin": true,
            "type": "pie"
           }
          ],
          "scatter": [
           {
            "marker": {
             "colorbar": {
              "outlinewidth": 0,
              "ticks": ""
             }
            },
            "type": "scatter"
           }
          ],
          "scatter3d": [
           {
            "line": {
             "colorbar": {
              "outlinewidth": 0,
              "ticks": ""
             }
            },
            "marker": {
             "colorbar": {
              "outlinewidth": 0,
              "ticks": ""
             }
            },
            "type": "scatter3d"
           }
          ],
          "scattercarpet": [
           {
            "marker": {
             "colorbar": {
              "outlinewidth": 0,
              "ticks": ""
             }
            },
            "type": "scattercarpet"
           }
          ],
          "scattergeo": [
           {
            "marker": {
             "colorbar": {
              "outlinewidth": 0,
              "ticks": ""
             }
            },
            "type": "scattergeo"
           }
          ],
          "scattergl": [
           {
            "marker": {
             "colorbar": {
              "outlinewidth": 0,
              "ticks": ""
             }
            },
            "type": "scattergl"
           }
          ],
          "scattermapbox": [
           {
            "marker": {
             "colorbar": {
              "outlinewidth": 0,
              "ticks": ""
             }
            },
            "type": "scattermapbox"
           }
          ],
          "scatterpolar": [
           {
            "marker": {
             "colorbar": {
              "outlinewidth": 0,
              "ticks": ""
             }
            },
            "type": "scatterpolar"
           }
          ],
          "scatterpolargl": [
           {
            "marker": {
             "colorbar": {
              "outlinewidth": 0,
              "ticks": ""
             }
            },
            "type": "scatterpolargl"
           }
          ],
          "scatterternary": [
           {
            "marker": {
             "colorbar": {
              "outlinewidth": 0,
              "ticks": ""
             }
            },
            "type": "scatterternary"
           }
          ],
          "surface": [
           {
            "colorbar": {
             "outlinewidth": 0,
             "ticks": ""
            },
            "colorscale": [
             [
              0,
              "#0d0887"
             ],
             [
              0.1111111111111111,
              "#46039f"
             ],
             [
              0.2222222222222222,
              "#7201a8"
             ],
             [
              0.3333333333333333,
              "#9c179e"
             ],
             [
              0.4444444444444444,
              "#bd3786"
             ],
             [
              0.5555555555555556,
              "#d8576b"
             ],
             [
              0.6666666666666666,
              "#ed7953"
             ],
             [
              0.7777777777777778,
              "#fb9f3a"
             ],
             [
              0.8888888888888888,
              "#fdca26"
             ],
             [
              1,
              "#f0f921"
             ]
            ],
            "type": "surface"
           }
          ],
          "table": [
           {
            "cells": {
             "fill": {
              "color": "#EBF0F8"
             },
             "line": {
              "color": "white"
             }
            },
            "header": {
             "fill": {
              "color": "#C8D4E3"
             },
             "line": {
              "color": "white"
             }
            },
            "type": "table"
           }
          ]
         },
         "layout": {
          "annotationdefaults": {
           "arrowcolor": "#2a3f5f",
           "arrowhead": 0,
           "arrowwidth": 1
          },
          "autotypenumbers": "strict",
          "coloraxis": {
           "colorbar": {
            "outlinewidth": 0,
            "ticks": ""
           }
          },
          "colorscale": {
           "diverging": [
            [
             0,
             "#8e0152"
            ],
            [
             0.1,
             "#c51b7d"
            ],
            [
             0.2,
             "#de77ae"
            ],
            [
             0.3,
             "#f1b6da"
            ],
            [
             0.4,
             "#fde0ef"
            ],
            [
             0.5,
             "#f7f7f7"
            ],
            [
             0.6,
             "#e6f5d0"
            ],
            [
             0.7,
             "#b8e186"
            ],
            [
             0.8,
             "#7fbc41"
            ],
            [
             0.9,
             "#4d9221"
            ],
            [
             1,
             "#276419"
            ]
           ],
           "sequential": [
            [
             0,
             "#0d0887"
            ],
            [
             0.1111111111111111,
             "#46039f"
            ],
            [
             0.2222222222222222,
             "#7201a8"
            ],
            [
             0.3333333333333333,
             "#9c179e"
            ],
            [
             0.4444444444444444,
             "#bd3786"
            ],
            [
             0.5555555555555556,
             "#d8576b"
            ],
            [
             0.6666666666666666,
             "#ed7953"
            ],
            [
             0.7777777777777778,
             "#fb9f3a"
            ],
            [
             0.8888888888888888,
             "#fdca26"
            ],
            [
             1,
             "#f0f921"
            ]
           ],
           "sequentialminus": [
            [
             0,
             "#0d0887"
            ],
            [
             0.1111111111111111,
             "#46039f"
            ],
            [
             0.2222222222222222,
             "#7201a8"
            ],
            [
             0.3333333333333333,
             "#9c179e"
            ],
            [
             0.4444444444444444,
             "#bd3786"
            ],
            [
             0.5555555555555556,
             "#d8576b"
            ],
            [
             0.6666666666666666,
             "#ed7953"
            ],
            [
             0.7777777777777778,
             "#fb9f3a"
            ],
            [
             0.8888888888888888,
             "#fdca26"
            ],
            [
             1,
             "#f0f921"
            ]
           ]
          },
          "colorway": [
           "#636efa",
           "#EF553B",
           "#00cc96",
           "#ab63fa",
           "#FFA15A",
           "#19d3f3",
           "#FF6692",
           "#B6E880",
           "#FF97FF",
           "#FECB52"
          ],
          "font": {
           "color": "#2a3f5f"
          },
          "geo": {
           "bgcolor": "white",
           "lakecolor": "white",
           "landcolor": "#E5ECF6",
           "showlakes": true,
           "showland": true,
           "subunitcolor": "white"
          },
          "hoverlabel": {
           "align": "left"
          },
          "hovermode": "closest",
          "mapbox": {
           "style": "light"
          },
          "paper_bgcolor": "white",
          "plot_bgcolor": "#E5ECF6",
          "polar": {
           "angularaxis": {
            "gridcolor": "white",
            "linecolor": "white",
            "ticks": ""
           },
           "bgcolor": "#E5ECF6",
           "radialaxis": {
            "gridcolor": "white",
            "linecolor": "white",
            "ticks": ""
           }
          },
          "scene": {
           "xaxis": {
            "backgroundcolor": "#E5ECF6",
            "gridcolor": "white",
            "gridwidth": 2,
            "linecolor": "white",
            "showbackground": true,
            "ticks": "",
            "zerolinecolor": "white"
           },
           "yaxis": {
            "backgroundcolor": "#E5ECF6",
            "gridcolor": "white",
            "gridwidth": 2,
            "linecolor": "white",
            "showbackground": true,
            "ticks": "",
            "zerolinecolor": "white"
           },
           "zaxis": {
            "backgroundcolor": "#E5ECF6",
            "gridcolor": "white",
            "gridwidth": 2,
            "linecolor": "white",
            "showbackground": true,
            "ticks": "",
            "zerolinecolor": "white"
           }
          },
          "shapedefaults": {
           "line": {
            "color": "#2a3f5f"
           }
          },
          "ternary": {
           "aaxis": {
            "gridcolor": "white",
            "linecolor": "white",
            "ticks": ""
           },
           "baxis": {
            "gridcolor": "white",
            "linecolor": "white",
            "ticks": ""
           },
           "bgcolor": "#E5ECF6",
           "caxis": {
            "gridcolor": "white",
            "linecolor": "white",
            "ticks": ""
           }
          },
          "title": {
           "x": 0.05
          },
          "xaxis": {
           "automargin": true,
           "gridcolor": "white",
           "linecolor": "white",
           "ticks": "",
           "title": {
            "standoff": 15
           },
           "zerolinecolor": "white",
           "zerolinewidth": 2
          },
          "yaxis": {
           "automargin": true,
           "gridcolor": "white",
           "linecolor": "white",
           "ticks": "",
           "title": {
            "standoff": 15
           },
           "zerolinecolor": "white",
           "zerolinewidth": 2
          }
         }
        },
        "title": {
         "text": " горизонтальная проницаемость - 5 мД; анизотропия - 0.5"
        },
        "xaxis": {
         "tickformat": "%d.%m.%y",
         "title": {
          "text": "Дата"
         }
        },
        "yaxis": {
         "title": {
          "text": "Qж, м3/сут"
         }
        }
       }
      },
      "text/html": [
       "<div>                            <div id=\"5d0f3e67-d1ff-493b-b031-2ffd40a5a0a9\" class=\"plotly-graph-div\" style=\"height:525px; width:100%;\"></div>            <script type=\"text/javascript\">                require([\"plotly\"], function(Plotly) {                    window.PLOTLYENV=window.PLOTLYENV || {};                                    if (document.getElementById(\"5d0f3e67-d1ff-493b-b031-2ffd40a5a0a9\")) {                    Plotly.newPlot(                        \"5d0f3e67-d1ff-493b-b031-2ffd40a5a0a9\",                        [{\"mode\": \"lines\", \"name\": \"OPM\", \"type\": \"scatter\", \"x\": [\"2020-01-02T00:00:00\", \"2020-01-05T00:00:00\", \"2020-01-13T13:03:55\", \"2020-02-01T17:48:38\", \"2020-03-01T00:00:00\", \"2020-04-30T00:00:00\", \"2020-06-29T00:00:00\", \"2020-08-28T00:00:00\", \"2020-10-27T00:00:00\"], \"y\": [131.44386291503906, 92.9864273071289, 68.52416229248047, 54.20751953125, 47.13592529296875, 41.8604850769043, 39.51884460449219, 38.36334609985352, 37.76805877685547]}, {\"mode\": \"lines\", \"name\": \"\\u0432\\u0435\\u0440\\u0442\\u0438\\u043a\\u0430\\u043b\\u044c\\u043d\\u0430\\u044f \\u0442\\u0440\\u0435\\u0449\\u0438\\u043d\\u0430\", \"type\": \"scatter\", \"x\": [\"2020-01-02T00:00:00\", \"2020-01-05T00:00:00\", \"2020-01-13T13:03:55\", \"2020-02-01T17:48:38\", \"2020-03-01T00:00:00\", \"2020-04-30T00:00:00\", \"2020-06-29T00:00:00\", \"2020-08-28T00:00:00\", \"2020-10-27T00:00:00\"], \"y\": [765.7572558174122, 765.7534669803605, 765.7431829940767, 765.7258625961255, 765.7034002050325, 765.6584754228463, 765.6143625343141, 765.5710615394358, 765.5277605445576]}, {\"mode\": \"lines\", \"name\": \"OPM\", \"type\": \"scatter\", \"x\": [\"2020-01-02T00:00:00\", \"2020-01-04T17:56:17\", \"2020-01-12T23:45:10\", \"2020-01-28T13:17:41\", \"2020-03-01T00:00:00\", \"2020-04-30T00:00:00\", \"2020-06-29T00:00:00\", \"2020-08-28T00:00:00\", \"2020-10-27T00:00:00\"], \"y\": [140.32147216796875, 115.89007568359376, 75.92556762695312, 59.56509399414063, 49.7502555847168, 43.81117248535156, 41.23039627075195, 39.975582122802734, 39.33471298217773]}, {\"mode\": \"lines\", \"name\": \"\\u0432\\u0435\\u0440\\u0442\\u0438\\u043a\\u0430\\u043b\\u044c\\u043d\\u0430\\u044f \\u0442\\u0440\\u0435\\u0449\\u0438\\u043d\\u0430\", \"type\": \"scatter\", \"x\": [\"2020-01-02T00:00:00\", \"2020-01-04T17:56:17\", \"2020-01-12T23:45:10\", \"2020-01-28T13:17:41\", \"2020-03-01T00:00:00\", \"2020-04-30T00:00:00\", \"2020-06-29T00:00:00\", \"2020-08-28T00:00:00\", \"2020-10-27T00:00:00\"], \"y\": [765.7564439237582, 765.7545495052324, 765.7431829940767, 765.7280276458695, 765.7006938928525, 765.6536040609225, 765.6078673850823, 765.5624013404603, 765.5174765582742]}, {\"mode\": \"lines\", \"name\": \"OPM\", \"type\": \"scatter\", \"x\": [\"2020-01-02T00:00:00\", \"2020-01-04T16:15:24\", \"2020-01-12T17:01:38\", \"2020-01-28T21:37:52\", \"2020-03-01T00:00:00\", \"2020-04-30T00:00:00\", \"2020-06-29T00:00:00\", \"2020-08-28T00:00:00\", \"2020-10-27T00:00:00\"], \"y\": [170.90809631347656, 120.04627990722656, 78.69319152832031, 61.42144393920898, 51.35020065307617, 45.1581916809082, 42.47291564941406, 41.172096252441406, 40.51408767700195]}, {\"mode\": \"lines\", \"name\": \"\\u0432\\u0435\\u0440\\u0442\\u0438\\u043a\\u0430\\u043b\\u044c\\u043d\\u0430\\u044f \\u0442\\u0440\\u0435\\u0449\\u0438\\u043d\\u0430\", \"type\": \"scatter\", \"x\": [\"2020-01-02T00:00:00\", \"2020-01-04T16:15:24\", \"2020-01-12T17:01:38\", \"2020-01-28T21:37:52\", \"2020-03-01T00:00:00\", \"2020-04-30T00:00:00\", \"2020-06-29T00:00:00\", \"2020-08-28T00:00:00\", \"2020-10-27T00:00:00\"], \"y\": [765.7561732925403, 765.7531963491423, 765.7418298379868, 765.725591964907, 765.6974463182366, 765.6490033302166, 765.6019134982868, 765.5550942975746, 765.5088163592984]}, {\"mode\": \"lines\", \"name\": \"OPM\", \"type\": \"scatter\", \"x\": [\"2020-01-02T00:00:00\", \"2020-01-04T12:39:30\", \"2020-01-12T02:38:02\", \"2020-01-29T08:30:11\", \"2020-03-01T00:00:00\", \"2020-04-30T00:00:00\", \"2020-06-29T00:00:00\", \"2020-08-28T00:00:00\", \"2020-10-27T00:00:00\"], \"y\": [203.6189422607422, 124.0850830078125, 82.00103759765625, 63.3974838256836, 53.0977897644043, 46.639305114746094, 43.84333038330078, 42.50078582763672, 41.82328414916992]}, {\"mode\": \"lines\", \"name\": \"\\u0432\\u0435\\u0440\\u0442\\u0438\\u043a\\u0430\\u043b\\u044c\\u043d\\u0430\\u044f \\u0442\\u0440\\u0435\\u0449\\u0438\\u043d\\u0430\", \"type\": \"scatter\", \"x\": [\"2020-01-02T00:00:00\", \"2020-01-04T12:39:30\", \"2020-01-12T02:38:02\", \"2020-01-29T08:30:11\", \"2020-03-01T00:00:00\", \"2020-04-30T00:00:00\", \"2020-06-29T00:00:00\", \"2020-08-28T00:00:00\", \"2020-10-27T00:00:00\"], \"y\": [765.7553613988863, 765.7513019306165, 765.740476681897, 765.7226150215097, 765.6939281124028, 765.6438613370749, 765.595147717837, 765.5469753610349, 765.498803004233]}],                        {\"template\": {\"data\": {\"bar\": [{\"error_x\": {\"color\": \"#2a3f5f\"}, \"error_y\": {\"color\": \"#2a3f5f\"}, \"marker\": {\"line\": {\"color\": \"#E5ECF6\", \"width\": 0.5}}, \"type\": \"bar\"}], \"barpolar\": [{\"marker\": {\"line\": {\"color\": \"#E5ECF6\", \"width\": 0.5}}, \"type\": \"barpolar\"}], \"carpet\": [{\"aaxis\": {\"endlinecolor\": \"#2a3f5f\", \"gridcolor\": \"white\", \"linecolor\": \"white\", \"minorgridcolor\": \"white\", \"startlinecolor\": \"#2a3f5f\"}, \"baxis\": {\"endlinecolor\": \"#2a3f5f\", \"gridcolor\": \"white\", \"linecolor\": \"white\", \"minorgridcolor\": \"white\", \"startlinecolor\": \"#2a3f5f\"}, \"type\": \"carpet\"}], \"choropleth\": [{\"colorbar\": {\"outlinewidth\": 0, \"ticks\": \"\"}, \"type\": \"choropleth\"}], \"contour\": [{\"colorbar\": {\"outlinewidth\": 0, \"ticks\": \"\"}, \"colorscale\": [[0.0, \"#0d0887\"], [0.1111111111111111, \"#46039f\"], [0.2222222222222222, \"#7201a8\"], [0.3333333333333333, \"#9c179e\"], [0.4444444444444444, \"#bd3786\"], [0.5555555555555556, \"#d8576b\"], [0.6666666666666666, \"#ed7953\"], [0.7777777777777778, \"#fb9f3a\"], [0.8888888888888888, \"#fdca26\"], [1.0, \"#f0f921\"]], \"type\": \"contour\"}], \"contourcarpet\": [{\"colorbar\": {\"outlinewidth\": 0, \"ticks\": \"\"}, \"type\": \"contourcarpet\"}], \"heatmap\": [{\"colorbar\": {\"outlinewidth\": 0, \"ticks\": \"\"}, \"colorscale\": [[0.0, \"#0d0887\"], [0.1111111111111111, \"#46039f\"], [0.2222222222222222, \"#7201a8\"], [0.3333333333333333, \"#9c179e\"], [0.4444444444444444, \"#bd3786\"], [0.5555555555555556, \"#d8576b\"], [0.6666666666666666, \"#ed7953\"], [0.7777777777777778, \"#fb9f3a\"], [0.8888888888888888, \"#fdca26\"], [1.0, \"#f0f921\"]], \"type\": \"heatmap\"}], \"heatmapgl\": [{\"colorbar\": {\"outlinewidth\": 0, \"ticks\": \"\"}, \"colorscale\": [[0.0, \"#0d0887\"], [0.1111111111111111, \"#46039f\"], [0.2222222222222222, \"#7201a8\"], [0.3333333333333333, \"#9c179e\"], [0.4444444444444444, \"#bd3786\"], [0.5555555555555556, \"#d8576b\"], [0.6666666666666666, \"#ed7953\"], [0.7777777777777778, \"#fb9f3a\"], [0.8888888888888888, \"#fdca26\"], [1.0, \"#f0f921\"]], \"type\": \"heatmapgl\"}], \"histogram\": [{\"marker\": {\"colorbar\": {\"outlinewidth\": 0, \"ticks\": \"\"}}, \"type\": \"histogram\"}], \"histogram2d\": [{\"colorbar\": {\"outlinewidth\": 0, \"ticks\": \"\"}, \"colorscale\": [[0.0, \"#0d0887\"], [0.1111111111111111, \"#46039f\"], [0.2222222222222222, \"#7201a8\"], [0.3333333333333333, \"#9c179e\"], [0.4444444444444444, \"#bd3786\"], [0.5555555555555556, \"#d8576b\"], [0.6666666666666666, \"#ed7953\"], [0.7777777777777778, \"#fb9f3a\"], [0.8888888888888888, \"#fdca26\"], [1.0, \"#f0f921\"]], \"type\": \"histogram2d\"}], \"histogram2dcontour\": [{\"colorbar\": {\"outlinewidth\": 0, \"ticks\": \"\"}, \"colorscale\": [[0.0, \"#0d0887\"], [0.1111111111111111, \"#46039f\"], [0.2222222222222222, \"#7201a8\"], [0.3333333333333333, \"#9c179e\"], [0.4444444444444444, \"#bd3786\"], [0.5555555555555556, \"#d8576b\"], [0.6666666666666666, \"#ed7953\"], [0.7777777777777778, \"#fb9f3a\"], [0.8888888888888888, \"#fdca26\"], [1.0, \"#f0f921\"]], \"type\": \"histogram2dcontour\"}], \"mesh3d\": [{\"colorbar\": {\"outlinewidth\": 0, \"ticks\": \"\"}, \"type\": \"mesh3d\"}], \"parcoords\": [{\"line\": {\"colorbar\": {\"outlinewidth\": 0, \"ticks\": \"\"}}, \"type\": \"parcoords\"}], \"pie\": [{\"automargin\": true, \"type\": \"pie\"}], \"scatter\": [{\"marker\": {\"colorbar\": {\"outlinewidth\": 0, \"ticks\": \"\"}}, \"type\": \"scatter\"}], \"scatter3d\": [{\"line\": {\"colorbar\": {\"outlinewidth\": 0, \"ticks\": \"\"}}, \"marker\": {\"colorbar\": {\"outlinewidth\": 0, \"ticks\": \"\"}}, \"type\": \"scatter3d\"}], \"scattercarpet\": [{\"marker\": {\"colorbar\": {\"outlinewidth\": 0, \"ticks\": \"\"}}, \"type\": \"scattercarpet\"}], \"scattergeo\": [{\"marker\": {\"colorbar\": {\"outlinewidth\": 0, \"ticks\": \"\"}}, \"type\": \"scattergeo\"}], \"scattergl\": [{\"marker\": {\"colorbar\": {\"outlinewidth\": 0, \"ticks\": \"\"}}, \"type\": \"scattergl\"}], \"scattermapbox\": [{\"marker\": {\"colorbar\": {\"outlinewidth\": 0, \"ticks\": \"\"}}, \"type\": \"scattermapbox\"}], \"scatterpolar\": [{\"marker\": {\"colorbar\": {\"outlinewidth\": 0, \"ticks\": \"\"}}, \"type\": \"scatterpolar\"}], \"scatterpolargl\": [{\"marker\": {\"colorbar\": {\"outlinewidth\": 0, \"ticks\": \"\"}}, \"type\": \"scatterpolargl\"}], \"scatterternary\": [{\"marker\": {\"colorbar\": {\"outlinewidth\": 0, \"ticks\": \"\"}}, \"type\": \"scatterternary\"}], \"surface\": [{\"colorbar\": {\"outlinewidth\": 0, \"ticks\": \"\"}, \"colorscale\": [[0.0, \"#0d0887\"], [0.1111111111111111, \"#46039f\"], [0.2222222222222222, \"#7201a8\"], [0.3333333333333333, \"#9c179e\"], [0.4444444444444444, \"#bd3786\"], [0.5555555555555556, \"#d8576b\"], [0.6666666666666666, \"#ed7953\"], [0.7777777777777778, \"#fb9f3a\"], [0.8888888888888888, \"#fdca26\"], [1.0, \"#f0f921\"]], \"type\": \"surface\"}], \"table\": [{\"cells\": {\"fill\": {\"color\": \"#EBF0F8\"}, \"line\": {\"color\": \"white\"}}, \"header\": {\"fill\": {\"color\": \"#C8D4E3\"}, \"line\": {\"color\": \"white\"}}, \"type\": \"table\"}]}, \"layout\": {\"annotationdefaults\": {\"arrowcolor\": \"#2a3f5f\", \"arrowhead\": 0, \"arrowwidth\": 1}, \"autotypenumbers\": \"strict\", \"coloraxis\": {\"colorbar\": {\"outlinewidth\": 0, \"ticks\": \"\"}}, \"colorscale\": {\"diverging\": [[0, \"#8e0152\"], [0.1, \"#c51b7d\"], [0.2, \"#de77ae\"], [0.3, \"#f1b6da\"], [0.4, \"#fde0ef\"], [0.5, \"#f7f7f7\"], [0.6, \"#e6f5d0\"], [0.7, \"#b8e186\"], [0.8, \"#7fbc41\"], [0.9, \"#4d9221\"], [1, \"#276419\"]], \"sequential\": [[0.0, \"#0d0887\"], [0.1111111111111111, \"#46039f\"], [0.2222222222222222, \"#7201a8\"], [0.3333333333333333, \"#9c179e\"], [0.4444444444444444, \"#bd3786\"], [0.5555555555555556, \"#d8576b\"], [0.6666666666666666, \"#ed7953\"], [0.7777777777777778, \"#fb9f3a\"], [0.8888888888888888, \"#fdca26\"], [1.0, \"#f0f921\"]], \"sequentialminus\": [[0.0, \"#0d0887\"], [0.1111111111111111, \"#46039f\"], [0.2222222222222222, \"#7201a8\"], [0.3333333333333333, \"#9c179e\"], [0.4444444444444444, \"#bd3786\"], [0.5555555555555556, \"#d8576b\"], [0.6666666666666666, \"#ed7953\"], [0.7777777777777778, \"#fb9f3a\"], [0.8888888888888888, \"#fdca26\"], [1.0, \"#f0f921\"]]}, \"colorway\": [\"#636efa\", \"#EF553B\", \"#00cc96\", \"#ab63fa\", \"#FFA15A\", \"#19d3f3\", \"#FF6692\", \"#B6E880\", \"#FF97FF\", \"#FECB52\"], \"font\": {\"color\": \"#2a3f5f\"}, \"geo\": {\"bgcolor\": \"white\", \"lakecolor\": \"white\", \"landcolor\": \"#E5ECF6\", \"showlakes\": true, \"showland\": true, \"subunitcolor\": \"white\"}, \"hoverlabel\": {\"align\": \"left\"}, \"hovermode\": \"closest\", \"mapbox\": {\"style\": \"light\"}, \"paper_bgcolor\": \"white\", \"plot_bgcolor\": \"#E5ECF6\", \"polar\": {\"angularaxis\": {\"gridcolor\": \"white\", \"linecolor\": \"white\", \"ticks\": \"\"}, \"bgcolor\": \"#E5ECF6\", \"radialaxis\": {\"gridcolor\": \"white\", \"linecolor\": \"white\", \"ticks\": \"\"}}, \"scene\": {\"xaxis\": {\"backgroundcolor\": \"#E5ECF6\", \"gridcolor\": \"white\", \"gridwidth\": 2, \"linecolor\": \"white\", \"showbackground\": true, \"ticks\": \"\", \"zerolinecolor\": \"white\"}, \"yaxis\": {\"backgroundcolor\": \"#E5ECF6\", \"gridcolor\": \"white\", \"gridwidth\": 2, \"linecolor\": \"white\", \"showbackground\": true, \"ticks\": \"\", \"zerolinecolor\": \"white\"}, \"zaxis\": {\"backgroundcolor\": \"#E5ECF6\", \"gridcolor\": \"white\", \"gridwidth\": 2, \"linecolor\": \"white\", \"showbackground\": true, \"ticks\": \"\", \"zerolinecolor\": \"white\"}}, \"shapedefaults\": {\"line\": {\"color\": \"#2a3f5f\"}}, \"ternary\": {\"aaxis\": {\"gridcolor\": \"white\", \"linecolor\": \"white\", \"ticks\": \"\"}, \"baxis\": {\"gridcolor\": \"white\", \"linecolor\": \"white\", \"ticks\": \"\"}, \"bgcolor\": \"#E5ECF6\", \"caxis\": {\"gridcolor\": \"white\", \"linecolor\": \"white\", \"ticks\": \"\"}}, \"title\": {\"x\": 0.05}, \"xaxis\": {\"automargin\": true, \"gridcolor\": \"white\", \"linecolor\": \"white\", \"ticks\": \"\", \"title\": {\"standoff\": 15}, \"zerolinecolor\": \"white\", \"zerolinewidth\": 2}, \"yaxis\": {\"automargin\": true, \"gridcolor\": \"white\", \"linecolor\": \"white\", \"ticks\": \"\", \"title\": {\"standoff\": 15}, \"zerolinecolor\": \"white\", \"zerolinewidth\": 2}}}, \"title\": {\"text\": \" \\u0433\\u043e\\u0440\\u0438\\u0437\\u043e\\u043d\\u0442\\u0430\\u043b\\u044c\\u043d\\u0430\\u044f \\u043f\\u0440\\u043e\\u043d\\u0438\\u0446\\u0430\\u0435\\u043c\\u043e\\u0441\\u0442\\u044c - 5 \\u043c\\u0414; \\u0430\\u043d\\u0438\\u0437\\u043e\\u0442\\u0440\\u043e\\u043f\\u0438\\u044f - 0.5\"}, \"xaxis\": {\"tickformat\": \"%d.%m.%y\", \"title\": {\"text\": \"\\u0414\\u0430\\u0442\\u0430\"}}, \"yaxis\": {\"title\": {\"text\": \"Q\\u0436, \\u043c3/\\u0441\\u0443\\u0442\"}}},                        {\"responsive\": true}                    ).then(function(){\n",
       "                            \n",
       "var gd = document.getElementById('5d0f3e67-d1ff-493b-b031-2ffd40a5a0a9');\n",
       "var x = new MutationObserver(function (mutations, observer) {{\n",
       "        var display = window.getComputedStyle(gd).display;\n",
       "        if (!display || display === 'none') {{\n",
       "            console.log([gd, 'removed!']);\n",
       "            Plotly.purge(gd);\n",
       "            observer.disconnect();\n",
       "        }}\n",
       "}});\n",
       "\n",
       "// Listen for the removal of the full notebook cells\n",
       "var notebookContainer = gd.closest('#notebook-container');\n",
       "if (notebookContainer) {{\n",
       "    x.observe(notebookContainer, {childList: true});\n",
       "}}\n",
       "\n",
       "// Listen for the clearing of the current output cell\n",
       "var outputEl = gd.closest('.output');\n",
       "if (outputEl) {{\n",
       "    x.observe(outputEl, {childList: true});\n",
       "}}\n",
       "\n",
       "                        })                };                });            </script>        </div>"
      ]
     },
     "metadata": {},
     "output_type": "display_data"
    },
    {
     "data": {
      "application/vnd.plotly.v1+json": {
       "config": {
        "linkText": "Export to plot.ly",
        "plotlyServerURL": "https://plot.ly",
        "showLink": false
       },
       "data": [
        {
         "mode": "lines",
         "name": "OPM",
         "type": "scatter",
         "x": [
          "2020-01-02T00:00:00",
          "2020-01-05T00:00:00",
          "2020-01-13T13:03:55",
          "2020-02-01T17:48:38",
          "2020-03-01T00:00:00",
          "2020-04-30T00:00:00",
          "2020-06-29T00:00:00",
          "2020-08-28T00:00:00",
          "2020-10-27T00:00:00"
         ],
         "y": [
          131.44386291503906,
          92.9864273071289,
          68.52416229248047,
          54.20751953125,
          47.13592529296875,
          41.8604850769043,
          39.51884460449219,
          38.36334609985352,
          37.76805877685547
         ]
        },
        {
         "mode": "lines",
         "name": "вертикальная трещина",
         "type": "scatter",
         "x": [
          "2020-01-02T00:00:00",
          "2020-01-05T00:00:00",
          "2020-01-13T13:03:55",
          "2020-02-01T17:48:38",
          "2020-03-01T00:00:00",
          "2020-04-30T00:00:00",
          "2020-06-29T00:00:00",
          "2020-08-28T00:00:00",
          "2020-10-27T00:00:00"
         ],
         "y": [
          765.7572558174122,
          765.7534669803605,
          765.7431829940767,
          765.7258625961255,
          765.7034002050325,
          765.6584754228463,
          765.6143625343141,
          765.5710615394358,
          765.5277605445576
         ]
        },
        {
         "mode": "lines",
         "name": "OPM",
         "type": "scatter",
         "x": [
          "2020-01-02T00:00:00",
          "2020-01-04T17:56:17",
          "2020-01-12T23:45:10",
          "2020-01-28T13:17:41",
          "2020-03-01T00:00:00",
          "2020-04-30T00:00:00",
          "2020-06-29T00:00:00",
          "2020-08-28T00:00:00",
          "2020-10-27T00:00:00"
         ],
         "y": [
          140.32147216796875,
          115.89007568359376,
          75.92556762695312,
          59.56509399414063,
          49.7502555847168,
          43.81117248535156,
          41.23039627075195,
          39.975582122802734,
          39.33471298217773
         ]
        },
        {
         "mode": "lines",
         "name": "вертикальная трещина",
         "type": "scatter",
         "x": [
          "2020-01-02T00:00:00",
          "2020-01-04T17:56:17",
          "2020-01-12T23:45:10",
          "2020-01-28T13:17:41",
          "2020-03-01T00:00:00",
          "2020-04-30T00:00:00",
          "2020-06-29T00:00:00",
          "2020-08-28T00:00:00",
          "2020-10-27T00:00:00"
         ],
         "y": [
          765.7564439237582,
          765.7545495052324,
          765.7431829940767,
          765.7280276458695,
          765.7006938928525,
          765.6536040609225,
          765.6078673850823,
          765.5624013404603,
          765.5174765582742
         ]
        },
        {
         "mode": "lines",
         "name": "OPM",
         "type": "scatter",
         "x": [
          "2020-01-02T00:00:00",
          "2020-01-04T16:15:24",
          "2020-01-12T17:01:38",
          "2020-01-28T21:37:52",
          "2020-03-01T00:00:00",
          "2020-04-30T00:00:00",
          "2020-06-29T00:00:00",
          "2020-08-28T00:00:00",
          "2020-10-27T00:00:00"
         ],
         "y": [
          170.90809631347656,
          120.04627990722656,
          78.69319152832031,
          61.42144393920898,
          51.35020065307617,
          45.1581916809082,
          42.47291564941406,
          41.172096252441406,
          40.51408767700195
         ]
        },
        {
         "mode": "lines",
         "name": "вертикальная трещина",
         "type": "scatter",
         "x": [
          "2020-01-02T00:00:00",
          "2020-01-04T16:15:24",
          "2020-01-12T17:01:38",
          "2020-01-28T21:37:52",
          "2020-03-01T00:00:00",
          "2020-04-30T00:00:00",
          "2020-06-29T00:00:00",
          "2020-08-28T00:00:00",
          "2020-10-27T00:00:00"
         ],
         "y": [
          765.7561732925403,
          765.7531963491423,
          765.7418298379868,
          765.725591964907,
          765.6974463182366,
          765.6490033302166,
          765.6019134982868,
          765.5550942975746,
          765.5088163592984
         ]
        },
        {
         "mode": "lines",
         "name": "OPM",
         "type": "scatter",
         "x": [
          "2020-01-02T00:00:00",
          "2020-01-04T12:39:30",
          "2020-01-12T02:38:02",
          "2020-01-29T08:30:11",
          "2020-03-01T00:00:00",
          "2020-04-30T00:00:00",
          "2020-06-29T00:00:00",
          "2020-08-28T00:00:00",
          "2020-10-27T00:00:00"
         ],
         "y": [
          203.6189422607422,
          124.0850830078125,
          82.00103759765625,
          63.3974838256836,
          53.0977897644043,
          46.639305114746094,
          43.84333038330078,
          42.50078582763672,
          41.82328414916992
         ]
        },
        {
         "mode": "lines",
         "name": "вертикальная трещина",
         "type": "scatter",
         "x": [
          "2020-01-02T00:00:00",
          "2020-01-04T12:39:30",
          "2020-01-12T02:38:02",
          "2020-01-29T08:30:11",
          "2020-03-01T00:00:00",
          "2020-04-30T00:00:00",
          "2020-06-29T00:00:00",
          "2020-08-28T00:00:00",
          "2020-10-27T00:00:00"
         ],
         "y": [
          765.7553613988863,
          765.7513019306165,
          765.740476681897,
          765.7226150215097,
          765.6939281124028,
          765.6438613370749,
          765.595147717837,
          765.5469753610349,
          765.498803004233
         ]
        }
       ],
       "layout": {
        "template": {
         "data": {
          "bar": [
           {
            "error_x": {
             "color": "#2a3f5f"
            },
            "error_y": {
             "color": "#2a3f5f"
            },
            "marker": {
             "line": {
              "color": "#E5ECF6",
              "width": 0.5
             }
            },
            "type": "bar"
           }
          ],
          "barpolar": [
           {
            "marker": {
             "line": {
              "color": "#E5ECF6",
              "width": 0.5
             }
            },
            "type": "barpolar"
           }
          ],
          "carpet": [
           {
            "aaxis": {
             "endlinecolor": "#2a3f5f",
             "gridcolor": "white",
             "linecolor": "white",
             "minorgridcolor": "white",
             "startlinecolor": "#2a3f5f"
            },
            "baxis": {
             "endlinecolor": "#2a3f5f",
             "gridcolor": "white",
             "linecolor": "white",
             "minorgridcolor": "white",
             "startlinecolor": "#2a3f5f"
            },
            "type": "carpet"
           }
          ],
          "choropleth": [
           {
            "colorbar": {
             "outlinewidth": 0,
             "ticks": ""
            },
            "type": "choropleth"
           }
          ],
          "contour": [
           {
            "colorbar": {
             "outlinewidth": 0,
             "ticks": ""
            },
            "colorscale": [
             [
              0,
              "#0d0887"
             ],
             [
              0.1111111111111111,
              "#46039f"
             ],
             [
              0.2222222222222222,
              "#7201a8"
             ],
             [
              0.3333333333333333,
              "#9c179e"
             ],
             [
              0.4444444444444444,
              "#bd3786"
             ],
             [
              0.5555555555555556,
              "#d8576b"
             ],
             [
              0.6666666666666666,
              "#ed7953"
             ],
             [
              0.7777777777777778,
              "#fb9f3a"
             ],
             [
              0.8888888888888888,
              "#fdca26"
             ],
             [
              1,
              "#f0f921"
             ]
            ],
            "type": "contour"
           }
          ],
          "contourcarpet": [
           {
            "colorbar": {
             "outlinewidth": 0,
             "ticks": ""
            },
            "type": "contourcarpet"
           }
          ],
          "heatmap": [
           {
            "colorbar": {
             "outlinewidth": 0,
             "ticks": ""
            },
            "colorscale": [
             [
              0,
              "#0d0887"
             ],
             [
              0.1111111111111111,
              "#46039f"
             ],
             [
              0.2222222222222222,
              "#7201a8"
             ],
             [
              0.3333333333333333,
              "#9c179e"
             ],
             [
              0.4444444444444444,
              "#bd3786"
             ],
             [
              0.5555555555555556,
              "#d8576b"
             ],
             [
              0.6666666666666666,
              "#ed7953"
             ],
             [
              0.7777777777777778,
              "#fb9f3a"
             ],
             [
              0.8888888888888888,
              "#fdca26"
             ],
             [
              1,
              "#f0f921"
             ]
            ],
            "type": "heatmap"
           }
          ],
          "heatmapgl": [
           {
            "colorbar": {
             "outlinewidth": 0,
             "ticks": ""
            },
            "colorscale": [
             [
              0,
              "#0d0887"
             ],
             [
              0.1111111111111111,
              "#46039f"
             ],
             [
              0.2222222222222222,
              "#7201a8"
             ],
             [
              0.3333333333333333,
              "#9c179e"
             ],
             [
              0.4444444444444444,
              "#bd3786"
             ],
             [
              0.5555555555555556,
              "#d8576b"
             ],
             [
              0.6666666666666666,
              "#ed7953"
             ],
             [
              0.7777777777777778,
              "#fb9f3a"
             ],
             [
              0.8888888888888888,
              "#fdca26"
             ],
             [
              1,
              "#f0f921"
             ]
            ],
            "type": "heatmapgl"
           }
          ],
          "histogram": [
           {
            "marker": {
             "colorbar": {
              "outlinewidth": 0,
              "ticks": ""
             }
            },
            "type": "histogram"
           }
          ],
          "histogram2d": [
           {
            "colorbar": {
             "outlinewidth": 0,
             "ticks": ""
            },
            "colorscale": [
             [
              0,
              "#0d0887"
             ],
             [
              0.1111111111111111,
              "#46039f"
             ],
             [
              0.2222222222222222,
              "#7201a8"
             ],
             [
              0.3333333333333333,
              "#9c179e"
             ],
             [
              0.4444444444444444,
              "#bd3786"
             ],
             [
              0.5555555555555556,
              "#d8576b"
             ],
             [
              0.6666666666666666,
              "#ed7953"
             ],
             [
              0.7777777777777778,
              "#fb9f3a"
             ],
             [
              0.8888888888888888,
              "#fdca26"
             ],
             [
              1,
              "#f0f921"
             ]
            ],
            "type": "histogram2d"
           }
          ],
          "histogram2dcontour": [
           {
            "colorbar": {
             "outlinewidth": 0,
             "ticks": ""
            },
            "colorscale": [
             [
              0,
              "#0d0887"
             ],
             [
              0.1111111111111111,
              "#46039f"
             ],
             [
              0.2222222222222222,
              "#7201a8"
             ],
             [
              0.3333333333333333,
              "#9c179e"
             ],
             [
              0.4444444444444444,
              "#bd3786"
             ],
             [
              0.5555555555555556,
              "#d8576b"
             ],
             [
              0.6666666666666666,
              "#ed7953"
             ],
             [
              0.7777777777777778,
              "#fb9f3a"
             ],
             [
              0.8888888888888888,
              "#fdca26"
             ],
             [
              1,
              "#f0f921"
             ]
            ],
            "type": "histogram2dcontour"
           }
          ],
          "mesh3d": [
           {
            "colorbar": {
             "outlinewidth": 0,
             "ticks": ""
            },
            "type": "mesh3d"
           }
          ],
          "parcoords": [
           {
            "line": {
             "colorbar": {
              "outlinewidth": 0,
              "ticks": ""
             }
            },
            "type": "parcoords"
           }
          ],
          "pie": [
           {
            "automargin": true,
            "type": "pie"
           }
          ],
          "scatter": [
           {
            "marker": {
             "colorbar": {
              "outlinewidth": 0,
              "ticks": ""
             }
            },
            "type": "scatter"
           }
          ],
          "scatter3d": [
           {
            "line": {
             "colorbar": {
              "outlinewidth": 0,
              "ticks": ""
             }
            },
            "marker": {
             "colorbar": {
              "outlinewidth": 0,
              "ticks": ""
             }
            },
            "type": "scatter3d"
           }
          ],
          "scattercarpet": [
           {
            "marker": {
             "colorbar": {
              "outlinewidth": 0,
              "ticks": ""
             }
            },
            "type": "scattercarpet"
           }
          ],
          "scattergeo": [
           {
            "marker": {
             "colorbar": {
              "outlinewidth": 0,
              "ticks": ""
             }
            },
            "type": "scattergeo"
           }
          ],
          "scattergl": [
           {
            "marker": {
             "colorbar": {
              "outlinewidth": 0,
              "ticks": ""
             }
            },
            "type": "scattergl"
           }
          ],
          "scattermapbox": [
           {
            "marker": {
             "colorbar": {
              "outlinewidth": 0,
              "ticks": ""
             }
            },
            "type": "scattermapbox"
           }
          ],
          "scatterpolar": [
           {
            "marker": {
             "colorbar": {
              "outlinewidth": 0,
              "ticks": ""
             }
            },
            "type": "scatterpolar"
           }
          ],
          "scatterpolargl": [
           {
            "marker": {
             "colorbar": {
              "outlinewidth": 0,
              "ticks": ""
             }
            },
            "type": "scatterpolargl"
           }
          ],
          "scatterternary": [
           {
            "marker": {
             "colorbar": {
              "outlinewidth": 0,
              "ticks": ""
             }
            },
            "type": "scatterternary"
           }
          ],
          "surface": [
           {
            "colorbar": {
             "outlinewidth": 0,
             "ticks": ""
            },
            "colorscale": [
             [
              0,
              "#0d0887"
             ],
             [
              0.1111111111111111,
              "#46039f"
             ],
             [
              0.2222222222222222,
              "#7201a8"
             ],
             [
              0.3333333333333333,
              "#9c179e"
             ],
             [
              0.4444444444444444,
              "#bd3786"
             ],
             [
              0.5555555555555556,
              "#d8576b"
             ],
             [
              0.6666666666666666,
              "#ed7953"
             ],
             [
              0.7777777777777778,
              "#fb9f3a"
             ],
             [
              0.8888888888888888,
              "#fdca26"
             ],
             [
              1,
              "#f0f921"
             ]
            ],
            "type": "surface"
           }
          ],
          "table": [
           {
            "cells": {
             "fill": {
              "color": "#EBF0F8"
             },
             "line": {
              "color": "white"
             }
            },
            "header": {
             "fill": {
              "color": "#C8D4E3"
             },
             "line": {
              "color": "white"
             }
            },
            "type": "table"
           }
          ]
         },
         "layout": {
          "annotationdefaults": {
           "arrowcolor": "#2a3f5f",
           "arrowhead": 0,
           "arrowwidth": 1
          },
          "autotypenumbers": "strict",
          "coloraxis": {
           "colorbar": {
            "outlinewidth": 0,
            "ticks": ""
           }
          },
          "colorscale": {
           "diverging": [
            [
             0,
             "#8e0152"
            ],
            [
             0.1,
             "#c51b7d"
            ],
            [
             0.2,
             "#de77ae"
            ],
            [
             0.3,
             "#f1b6da"
            ],
            [
             0.4,
             "#fde0ef"
            ],
            [
             0.5,
             "#f7f7f7"
            ],
            [
             0.6,
             "#e6f5d0"
            ],
            [
             0.7,
             "#b8e186"
            ],
            [
             0.8,
             "#7fbc41"
            ],
            [
             0.9,
             "#4d9221"
            ],
            [
             1,
             "#276419"
            ]
           ],
           "sequential": [
            [
             0,
             "#0d0887"
            ],
            [
             0.1111111111111111,
             "#46039f"
            ],
            [
             0.2222222222222222,
             "#7201a8"
            ],
            [
             0.3333333333333333,
             "#9c179e"
            ],
            [
             0.4444444444444444,
             "#bd3786"
            ],
            [
             0.5555555555555556,
             "#d8576b"
            ],
            [
             0.6666666666666666,
             "#ed7953"
            ],
            [
             0.7777777777777778,
             "#fb9f3a"
            ],
            [
             0.8888888888888888,
             "#fdca26"
            ],
            [
             1,
             "#f0f921"
            ]
           ],
           "sequentialminus": [
            [
             0,
             "#0d0887"
            ],
            [
             0.1111111111111111,
             "#46039f"
            ],
            [
             0.2222222222222222,
             "#7201a8"
            ],
            [
             0.3333333333333333,
             "#9c179e"
            ],
            [
             0.4444444444444444,
             "#bd3786"
            ],
            [
             0.5555555555555556,
             "#d8576b"
            ],
            [
             0.6666666666666666,
             "#ed7953"
            ],
            [
             0.7777777777777778,
             "#fb9f3a"
            ],
            [
             0.8888888888888888,
             "#fdca26"
            ],
            [
             1,
             "#f0f921"
            ]
           ]
          },
          "colorway": [
           "#636efa",
           "#EF553B",
           "#00cc96",
           "#ab63fa",
           "#FFA15A",
           "#19d3f3",
           "#FF6692",
           "#B6E880",
           "#FF97FF",
           "#FECB52"
          ],
          "font": {
           "color": "#2a3f5f"
          },
          "geo": {
           "bgcolor": "white",
           "lakecolor": "white",
           "landcolor": "#E5ECF6",
           "showlakes": true,
           "showland": true,
           "subunitcolor": "white"
          },
          "hoverlabel": {
           "align": "left"
          },
          "hovermode": "closest",
          "mapbox": {
           "style": "light"
          },
          "paper_bgcolor": "white",
          "plot_bgcolor": "#E5ECF6",
          "polar": {
           "angularaxis": {
            "gridcolor": "white",
            "linecolor": "white",
            "ticks": ""
           },
           "bgcolor": "#E5ECF6",
           "radialaxis": {
            "gridcolor": "white",
            "linecolor": "white",
            "ticks": ""
           }
          },
          "scene": {
           "xaxis": {
            "backgroundcolor": "#E5ECF6",
            "gridcolor": "white",
            "gridwidth": 2,
            "linecolor": "white",
            "showbackground": true,
            "ticks": "",
            "zerolinecolor": "white"
           },
           "yaxis": {
            "backgroundcolor": "#E5ECF6",
            "gridcolor": "white",
            "gridwidth": 2,
            "linecolor": "white",
            "showbackground": true,
            "ticks": "",
            "zerolinecolor": "white"
           },
           "zaxis": {
            "backgroundcolor": "#E5ECF6",
            "gridcolor": "white",
            "gridwidth": 2,
            "linecolor": "white",
            "showbackground": true,
            "ticks": "",
            "zerolinecolor": "white"
           }
          },
          "shapedefaults": {
           "line": {
            "color": "#2a3f5f"
           }
          },
          "ternary": {
           "aaxis": {
            "gridcolor": "white",
            "linecolor": "white",
            "ticks": ""
           },
           "baxis": {
            "gridcolor": "white",
            "linecolor": "white",
            "ticks": ""
           },
           "bgcolor": "#E5ECF6",
           "caxis": {
            "gridcolor": "white",
            "linecolor": "white",
            "ticks": ""
           }
          },
          "title": {
           "x": 0.05
          },
          "xaxis": {
           "automargin": true,
           "gridcolor": "white",
           "linecolor": "white",
           "ticks": "",
           "title": {
            "standoff": 15
           },
           "zerolinecolor": "white",
           "zerolinewidth": 2
          },
          "yaxis": {
           "automargin": true,
           "gridcolor": "white",
           "linecolor": "white",
           "ticks": "",
           "title": {
            "standoff": 15
           },
           "zerolinecolor": "white",
           "zerolinewidth": 2
          }
         }
        },
        "title": {
         "text": " горизонтальная проницаемость - 5 мД; анизотропия - 0.5"
        },
        "xaxis": {
         "tickformat": "%d.%m.%y",
         "title": {
          "text": "Дата"
         }
        },
        "yaxis": {
         "title": {
          "text": "Qж, м3/сут"
         }
        }
       }
      },
      "text/html": [
       "<div>                            <div id=\"5ca4977d-aaee-4308-a3ea-ceba2d889ff8\" class=\"plotly-graph-div\" style=\"height:525px; width:100%;\"></div>            <script type=\"text/javascript\">                require([\"plotly\"], function(Plotly) {                    window.PLOTLYENV=window.PLOTLYENV || {};                                    if (document.getElementById(\"5ca4977d-aaee-4308-a3ea-ceba2d889ff8\")) {                    Plotly.newPlot(                        \"5ca4977d-aaee-4308-a3ea-ceba2d889ff8\",                        [{\"mode\": \"lines\", \"name\": \"OPM\", \"type\": \"scatter\", \"x\": [\"2020-01-02T00:00:00\", \"2020-01-05T00:00:00\", \"2020-01-13T13:03:55\", \"2020-02-01T17:48:38\", \"2020-03-01T00:00:00\", \"2020-04-30T00:00:00\", \"2020-06-29T00:00:00\", \"2020-08-28T00:00:00\", \"2020-10-27T00:00:00\"], \"y\": [131.44386291503906, 92.9864273071289, 68.52416229248047, 54.20751953125, 47.13592529296875, 41.8604850769043, 39.51884460449219, 38.36334609985352, 37.76805877685547]}, {\"mode\": \"lines\", \"name\": \"\\u0432\\u0435\\u0440\\u0442\\u0438\\u043a\\u0430\\u043b\\u044c\\u043d\\u0430\\u044f \\u0442\\u0440\\u0435\\u0449\\u0438\\u043d\\u0430\", \"type\": \"scatter\", \"x\": [\"2020-01-02T00:00:00\", \"2020-01-05T00:00:00\", \"2020-01-13T13:03:55\", \"2020-02-01T17:48:38\", \"2020-03-01T00:00:00\", \"2020-04-30T00:00:00\", \"2020-06-29T00:00:00\", \"2020-08-28T00:00:00\", \"2020-10-27T00:00:00\"], \"y\": [765.7572558174122, 765.7534669803605, 765.7431829940767, 765.7258625961255, 765.7034002050325, 765.6584754228463, 765.6143625343141, 765.5710615394358, 765.5277605445576]}, {\"mode\": \"lines\", \"name\": \"OPM\", \"type\": \"scatter\", \"x\": [\"2020-01-02T00:00:00\", \"2020-01-04T17:56:17\", \"2020-01-12T23:45:10\", \"2020-01-28T13:17:41\", \"2020-03-01T00:00:00\", \"2020-04-30T00:00:00\", \"2020-06-29T00:00:00\", \"2020-08-28T00:00:00\", \"2020-10-27T00:00:00\"], \"y\": [140.32147216796875, 115.89007568359376, 75.92556762695312, 59.56509399414063, 49.7502555847168, 43.81117248535156, 41.23039627075195, 39.975582122802734, 39.33471298217773]}, {\"mode\": \"lines\", \"name\": \"\\u0432\\u0435\\u0440\\u0442\\u0438\\u043a\\u0430\\u043b\\u044c\\u043d\\u0430\\u044f \\u0442\\u0440\\u0435\\u0449\\u0438\\u043d\\u0430\", \"type\": \"scatter\", \"x\": [\"2020-01-02T00:00:00\", \"2020-01-04T17:56:17\", \"2020-01-12T23:45:10\", \"2020-01-28T13:17:41\", \"2020-03-01T00:00:00\", \"2020-04-30T00:00:00\", \"2020-06-29T00:00:00\", \"2020-08-28T00:00:00\", \"2020-10-27T00:00:00\"], \"y\": [765.7564439237582, 765.7545495052324, 765.7431829940767, 765.7280276458695, 765.7006938928525, 765.6536040609225, 765.6078673850823, 765.5624013404603, 765.5174765582742]}, {\"mode\": \"lines\", \"name\": \"OPM\", \"type\": \"scatter\", \"x\": [\"2020-01-02T00:00:00\", \"2020-01-04T16:15:24\", \"2020-01-12T17:01:38\", \"2020-01-28T21:37:52\", \"2020-03-01T00:00:00\", \"2020-04-30T00:00:00\", \"2020-06-29T00:00:00\", \"2020-08-28T00:00:00\", \"2020-10-27T00:00:00\"], \"y\": [170.90809631347656, 120.04627990722656, 78.69319152832031, 61.42144393920898, 51.35020065307617, 45.1581916809082, 42.47291564941406, 41.172096252441406, 40.51408767700195]}, {\"mode\": \"lines\", \"name\": \"\\u0432\\u0435\\u0440\\u0442\\u0438\\u043a\\u0430\\u043b\\u044c\\u043d\\u0430\\u044f \\u0442\\u0440\\u0435\\u0449\\u0438\\u043d\\u0430\", \"type\": \"scatter\", \"x\": [\"2020-01-02T00:00:00\", \"2020-01-04T16:15:24\", \"2020-01-12T17:01:38\", \"2020-01-28T21:37:52\", \"2020-03-01T00:00:00\", \"2020-04-30T00:00:00\", \"2020-06-29T00:00:00\", \"2020-08-28T00:00:00\", \"2020-10-27T00:00:00\"], \"y\": [765.7561732925403, 765.7531963491423, 765.7418298379868, 765.725591964907, 765.6974463182366, 765.6490033302166, 765.6019134982868, 765.5550942975746, 765.5088163592984]}, {\"mode\": \"lines\", \"name\": \"OPM\", \"type\": \"scatter\", \"x\": [\"2020-01-02T00:00:00\", \"2020-01-04T12:39:30\", \"2020-01-12T02:38:02\", \"2020-01-29T08:30:11\", \"2020-03-01T00:00:00\", \"2020-04-30T00:00:00\", \"2020-06-29T00:00:00\", \"2020-08-28T00:00:00\", \"2020-10-27T00:00:00\"], \"y\": [203.6189422607422, 124.0850830078125, 82.00103759765625, 63.3974838256836, 53.0977897644043, 46.639305114746094, 43.84333038330078, 42.50078582763672, 41.82328414916992]}, {\"mode\": \"lines\", \"name\": \"\\u0432\\u0435\\u0440\\u0442\\u0438\\u043a\\u0430\\u043b\\u044c\\u043d\\u0430\\u044f \\u0442\\u0440\\u0435\\u0449\\u0438\\u043d\\u0430\", \"type\": \"scatter\", \"x\": [\"2020-01-02T00:00:00\", \"2020-01-04T12:39:30\", \"2020-01-12T02:38:02\", \"2020-01-29T08:30:11\", \"2020-03-01T00:00:00\", \"2020-04-30T00:00:00\", \"2020-06-29T00:00:00\", \"2020-08-28T00:00:00\", \"2020-10-27T00:00:00\"], \"y\": [765.7553613988863, 765.7513019306165, 765.740476681897, 765.7226150215097, 765.6939281124028, 765.6438613370749, 765.595147717837, 765.5469753610349, 765.498803004233]}],                        {\"template\": {\"data\": {\"bar\": [{\"error_x\": {\"color\": \"#2a3f5f\"}, \"error_y\": {\"color\": \"#2a3f5f\"}, \"marker\": {\"line\": {\"color\": \"#E5ECF6\", \"width\": 0.5}}, \"type\": \"bar\"}], \"barpolar\": [{\"marker\": {\"line\": {\"color\": \"#E5ECF6\", \"width\": 0.5}}, \"type\": \"barpolar\"}], \"carpet\": [{\"aaxis\": {\"endlinecolor\": \"#2a3f5f\", \"gridcolor\": \"white\", \"linecolor\": \"white\", \"minorgridcolor\": \"white\", \"startlinecolor\": \"#2a3f5f\"}, \"baxis\": {\"endlinecolor\": \"#2a3f5f\", \"gridcolor\": \"white\", \"linecolor\": \"white\", \"minorgridcolor\": \"white\", \"startlinecolor\": \"#2a3f5f\"}, \"type\": \"carpet\"}], \"choropleth\": [{\"colorbar\": {\"outlinewidth\": 0, \"ticks\": \"\"}, \"type\": \"choropleth\"}], \"contour\": [{\"colorbar\": {\"outlinewidth\": 0, \"ticks\": \"\"}, \"colorscale\": [[0.0, \"#0d0887\"], [0.1111111111111111, \"#46039f\"], [0.2222222222222222, \"#7201a8\"], [0.3333333333333333, \"#9c179e\"], [0.4444444444444444, \"#bd3786\"], [0.5555555555555556, \"#d8576b\"], [0.6666666666666666, \"#ed7953\"], [0.7777777777777778, \"#fb9f3a\"], [0.8888888888888888, \"#fdca26\"], [1.0, \"#f0f921\"]], \"type\": \"contour\"}], \"contourcarpet\": [{\"colorbar\": {\"outlinewidth\": 0, \"ticks\": \"\"}, \"type\": \"contourcarpet\"}], \"heatmap\": [{\"colorbar\": {\"outlinewidth\": 0, \"ticks\": \"\"}, \"colorscale\": [[0.0, \"#0d0887\"], [0.1111111111111111, \"#46039f\"], [0.2222222222222222, \"#7201a8\"], [0.3333333333333333, \"#9c179e\"], [0.4444444444444444, \"#bd3786\"], [0.5555555555555556, \"#d8576b\"], [0.6666666666666666, \"#ed7953\"], [0.7777777777777778, \"#fb9f3a\"], [0.8888888888888888, \"#fdca26\"], [1.0, \"#f0f921\"]], \"type\": \"heatmap\"}], \"heatmapgl\": [{\"colorbar\": {\"outlinewidth\": 0, \"ticks\": \"\"}, \"colorscale\": [[0.0, \"#0d0887\"], [0.1111111111111111, \"#46039f\"], [0.2222222222222222, \"#7201a8\"], [0.3333333333333333, \"#9c179e\"], [0.4444444444444444, \"#bd3786\"], [0.5555555555555556, \"#d8576b\"], [0.6666666666666666, \"#ed7953\"], [0.7777777777777778, \"#fb9f3a\"], [0.8888888888888888, \"#fdca26\"], [1.0, \"#f0f921\"]], \"type\": \"heatmapgl\"}], \"histogram\": [{\"marker\": {\"colorbar\": {\"outlinewidth\": 0, \"ticks\": \"\"}}, \"type\": \"histogram\"}], \"histogram2d\": [{\"colorbar\": {\"outlinewidth\": 0, \"ticks\": \"\"}, \"colorscale\": [[0.0, \"#0d0887\"], [0.1111111111111111, \"#46039f\"], [0.2222222222222222, \"#7201a8\"], [0.3333333333333333, \"#9c179e\"], [0.4444444444444444, \"#bd3786\"], [0.5555555555555556, \"#d8576b\"], [0.6666666666666666, \"#ed7953\"], [0.7777777777777778, \"#fb9f3a\"], [0.8888888888888888, \"#fdca26\"], [1.0, \"#f0f921\"]], \"type\": \"histogram2d\"}], \"histogram2dcontour\": [{\"colorbar\": {\"outlinewidth\": 0, \"ticks\": \"\"}, \"colorscale\": [[0.0, \"#0d0887\"], [0.1111111111111111, \"#46039f\"], [0.2222222222222222, \"#7201a8\"], [0.3333333333333333, \"#9c179e\"], [0.4444444444444444, \"#bd3786\"], [0.5555555555555556, \"#d8576b\"], [0.6666666666666666, \"#ed7953\"], [0.7777777777777778, \"#fb9f3a\"], [0.8888888888888888, \"#fdca26\"], [1.0, \"#f0f921\"]], \"type\": \"histogram2dcontour\"}], \"mesh3d\": [{\"colorbar\": {\"outlinewidth\": 0, \"ticks\": \"\"}, \"type\": \"mesh3d\"}], \"parcoords\": [{\"line\": {\"colorbar\": {\"outlinewidth\": 0, \"ticks\": \"\"}}, \"type\": \"parcoords\"}], \"pie\": [{\"automargin\": true, \"type\": \"pie\"}], \"scatter\": [{\"marker\": {\"colorbar\": {\"outlinewidth\": 0, \"ticks\": \"\"}}, \"type\": \"scatter\"}], \"scatter3d\": [{\"line\": {\"colorbar\": {\"outlinewidth\": 0, \"ticks\": \"\"}}, \"marker\": {\"colorbar\": {\"outlinewidth\": 0, \"ticks\": \"\"}}, \"type\": \"scatter3d\"}], \"scattercarpet\": [{\"marker\": {\"colorbar\": {\"outlinewidth\": 0, \"ticks\": \"\"}}, \"type\": \"scattercarpet\"}], \"scattergeo\": [{\"marker\": {\"colorbar\": {\"outlinewidth\": 0, \"ticks\": \"\"}}, \"type\": \"scattergeo\"}], \"scattergl\": [{\"marker\": {\"colorbar\": {\"outlinewidth\": 0, \"ticks\": \"\"}}, \"type\": \"scattergl\"}], \"scattermapbox\": [{\"marker\": {\"colorbar\": {\"outlinewidth\": 0, \"ticks\": \"\"}}, \"type\": \"scattermapbox\"}], \"scatterpolar\": [{\"marker\": {\"colorbar\": {\"outlinewidth\": 0, \"ticks\": \"\"}}, \"type\": \"scatterpolar\"}], \"scatterpolargl\": [{\"marker\": {\"colorbar\": {\"outlinewidth\": 0, \"ticks\": \"\"}}, \"type\": \"scatterpolargl\"}], \"scatterternary\": [{\"marker\": {\"colorbar\": {\"outlinewidth\": 0, \"ticks\": \"\"}}, \"type\": \"scatterternary\"}], \"surface\": [{\"colorbar\": {\"outlinewidth\": 0, \"ticks\": \"\"}, \"colorscale\": [[0.0, \"#0d0887\"], [0.1111111111111111, \"#46039f\"], [0.2222222222222222, \"#7201a8\"], [0.3333333333333333, \"#9c179e\"], [0.4444444444444444, \"#bd3786\"], [0.5555555555555556, \"#d8576b\"], [0.6666666666666666, \"#ed7953\"], [0.7777777777777778, \"#fb9f3a\"], [0.8888888888888888, \"#fdca26\"], [1.0, \"#f0f921\"]], \"type\": \"surface\"}], \"table\": [{\"cells\": {\"fill\": {\"color\": \"#EBF0F8\"}, \"line\": {\"color\": \"white\"}}, \"header\": {\"fill\": {\"color\": \"#C8D4E3\"}, \"line\": {\"color\": \"white\"}}, \"type\": \"table\"}]}, \"layout\": {\"annotationdefaults\": {\"arrowcolor\": \"#2a3f5f\", \"arrowhead\": 0, \"arrowwidth\": 1}, \"autotypenumbers\": \"strict\", \"coloraxis\": {\"colorbar\": {\"outlinewidth\": 0, \"ticks\": \"\"}}, \"colorscale\": {\"diverging\": [[0, \"#8e0152\"], [0.1, \"#c51b7d\"], [0.2, \"#de77ae\"], [0.3, \"#f1b6da\"], [0.4, \"#fde0ef\"], [0.5, \"#f7f7f7\"], [0.6, \"#e6f5d0\"], [0.7, \"#b8e186\"], [0.8, \"#7fbc41\"], [0.9, \"#4d9221\"], [1, \"#276419\"]], \"sequential\": [[0.0, \"#0d0887\"], [0.1111111111111111, \"#46039f\"], [0.2222222222222222, \"#7201a8\"], [0.3333333333333333, \"#9c179e\"], [0.4444444444444444, \"#bd3786\"], [0.5555555555555556, \"#d8576b\"], [0.6666666666666666, \"#ed7953\"], [0.7777777777777778, \"#fb9f3a\"], [0.8888888888888888, \"#fdca26\"], [1.0, \"#f0f921\"]], \"sequentialminus\": [[0.0, \"#0d0887\"], [0.1111111111111111, \"#46039f\"], [0.2222222222222222, \"#7201a8\"], [0.3333333333333333, \"#9c179e\"], [0.4444444444444444, \"#bd3786\"], [0.5555555555555556, \"#d8576b\"], [0.6666666666666666, \"#ed7953\"], [0.7777777777777778, \"#fb9f3a\"], [0.8888888888888888, \"#fdca26\"], [1.0, \"#f0f921\"]]}, \"colorway\": [\"#636efa\", \"#EF553B\", \"#00cc96\", \"#ab63fa\", \"#FFA15A\", \"#19d3f3\", \"#FF6692\", \"#B6E880\", \"#FF97FF\", \"#FECB52\"], \"font\": {\"color\": \"#2a3f5f\"}, \"geo\": {\"bgcolor\": \"white\", \"lakecolor\": \"white\", \"landcolor\": \"#E5ECF6\", \"showlakes\": true, \"showland\": true, \"subunitcolor\": \"white\"}, \"hoverlabel\": {\"align\": \"left\"}, \"hovermode\": \"closest\", \"mapbox\": {\"style\": \"light\"}, \"paper_bgcolor\": \"white\", \"plot_bgcolor\": \"#E5ECF6\", \"polar\": {\"angularaxis\": {\"gridcolor\": \"white\", \"linecolor\": \"white\", \"ticks\": \"\"}, \"bgcolor\": \"#E5ECF6\", \"radialaxis\": {\"gridcolor\": \"white\", \"linecolor\": \"white\", \"ticks\": \"\"}}, \"scene\": {\"xaxis\": {\"backgroundcolor\": \"#E5ECF6\", \"gridcolor\": \"white\", \"gridwidth\": 2, \"linecolor\": \"white\", \"showbackground\": true, \"ticks\": \"\", \"zerolinecolor\": \"white\"}, \"yaxis\": {\"backgroundcolor\": \"#E5ECF6\", \"gridcolor\": \"white\", \"gridwidth\": 2, \"linecolor\": \"white\", \"showbackground\": true, \"ticks\": \"\", \"zerolinecolor\": \"white\"}, \"zaxis\": {\"backgroundcolor\": \"#E5ECF6\", \"gridcolor\": \"white\", \"gridwidth\": 2, \"linecolor\": \"white\", \"showbackground\": true, \"ticks\": \"\", \"zerolinecolor\": \"white\"}}, \"shapedefaults\": {\"line\": {\"color\": \"#2a3f5f\"}}, \"ternary\": {\"aaxis\": {\"gridcolor\": \"white\", \"linecolor\": \"white\", \"ticks\": \"\"}, \"baxis\": {\"gridcolor\": \"white\", \"linecolor\": \"white\", \"ticks\": \"\"}, \"bgcolor\": \"#E5ECF6\", \"caxis\": {\"gridcolor\": \"white\", \"linecolor\": \"white\", \"ticks\": \"\"}}, \"title\": {\"x\": 0.05}, \"xaxis\": {\"automargin\": true, \"gridcolor\": \"white\", \"linecolor\": \"white\", \"ticks\": \"\", \"title\": {\"standoff\": 15}, \"zerolinecolor\": \"white\", \"zerolinewidth\": 2}, \"yaxis\": {\"automargin\": true, \"gridcolor\": \"white\", \"linecolor\": \"white\", \"ticks\": \"\", \"title\": {\"standoff\": 15}, \"zerolinecolor\": \"white\", \"zerolinewidth\": 2}}}, \"title\": {\"text\": \" \\u0433\\u043e\\u0440\\u0438\\u0437\\u043e\\u043d\\u0442\\u0430\\u043b\\u044c\\u043d\\u0430\\u044f \\u043f\\u0440\\u043e\\u043d\\u0438\\u0446\\u0430\\u0435\\u043c\\u043e\\u0441\\u0442\\u044c - 5 \\u043c\\u0414; \\u0430\\u043d\\u0438\\u0437\\u043e\\u0442\\u0440\\u043e\\u043f\\u0438\\u044f - 0.5\"}, \"xaxis\": {\"tickformat\": \"%d.%m.%y\", \"title\": {\"text\": \"\\u0414\\u0430\\u0442\\u0430\"}}, \"yaxis\": {\"title\": {\"text\": \"Q\\u0436, \\u043c3/\\u0441\\u0443\\u0442\"}}},                        {\"responsive\": true}                    ).then(function(){\n",
       "                            \n",
       "var gd = document.getElementById('5ca4977d-aaee-4308-a3ea-ceba2d889ff8');\n",
       "var x = new MutationObserver(function (mutations, observer) {{\n",
       "        var display = window.getComputedStyle(gd).display;\n",
       "        if (!display || display === 'none') {{\n",
       "            console.log([gd, 'removed!']);\n",
       "            Plotly.purge(gd);\n",
       "            observer.disconnect();\n",
       "        }}\n",
       "}});\n",
       "\n",
       "// Listen for the removal of the full notebook cells\n",
       "var notebookContainer = gd.closest('#notebook-container');\n",
       "if (notebookContainer) {{\n",
       "    x.observe(notebookContainer, {childList: true});\n",
       "}}\n",
       "\n",
       "// Listen for the clearing of the current output cell\n",
       "var outputEl = gd.closest('.output');\n",
       "if (outputEl) {{\n",
       "    x.observe(outputEl, {childList: true});\n",
       "}}\n",
       "\n",
       "                        })                };                });            </script>        </div>"
      ]
     },
     "metadata": {},
     "output_type": "display_data"
    }
   ],
   "source": [
    "for i in range(0, 4):\n",
    "    filename = f'TEST_MODEL_HORIZONTAL.{i}1'\n",
    "    rw_ = rw[0] # радиус скважины, м\n",
    "    kh = permx_list[1] # горизонтальная проницаемость, мд\n",
    "    h = nz*dz # мощность пласта, м\n",
    "    L = (y_stop[0]-prod_ys[0])*cells_v # длина горизонтального учатска, м\n",
    "    zw = h-prod_z2s[0] # расстояние от подошвы пласта до ствола, м\n",
    "    re = lx/2 # радиус контура питания, м\n",
    "    figure = figure_plot(filename, rw_, kh, h, kk[i], L, zw, re, lx, ly, skin[0], start_date, model_list[1])\n",
    "\n",
    "    iplot(figure)"
   ]
  },
  {
   "cell_type": "code",
   "execution_count": null,
   "id": "egyptian-dictionary",
   "metadata": {
    "scrolled": false
   },
   "outputs": [],
   "source": [
    "for i in range(0, 4):\n",
    "    filename = f'TEST_MODEL_HORIZONTAL.{i}2'\n",
    "    rw_ = rw[0] # радиус скважины, м\n",
    "    kh = permx_list[2] # горизонтальная проницаемость, мд\n",
    "    h = nz*dz # мощность пласта, м\n",
    "    L = (y_stop[0]-prod_ys[0])*cells_v # длина горизонтального учатска, м\n",
    "    zw = h-prod_z2s[0] # расстояние от подошвы пласта до ствола, м\n",
    "    re = lx/2 # радиус контура питания, м\n",
    "    figure = figure_plot(filename, rw_, kh, h, kk[i], L, zw, re, lx, ly, skin[0], start_date, model_list[2])\n",
    "\n",
    "    iplot(figure)"
   ]
  },
  {
   "cell_type": "code",
   "execution_count": null,
   "id": "swiss-gnome",
   "metadata": {},
   "outputs": [],
   "source": [
    "title = 'Динамика пластового давления по годам'\n",
    "x_axis = 'Дата'\n",
    "y_axis = 'Pпл, атм'\n",
    "model.summ_plot(['FPR'], x_axis=x_axis, y_axis=y_axis, title=title, name=model_list)"
   ]
  }
 ],
 "metadata": {
  "kernelspec": {
   "display_name": "Python 3",
   "language": "python",
   "name": "python3"
  },
  "language_info": {
   "codemirror_mode": {
    "name": "ipython",
    "version": 3
   },
   "file_extension": ".py",
   "mimetype": "text/x-python",
   "name": "python",
   "nbconvert_exporter": "python",
   "pygments_lexer": "ipython3",
   "version": "3.9.1"
  }
 },
 "nbformat": 4,
 "nbformat_minor": 5
}
